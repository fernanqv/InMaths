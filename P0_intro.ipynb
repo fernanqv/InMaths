{
 "cells": [
  {
   "cell_type": "markdown",
   "id": "89e4c580-7cb7-400e-8549-44c7af4a6d65",
   "metadata": {},
   "source": [
    "<div style=\"text-align: center; font-size: 30px;\">\n",
    "Estadística<br/>\n",
    "</div>\n",
    "<div style=\"text-align: center; font-size: 24px;\">\n",
    "Grado en Ingeniería Química - Universidad de Cantabria\n",
    "</div>\n",
    "<div style=\"text-align: center; font-style: italic\">\n",
    "Material elaborado por M. Dolores Frías, Jesús Fernández, Sixto Herrera y Carmen M. Sordo profesores del Departamento de Matemática Aplicada y Ciencias de la Computación.\n",
    "</div>"
   ]
  },
  {
   "cell_type": "markdown",
   "id": "b77abfbd-c549-4202-82df-802ce74d5f59",
   "metadata": {},
   "source": [
    "# Introducción a R\n",
    "\n",
    "[R](http://www.r-project.org) es un lenguaje de programación de código abierto formado por una colección de programas\n",
    "libres (en el sentido [GNU](http://gnu.org/philosophy/free-sw.es.html) diseñada para el\n",
    "análisis estadístico de datos. Permite realizar desde análisis\n",
    "descriptivos sencillos (como tablas de frecuencias simples, cálculo de\n",
    "la media, correlaciones, etc) a procedimientos más complejos (como contraste\n",
    "de hipótesis, análisis de la varianza, el análisis de componentes\n",
    "principales, etc). Solo unas pocas de las posibilidades de análisis que\n",
    "ofrece R serán abordadas en este curso.\n",
    "\n",
    "R permite realizar tres funciones esenciales: (1) leer datos, (2) especificar\n",
    "el tipo de análisis que se quiere realizar con esos datos y (3) mostrar los\n",
    "resultados obtenidos tras los análisis. La selección de una metodología\n",
    "apropiada al caso de estudio, así como la interpretación de los resultados\n",
    "es tarea del investigador o usuario del software. Por este motivo resulta\n",
    "necesario que el usuario conozca el fundamento teórico de los distintos\n",
    "métodos estadísticos disponibles con el objeto de que la aplicación del\n",
    "análisis y la interpretación de los resultados se realice de forma\n",
    "satisfactoria.\n",
    "\n",
    "Se trata de un lenguaje que se ha consolidado en las últimas décadas tanto a nivel académico como a nivel científico. Además, actualmente son muchas las empresas que lo utilizan para ciencia de datos (Facebook, Twiter, Google, Airbnb, IBM etc) ya que permite realizar análisis más avanzados que las tradicionales hojas de cálculo. "
   ]
  },
  {
   "cell_type": "markdown",
   "id": "be9fce17-ff4c-44c6-aa43-476635725c50",
   "metadata": {},
   "source": [
    "<div><img alt=\"Página web del proyecto R\" src=\"./figuras/RStudioWeb.png\" width=\"600\"/></div>\n",
    "\n",
    "*Figura 1: Página web del projecto R. R Core Team. (2023). R: A language and environment for statistical computing. R Foundation for Statistical Computing. https://www.R-project.org/* \n",
    "\n",
    "## Objetivos del curso\n",
    "\n",
    "Con este manual se pretende que el alumno se familiarice con el lenguaje R y sea\n",
    "capaz de utilizarlo como una herramienta de aplicaciones estadísticas a\n",
    "través de las prácticas que se plantean en la asignatura. Para ello se\n",
    "propone al alumno que ejecute cada una de las órdenes de R que se van\n",
    "introduciendo en cada guión de prácticas, así como la realización de\n",
    "los ejercicios propuestos en las secciones ***PRACTICA TÚ MISMO***, los\n",
    "cuáles servirán para asimilar contenidos.\n",
    "\n",
    "Todos los ficheros utilizados en este manual se pueden descargar de la web de\n",
    "la asignatura en la plataforma de Moodle de la Universidad de Cantabria."
   ]
  },
  {
   "cell_type": "markdown",
   "id": "9f150303-34d5-4548-a084-0c8d1a15b864",
   "metadata": {},
   "source": [
    "# Instalación de R\n",
    "\n",
    "Una de las ventajas de R es que es multiplataforma. A continuación se muestran los principales pasos para su instalación en los distintos sistemas operativos.  \n",
    "\n",
    "## Microsoft Windows\n",
    "\n",
    "Sigue los siguientes pasos para la instalación del software:\n",
    "\n",
    " 1. Descarga el fichero ejecutable desde la página del projecto [R](http://cran.r-project.org/bin/windows/base/)\n",
    " 2. Ejecuta el fichero descargado, teniendo en cuenta:\n",
    "     * Cuando pregunta si deseamos establecer opciones de configuración, escoge *Sí*.\n",
    "     * Para el modo de presentación (MDI o SDI), escoge *SDI*\n",
    " 3. Ejecuta el programa R, ya instalado.\n",
    "\n",
    "\n",
    "## Linux\n",
    "\n",
    "A través de la página inicial de R se accede a la\n",
    "descarga de R para diferentes versiones de [Linux](http://cran.r-project.org/bin/linux/): Debian, Fedora, Redhat, Suse y Ubuntu. Se recomienda seguir las instrucciones que se indican en la web en cada uno de los casos. \n",
    "\n",
    "## MacOS\n",
    "\n",
    "Antes de procecer a la instalación de R, repasar en la siguiente [web](http://r.research.att.com/tools/) los requisitos necesarios.\n",
    "A través de este [enlace](http://cran.r-project.org/bin/macosx/) se accede a la instalación de R para MacOS. Seguid las instrucciones indicadas en la misma página web. "
   ]
  },
  {
   "attachments": {},
   "cell_type": "markdown",
   "id": "35398c98-20de-4c63-8577-c25c0ddbb8ac",
   "metadata": {},
   "source": [
    "# Empezando con R\n",
    "\n",
    "El objetivo de esta primera práctica es que el alumno aprenda a manejar el\n",
    "programa R. \n",
    "\n",
    "## Comienzo de sesión\n",
    "\n",
    "Tras arrancar el programa, la interfaz de usuario de R (R GUI, Graphical User Interface) contiene a la *R Console* en la que se indica la versión de R y cómo obtener información acerca de la licencia de uso.\n",
    "\n",
    "<div><img alt=\"R Console\" src=\"./figuras/RConsole.png\" width=\"600\"/></div>\n",
    "\n",
    "*Figura 2: R Console* "
   ]
  },
  {
   "cell_type": "markdown",
   "id": "5309316b-c1d8-496d-ac48-4fe5a0590ca9",
   "metadata": {},
   "source": [
    "Además en la consola se especifican varias órdenes muy útiles para obtener ayuda acerca de las distintas funciones de R como `help()` o `help.start()`.\n",
    "También nos indica como salir de R con la función `q()`.\n",
    "\n",
    "R es interactivo, ya que responde a través de un intérprete a las entradas que recibe en  consola. Como se indica en la Figura anterior, probar por ejemplo a ejecutar la orden *help(mean)* en la consola. Toda la ayuda de la función `mean` se abre en un navegador.  \n",
    "\n"
   ]
  },
  {
   "cell_type": "markdown",
   "id": "40fe9cc2-6648-4d47-bf46-bf9bdc60620f",
   "metadata": {},
   "source": [
    "# RStudio\n",
    "\n",
    "La consola no es la forma más eficiente para trabajar con R, ya que en muchos\n",
    "casos nos interesará corregir entradas de código ya ejecutadas, retocarlas,\n",
    "repetirlas, crear nuestras propias funciones, etc. Existen varias herramientas\n",
    "que permiten trabajar con R de una forma mucho más amigable, creando nuestros\n",
    "propios archivos de código o scripts que podremos guardar en un fichero y\n",
    "recuperar posteriormente. En nuestro caso vamos a utilizar el entorno de desarrollo *Rstudio Desktop* que permite trabajar con R (siempre que hayamos instalado R antes) pero que incluye muchas más funcionalidades. \n",
    "\n",
    "RStudio es una GUI (Graphical User Interface) para R programada en C, multiplataforma (Windows, Linux y Mac) y también libre desarrollada y mantenida por la compañía Posit PBC. Esta herramienta aúna todos los entornos y guarda la filosofía de los comandos aportando\n",
    "algunas ayudas que hacen mas llevadera la programación con R. Otra definición de RStudio es la de un entorno libre y de código abierto de desarrollo integrado (IDE) de R. \n",
    "\n",
    "Entre otras cosas encontramos que RStudio nos permite:\n",
    "1. Abrir varios scripts a la vez.\n",
    "2. Ejecutar pedazos de código con solo marcarlo en los script.\n",
    "3. Mostrar el workspace.\n",
    "4. Mostrar los objetos del workspace.\n",
    "5. Integra la ayuda.\n",
    "6. Integra librerías adicionales que podemos activar en cada sesión.\n",
    "\n",
    "Una vez instalado R en nuestro ordenador, podemos instalar RStudio de forma muy sencilla sin más que ejecutar el archivo que se descarga de su página web: [http://rstudio.org/](http://rstudio.org/). Además, RStudio se puede ejecutar también en la nube a través del siguiente enlace [https://posit.cloud/](https://posit.cloud/). \n",
    "\n",
    "<div><img alt=\"RStudio Desktop\" src=\"./figuras/RStudio.png\" width=\"600\"/></div>\n",
    "\n",
    "*Figura 3: RStudio Desktop* \n",
    "\n",
    "Como se muestra en la figura anterior, con esta herramienta podemos generar nuestro propio script (ventana de\n",
    "edición de comandos que aparece en el cuadrante superior izquierdo) donde iremos escribiendo todas las órdenes de R y que podremos guardar y cerrar en cualquier momento y volver a abrir y usar posteriormente. Si al iniciar\n",
    "RStudio no aparece esta ventana de edición de comandos, podemos abrirla sin\n",
    "más que ir al menu *File -> New File -> R script*\n",
    "o bien clicando en el primer icono de la izquierda que representa un folio en\n",
    "blanco con un símbolo +. De esta manera nos aparecera un editor de texto en\n",
    "blanco donde empezar a escribir los comandos de R que queramos ejecutar. En ese\n",
    "primer cuadrante del entorno de RStudio podemos tener abiertas más de una\n",
    "script de R. "
   ]
  },
  {
   "cell_type": "markdown",
   "id": "a0cef577-bfec-4b04-8135-7fb66f199698",
   "metadata": {},
   "source": [
    "Para trabajar de manera más ordenada, siempre que useis el RStudio instalado en vuestro ordenador, se recomienda primero\n",
    "crear una carpeta de trabajo para las prácticas de esta asignatura. Como norma de buenas prácticas recordar que no se recomienda generar nombres de directorios o ficheros que contengan carácteres extraños como ñ, acentos o espacios en blanco ya que posteriormente al intentar abrirlos desde cualquier lenguaje de programación pueden dar problemas. \n",
    "\n",
    "En la carpeta creada iremos guardando ficheros con el código de R que generemos (scripts), ficheros de datos, gráficas, etc. Una vez creado ese directorio en vuestro ordenador, debemos abrir RStudio e indicar al principio del programa que ese es vuestro directorio de trabajo. Para ello, en la ventana de comandos debemos ejecutar la función `setwd` (**set** **w**orking **d**irectory) indicando el path o la ruta completa del directorio que habéis creado previamente, por ejemplo:\n",
    "\n",
    "```R\n",
    "setwd(\"C:/Escritorio/Estadistica/P0\")\n",
    "\n",
    "```\n",
    "\n",
    "Siempre podemos consultar el contenido de ese directorio desde el propio RStudio ejecutando la orden `dir()`. En la ventana de ejecución (cuadrante inferior izquierdo de RStudio. Ver Figura anterior) aparecerá una lista con todos los ficheros incluidos en ese directorio. \n",
    "\n",
    "Los ficheros con comandos de R tienen extensión .R, por lo que siempre que generermos una script de R debemos guardarla con esa extensión. Desde RStudio ir al menú *File -> Save As...*. \n",
    "\n",
    "Recordar que en cualquier programa creado con cualquier lenguaje de programación debemos añadir comentarios cortos que indiquen que se hace en cada parte del código. En R podemos añadir comentarios empezando la línea con el comando #. \n",
    "\n",
    "Como un ejemplo podemos ejecutar directamente aquí el siguiente código que proporciona el valor medio de un vector formado por los valores 1, 2 y 3. \n"
   ]
  },
  {
   "cell_type": "code",
   "execution_count": 1,
   "id": "9ec658f1-7b67-4136-bb18-5a8c1d01190f",
   "metadata": {},
   "outputs": [
    {
     "data": {
      "text/html": [
       "2"
      ],
      "text/latex": [
       "2"
      ],
      "text/markdown": [
       "2"
      ],
      "text/plain": [
       "[1] 2"
      ]
     },
     "metadata": {},
     "output_type": "display_data"
    }
   ],
   "source": [
    "# Crear vector\n",
    "x <- c(1,2,3)\n",
    "# Calcular la media\n",
    "mean(x)"
   ]
  },
  {
   "cell_type": "markdown",
   "id": "1f19febe-a95a-4ded-abe2-f1db07f05557",
   "metadata": {},
   "source": [
    "Tener en cuenta que R es **sensible a mayúsculas y minúsculas* por lo que x y X serán vectores distintos. \n",
    "\n",
    "Si queremos trabajar con el programa RStudio instalado en nuestro ordenador podemos copiar esas líneas de código y pegarlas en la ventana de comandos de RStudio. Seleccionando esas líneas con el ratón y clicando en el icono `Run` de RStudio o bien con Ctrl+Enter, se ejecutan esas dos órdenes apareciendo el resultado en la ventana de ejecución.  \n",
    "\n",
    "En el cuadrante superior derecho de RStudio (pestaña Environment) nos aparecerán las variables que vayamos creando al ir ejecutando el código de R. Por ejemplo una vez ejecutado el código anterior nos debe aparecer `x` que es el nombre del vector que hemos generado, indicando además que es una variable numérica (*num*) y que tiene tres elementos (*[1:3]*).\n",
    "\n",
    "Notar que el operador de asignaci´on, `<-`, no es el operador habitual en otros lenguajes de programación, (en\n",
    "R el `=` se reserva para otro propósito). La asignación en R consiste en dos caracteres, `<` (menor que) y `-` (guión), que obligatoriamente deben ir unidos y apuntan hacia el objeto que recibe el valor de la expresión (x en este caso). La asignación puede realizarse también mediante la función `assign()`.\n",
    "\n",
    "Una forma equivalente de realizar la asignación anterior es:"
   ]
  },
  {
   "cell_type": "code",
   "execution_count": 2,
   "id": "d60efeea-1d3b-4218-bf97-780bdf6ae88b",
   "metadata": {},
   "outputs": [],
   "source": [
    "assign(\"x\", c(11.2, 4.5, 12.3, 7.8, 10.3))"
   ]
  },
  {
   "cell_type": "markdown",
   "id": "34885ac4-deba-4d65-a40a-db10256cdcd7",
   "metadata": {},
   "source": [
    "El operador usual, `<-`, puede interpretarse como una abreviatura de la función `assign()`. Además\n",
    "cuando se realiza una asignación, el resultado no aparece en la consola como ocurre con el código que acabamos de ejecutar. Para verlo hay que escribir el\n",
    "nombre de la variable y ejecutar esa línea con el nombre o bien al crear una variable escribir todo en\n",
    "la misma línea. Vemos los dos casos:"
   ]
  },
  {
   "cell_type": "code",
   "execution_count": 3,
   "id": "8abc3eef-2570-406c-b578-92be702b20ab",
   "metadata": {},
   "outputs": [
    {
     "data": {
      "text/html": [
       "<style>\n",
       ".list-inline {list-style: none; margin:0; padding: 0}\n",
       ".list-inline>li {display: inline-block}\n",
       ".list-inline>li:not(:last-child)::after {content: \"\\00b7\"; padding: 0 .5ex}\n",
       "</style>\n",
       "<ol class=list-inline><li>11.2</li><li>4.5</li><li>12.3</li><li>7.8</li><li>10.3</li></ol>\n"
      ],
      "text/latex": [
       "\\begin{enumerate*}\n",
       "\\item 11.2\n",
       "\\item 4.5\n",
       "\\item 12.3\n",
       "\\item 7.8\n",
       "\\item 10.3\n",
       "\\end{enumerate*}\n"
      ],
      "text/markdown": [
       "1. 11.2\n",
       "2. 4.5\n",
       "3. 12.3\n",
       "4. 7.8\n",
       "5. 10.3\n",
       "\n",
       "\n"
      ],
      "text/plain": [
       "[1] 11.2  4.5 12.3  7.8 10.3"
      ]
     },
     "metadata": {},
     "output_type": "display_data"
    },
    {
     "data": {
      "text/html": [
       "<style>\n",
       ".list-inline {list-style: none; margin:0; padding: 0}\n",
       ".list-inline>li {display: inline-block}\n",
       ".list-inline>li:not(:last-child)::after {content: \"\\00b7\"; padding: 0 .5ex}\n",
       "</style>\n",
       "<ol class=list-inline><li>1</li><li>2</li><li>3</li></ol>\n"
      ],
      "text/latex": [
       "\\begin{enumerate*}\n",
       "\\item 1\n",
       "\\item 2\n",
       "\\item 3\n",
       "\\end{enumerate*}\n"
      ],
      "text/markdown": [
       "1. 1\n",
       "2. 2\n",
       "3. 3\n",
       "\n",
       "\n"
      ],
      "text/plain": [
       "[1] 1 2 3"
      ]
     },
     "metadata": {},
     "output_type": "display_data"
    }
   ],
   "source": [
    "# Creamos el vector\n",
    "assign(\"x\", c(11.2, 4.5, 12.3, 7.8, 10.3))\n",
    "# Muestra el contenido de x\n",
    "x\n",
    "# Creamos el vector y muestra el contenido en una única línea\n",
    "y <- c(1,2,3); y"
   ]
  },
  {
   "cell_type": "markdown",
   "id": "73ce9b57-495f-4e1b-a70b-f00d9385933a",
   "metadata": {},
   "source": [
    "Observar que para ejecutar varias órdenes en la misma línea estas van separadas con un `;`.\n",
    "\n",
    "Si una expresión se utiliza como una orden por si misma (es decir no se asigna a un nombre de variable), su valor se imprime por pantalla y se pierde ya que no se ha guardado en ninguna variable.\n",
    "\n",
    "Así pues, al ejecutar la orden: "
   ]
  },
  {
   "cell_type": "code",
   "execution_count": 4,
   "id": "3c2a87d8-cf7e-472f-b3f0-c63af6276a44",
   "metadata": {},
   "outputs": [
    {
     "data": {
      "text/html": [
       "<style>\n",
       ".list-inline {list-style: none; margin:0; padding: 0}\n",
       ".list-inline>li {display: inline-block}\n",
       ".list-inline>li:not(:last-child)::after {content: \"\\00b7\"; padding: 0 .5ex}\n",
       "</style>\n",
       "<ol class=list-inline><li>1</li><li>0.5</li><li>0.333333333333333</li></ol>\n"
      ],
      "text/latex": [
       "\\begin{enumerate*}\n",
       "\\item 1\n",
       "\\item 0.5\n",
       "\\item 0.333333333333333\n",
       "\\end{enumerate*}\n"
      ],
      "text/markdown": [
       "1. 1\n",
       "2. 0.5\n",
       "3. 0.333333333333333\n",
       "\n",
       "\n"
      ],
      "text/plain": [
       "[1] 1.0000000 0.5000000 0.3333333"
      ]
     },
     "metadata": {},
     "output_type": "display_data"
    }
   ],
   "source": [
    "1/y"
   ]
  },
  {
   "cell_type": "markdown",
   "id": "5bb01e11-94aa-4cf4-8a9e-bd79314dc5cb",
   "metadata": {},
   "source": [
    "simplemente se muestra en pantalla los inversos de los cinco valores del vector y, \n",
    "al no haberle asignado ningún nombre de variable al resultado, este no queda guardado \n",
    "(no aparece ninguna nueva variable en la pestaña Environment de RStudio). \n",
    "Por supuesto, el valor de y no se modifica."
   ]
  },
  {
   "cell_type": "markdown",
   "id": "e7efa099-fc37-49a4-9dc0-2f63b7f37694",
   "metadata": {},
   "source": [
    "En la esquina inferior derecha de RStudio podemos ver varias pestañas que nos muestran \n",
    "diferentes opciones: \n",
    "\n",
    "1. Files (muestra una lista de los directorios y ficheros contenidos en el directorio \n",
    "          en el que estamos trabajando). \n",
    "2. Plot (ventana en la que se muestran los gráficos que generemos). \n",
    "3. Packages (lista de paquetes activados de R, aquellos marcados con un tick, y otros \n",
    "             adicionales que no están activos pero que se podrían activar en caso de necesitar otras funciones no disponibles en los paquetes que trae R por defecto. Ver *Sección de Instalación y utilización de librerías de R* para más detalles).\n",
    "4. Help: Muestra la ayuda de funciones de R.\n",
    "5. Viewer: En esta ventana se mostrarán mapas y otros elementos como resultado del \n",
    "código ejecutado.\n",
    "6. Presentation: Muestra presentaciones HTML. "
   ]
  },
  {
   "cell_type": "markdown",
   "id": "9d96b659-4690-4d71-bdd7-f0b063eb5b24",
   "metadata": {},
   "source": [
    "# Ayuda en R\n",
    "\n",
    "R ofrece distintas formas de buscar ayuda dependiendo de nuestras necesidades. Todas las opciones de ayuda se mostrarán en la ventana del cuadrante inferior derecho de RStudio, en la pestaña *Ayuda*. Por ejemplo, probar a ejecutar las siguientes opciones de ayuda en la ventana de ejecución de RStudio: "
   ]
  },
  {
   "cell_type": "markdown",
   "id": "4ffb21ff-c189-462e-99ae-1ebc58c73344",
   "metadata": {},
   "source": [
    "`help()` Muestra una ventana de ayuda general sobre R\n",
    "\n",
    "`help.start()` Arranca un manual de ayuda completo en formato html, utilizando el navegador del sistema.\n",
    "\n",
    "`help(mean)` Muestra una ventana de ayuda sobre la función `mean` que calcula la media aritmética.\n",
    "\n",
    "`?mean` Lo mismo que el ejemplo anterior.\n",
    "\n",
    "`help(\"[\")` Muestra una ayuda sobre el carácter [, que es un carácter especial que forma parte del lenguaje R.\n",
    "\n",
    "`apropos(\"mean\")` Muestra las funciones cuyo nombre contenga la cadena de caracteres que se escribe entre comillas, en este caso `mean`.\n",
    "\n",
    "`help.search(\"mean\")` Busca información sobre objetos o funciones que tengan relación con la cadena de caracteres escrita entre comillas en el propio nombre o en las palabras clave de su documentación."
   ]
  },
  {
   "cell_type": "markdown",
   "id": "8358fd34-18d1-44bd-8b50-dee44ba2562b",
   "metadata": {},
   "source": [
    "# Instalación y utilización de librerías en R\n",
    "\n",
    "La instalación básica de R, la que se instala por defecto, contiene un número\n",
    "limitado de librerías que nos permiten aplicar las funciones más\n",
    "habituales. Sin embargo, en muchas ocasiones nos encontramos ante la necesidad\n",
    "de aplicar otro tipo de análisis que no están incluidos en este paquete\n",
    "básico. Dado el caracter libre y colaborativo de este software, en la mayoria\n",
    "de los casos nuestro problema ya ha sido abordado y resuelto por otro usuario\n",
    "el cual ha aportado su solución en forma de librería y la ha puesto a\n",
    "disposición del resto de la comunidad de usuarios de R totalmente libre. Gracias a la filosofía abierta y colaborativa de R, nosotros podemos directamente instalar esas librerías y usarlas. \n",
    "\n",
    "El primer paso, y normalmente el más complejo, es buscar en la red alguna solución a nuestro problema que esté disponible en alguna librería de R. En caso de encontrarla, podemos estar en alguna de estas situaciones:\n",
    "\n",
    "1. El paquete se encuentra en el repositorio denominado **CRAN** (*Comprehensive R Archive Network*). Este sería el caso más sencillo ya que se podría instalar directamente desde RStudio ejecutando la orden `install.packages(\"NombreLibreria\")` donde el nombre de la librería va entre comillas. Una vez instalado el paquete, este se cargará con el comando `library(\"NombreLibreria\")` en la script de R donde se quiera utilizar. La instalación de una librería sólo sería necesaria la primera vez, mientras que la activación o carga de la misma con el comando `library()` debe realizarse siempre que iniciemos una sesión de R en la que queramos aplicar las funciones de una determinada librería ya instalada que no estaba incluida en el paquete básico.\n",
    "2. Si el paquete no está en el repositorio oficial de R, debemos descargar el paquete en local desde la página web que lo ofrece. En el caso de tener que descargar el paquete comprimido, la función de instalación permite también cargar el paquete desde la carpeta local en la que tengamos el archivo comprimido. Dependiendo del Sistema Operativo, el archivo comprimido tendrá una extensión (p.e. .zip en windows), aunque normalmente se define explícitamente a cual corresponde cada una. En este caso debemos ejecutar la orden \n",
    "`install.packages(\"NombreLibreria.tar.gz\",repos=NULL,type=\"source\")`\n",
    "3. Finalmente, podemos querer cargar una función que hayamos programado nosotros mismos o nos hayamos descargado en local, pero que no sea una librería. Para ello podemos usar el comando `source(\"NuestraFuncion.R\")`. El problema de este comando es que hay que volver a aplicarlo siempre que hagamos un cambio en la propia función.\n",
    "\n",
    "Como ejemplo desde RStudio instalaros la librería *ISLR* contenida en CRAN: "
   ]
  },
  {
   "cell_type": "code",
   "execution_count": 5,
   "id": "4e295079-033b-4a5a-921b-6491eff52a43",
   "metadata": {},
   "outputs": [
    {
     "name": "stderr",
     "output_type": "stream",
     "text": [
      "Updating HTML index of packages in '.Library'\n",
      "\n",
      "Making 'packages.html' ...\n",
      " done\n",
      "\n"
     ]
    }
   ],
   "source": [
    "# Instalamos la librería\n",
    "install.packages(\"ISLR\") "
   ]
  },
  {
   "cell_type": "code",
   "execution_count": 6,
   "id": "9a7e48b7-b385-4ed6-bdfc-caf59c83e2e0",
   "metadata": {},
   "outputs": [],
   "source": [
    "# Cargamos la libreria\n",
    "library(\"ISLR\")"
   ]
  },
  {
   "cell_type": "markdown",
   "id": "2199ecc0-aedf-4ef6-8718-bd9d5f9adc6e",
   "metadata": {},
   "source": [
    "Esta librería contiene una colección de bases de datos que se utilizan en el libro *An Introduction to Statistical Learning with Applications in R* de G. James. Una vez instalada y cargada la librería podeis ver los datos que por ejemplo contiene la base de datos *Auto* ejecutando la orden `Auto` en la ventana de comandos de RStudio o bien la orden `help(Auto)`, para ver la descripción de los datos contenidos\n",
    "en esa base. \n",
    "\n"
   ]
  },
  {
   "cell_type": "code",
   "execution_count": 7,
   "id": "22a1177c-f5fb-4c93-8575-39388799043d",
   "metadata": {},
   "outputs": [
    {
     "data": {
      "text/html": [
       "<table class=\"dataframe\">\n",
       "<caption>A data.frame: 392 × 9</caption>\n",
       "<thead>\n",
       "\t<tr><th></th><th scope=col>mpg</th><th scope=col>cylinders</th><th scope=col>displacement</th><th scope=col>horsepower</th><th scope=col>weight</th><th scope=col>acceleration</th><th scope=col>year</th><th scope=col>origin</th><th scope=col>name</th></tr>\n",
       "\t<tr><th></th><th scope=col>&lt;dbl&gt;</th><th scope=col>&lt;dbl&gt;</th><th scope=col>&lt;dbl&gt;</th><th scope=col>&lt;dbl&gt;</th><th scope=col>&lt;dbl&gt;</th><th scope=col>&lt;dbl&gt;</th><th scope=col>&lt;dbl&gt;</th><th scope=col>&lt;dbl&gt;</th><th scope=col>&lt;fct&gt;</th></tr>\n",
       "</thead>\n",
       "<tbody>\n",
       "\t<tr><th scope=row>1</th><td>18</td><td>8</td><td>307</td><td>130</td><td>3504</td><td>12.0</td><td>70</td><td>1</td><td>chevrolet chevelle malibu   </td></tr>\n",
       "\t<tr><th scope=row>2</th><td>15</td><td>8</td><td>350</td><td>165</td><td>3693</td><td>11.5</td><td>70</td><td>1</td><td>buick skylark 320           </td></tr>\n",
       "\t<tr><th scope=row>3</th><td>18</td><td>8</td><td>318</td><td>150</td><td>3436</td><td>11.0</td><td>70</td><td>1</td><td>plymouth satellite          </td></tr>\n",
       "\t<tr><th scope=row>4</th><td>16</td><td>8</td><td>304</td><td>150</td><td>3433</td><td>12.0</td><td>70</td><td>1</td><td>amc rebel sst               </td></tr>\n",
       "\t<tr><th scope=row>5</th><td>17</td><td>8</td><td>302</td><td>140</td><td>3449</td><td>10.5</td><td>70</td><td>1</td><td>ford torino                 </td></tr>\n",
       "\t<tr><th scope=row>6</th><td>15</td><td>8</td><td>429</td><td>198</td><td>4341</td><td>10.0</td><td>70</td><td>1</td><td>ford galaxie 500            </td></tr>\n",
       "\t<tr><th scope=row>7</th><td>14</td><td>8</td><td>454</td><td>220</td><td>4354</td><td> 9.0</td><td>70</td><td>1</td><td>chevrolet impala            </td></tr>\n",
       "\t<tr><th scope=row>8</th><td>14</td><td>8</td><td>440</td><td>215</td><td>4312</td><td> 8.5</td><td>70</td><td>1</td><td>plymouth fury iii           </td></tr>\n",
       "\t<tr><th scope=row>9</th><td>14</td><td>8</td><td>455</td><td>225</td><td>4425</td><td>10.0</td><td>70</td><td>1</td><td>pontiac catalina            </td></tr>\n",
       "\t<tr><th scope=row>10</th><td>15</td><td>8</td><td>390</td><td>190</td><td>3850</td><td> 8.5</td><td>70</td><td>1</td><td>amc ambassador dpl          </td></tr>\n",
       "\t<tr><th scope=row>11</th><td>15</td><td>8</td><td>383</td><td>170</td><td>3563</td><td>10.0</td><td>70</td><td>1</td><td>dodge challenger se         </td></tr>\n",
       "\t<tr><th scope=row>12</th><td>14</td><td>8</td><td>340</td><td>160</td><td>3609</td><td> 8.0</td><td>70</td><td>1</td><td>plymouth 'cuda 340          </td></tr>\n",
       "\t<tr><th scope=row>13</th><td>15</td><td>8</td><td>400</td><td>150</td><td>3761</td><td> 9.5</td><td>70</td><td>1</td><td>chevrolet monte carlo       </td></tr>\n",
       "\t<tr><th scope=row>14</th><td>14</td><td>8</td><td>455</td><td>225</td><td>3086</td><td>10.0</td><td>70</td><td>1</td><td>buick estate wagon (sw)     </td></tr>\n",
       "\t<tr><th scope=row>15</th><td>24</td><td>4</td><td>113</td><td> 95</td><td>2372</td><td>15.0</td><td>70</td><td>3</td><td>toyota corona mark ii       </td></tr>\n",
       "\t<tr><th scope=row>16</th><td>22</td><td>6</td><td>198</td><td> 95</td><td>2833</td><td>15.5</td><td>70</td><td>1</td><td>plymouth duster             </td></tr>\n",
       "\t<tr><th scope=row>17</th><td>18</td><td>6</td><td>199</td><td> 97</td><td>2774</td><td>15.5</td><td>70</td><td>1</td><td>amc hornet                  </td></tr>\n",
       "\t<tr><th scope=row>18</th><td>21</td><td>6</td><td>200</td><td> 85</td><td>2587</td><td>16.0</td><td>70</td><td>1</td><td>ford maverick               </td></tr>\n",
       "\t<tr><th scope=row>19</th><td>27</td><td>4</td><td> 97</td><td> 88</td><td>2130</td><td>14.5</td><td>70</td><td>3</td><td>datsun pl510                </td></tr>\n",
       "\t<tr><th scope=row>20</th><td>26</td><td>4</td><td> 97</td><td> 46</td><td>1835</td><td>20.5</td><td>70</td><td>2</td><td>volkswagen 1131 deluxe sedan</td></tr>\n",
       "\t<tr><th scope=row>21</th><td>25</td><td>4</td><td>110</td><td> 87</td><td>2672</td><td>17.5</td><td>70</td><td>2</td><td>peugeot 504                 </td></tr>\n",
       "\t<tr><th scope=row>22</th><td>24</td><td>4</td><td>107</td><td> 90</td><td>2430</td><td>14.5</td><td>70</td><td>2</td><td>audi 100 ls                 </td></tr>\n",
       "\t<tr><th scope=row>23</th><td>25</td><td>4</td><td>104</td><td> 95</td><td>2375</td><td>17.5</td><td>70</td><td>2</td><td>saab 99e                    </td></tr>\n",
       "\t<tr><th scope=row>24</th><td>26</td><td>4</td><td>121</td><td>113</td><td>2234</td><td>12.5</td><td>70</td><td>2</td><td>bmw 2002                    </td></tr>\n",
       "\t<tr><th scope=row>25</th><td>21</td><td>6</td><td>199</td><td> 90</td><td>2648</td><td>15.0</td><td>70</td><td>1</td><td>amc gremlin                 </td></tr>\n",
       "\t<tr><th scope=row>26</th><td>10</td><td>8</td><td>360</td><td>215</td><td>4615</td><td>14.0</td><td>70</td><td>1</td><td>ford f250                   </td></tr>\n",
       "\t<tr><th scope=row>27</th><td>10</td><td>8</td><td>307</td><td>200</td><td>4376</td><td>15.0</td><td>70</td><td>1</td><td>chevy c20                   </td></tr>\n",
       "\t<tr><th scope=row>28</th><td>11</td><td>8</td><td>318</td><td>210</td><td>4382</td><td>13.5</td><td>70</td><td>1</td><td>dodge d200                  </td></tr>\n",
       "\t<tr><th scope=row>29</th><td> 9</td><td>8</td><td>304</td><td>193</td><td>4732</td><td>18.5</td><td>70</td><td>1</td><td>hi 1200d                    </td></tr>\n",
       "\t<tr><th scope=row>30</th><td>27</td><td>4</td><td> 97</td><td> 88</td><td>2130</td><td>14.5</td><td>71</td><td>3</td><td>datsun pl510                </td></tr>\n",
       "\t<tr><th scope=row>⋮</th><td>⋮</td><td>⋮</td><td>⋮</td><td>⋮</td><td>⋮</td><td>⋮</td><td>⋮</td><td>⋮</td><td>⋮</td></tr>\n",
       "\t<tr><th scope=row>368</th><td>28</td><td>4</td><td>112</td><td> 88</td><td>2605</td><td>19.6</td><td>82</td><td>1</td><td>chevrolet cavalier               </td></tr>\n",
       "\t<tr><th scope=row>369</th><td>27</td><td>4</td><td>112</td><td> 88</td><td>2640</td><td>18.6</td><td>82</td><td>1</td><td>chevrolet cavalier wagon         </td></tr>\n",
       "\t<tr><th scope=row>370</th><td>34</td><td>4</td><td>112</td><td> 88</td><td>2395</td><td>18.0</td><td>82</td><td>1</td><td>chevrolet cavalier 2-door        </td></tr>\n",
       "\t<tr><th scope=row>371</th><td>31</td><td>4</td><td>112</td><td> 85</td><td>2575</td><td>16.2</td><td>82</td><td>1</td><td>pontiac j2000 se hatchback       </td></tr>\n",
       "\t<tr><th scope=row>372</th><td>29</td><td>4</td><td>135</td><td> 84</td><td>2525</td><td>16.0</td><td>82</td><td>1</td><td>dodge aries se                   </td></tr>\n",
       "\t<tr><th scope=row>373</th><td>27</td><td>4</td><td>151</td><td> 90</td><td>2735</td><td>18.0</td><td>82</td><td>1</td><td>pontiac phoenix                  </td></tr>\n",
       "\t<tr><th scope=row>374</th><td>24</td><td>4</td><td>140</td><td> 92</td><td>2865</td><td>16.4</td><td>82</td><td>1</td><td>ford fairmont futura             </td></tr>\n",
       "\t<tr><th scope=row>375</th><td>36</td><td>4</td><td>105</td><td> 74</td><td>1980</td><td>15.3</td><td>82</td><td>2</td><td>volkswagen rabbit l              </td></tr>\n",
       "\t<tr><th scope=row>376</th><td>37</td><td>4</td><td> 91</td><td> 68</td><td>2025</td><td>18.2</td><td>82</td><td>3</td><td>mazda glc custom l               </td></tr>\n",
       "\t<tr><th scope=row>377</th><td>31</td><td>4</td><td> 91</td><td> 68</td><td>1970</td><td>17.6</td><td>82</td><td>3</td><td>mazda glc custom                 </td></tr>\n",
       "\t<tr><th scope=row>378</th><td>38</td><td>4</td><td>105</td><td> 63</td><td>2125</td><td>14.7</td><td>82</td><td>1</td><td>plymouth horizon miser           </td></tr>\n",
       "\t<tr><th scope=row>379</th><td>36</td><td>4</td><td> 98</td><td> 70</td><td>2125</td><td>17.3</td><td>82</td><td>1</td><td>mercury lynx l                   </td></tr>\n",
       "\t<tr><th scope=row>380</th><td>36</td><td>4</td><td>120</td><td> 88</td><td>2160</td><td>14.5</td><td>82</td><td>3</td><td>nissan stanza xe                 </td></tr>\n",
       "\t<tr><th scope=row>381</th><td>36</td><td>4</td><td>107</td><td> 75</td><td>2205</td><td>14.5</td><td>82</td><td>3</td><td>honda accord                     </td></tr>\n",
       "\t<tr><th scope=row>382</th><td>34</td><td>4</td><td>108</td><td> 70</td><td>2245</td><td>16.9</td><td>82</td><td>3</td><td>toyota corolla                   </td></tr>\n",
       "\t<tr><th scope=row>383</th><td>38</td><td>4</td><td> 91</td><td> 67</td><td>1965</td><td>15.0</td><td>82</td><td>3</td><td>honda civic                      </td></tr>\n",
       "\t<tr><th scope=row>384</th><td>32</td><td>4</td><td> 91</td><td> 67</td><td>1965</td><td>15.7</td><td>82</td><td>3</td><td>honda civic (auto)               </td></tr>\n",
       "\t<tr><th scope=row>385</th><td>38</td><td>4</td><td> 91</td><td> 67</td><td>1995</td><td>16.2</td><td>82</td><td>3</td><td>datsun 310 gx                    </td></tr>\n",
       "\t<tr><th scope=row>386</th><td>25</td><td>6</td><td>181</td><td>110</td><td>2945</td><td>16.4</td><td>82</td><td>1</td><td>buick century limited            </td></tr>\n",
       "\t<tr><th scope=row>387</th><td>38</td><td>6</td><td>262</td><td> 85</td><td>3015</td><td>17.0</td><td>82</td><td>1</td><td>oldsmobile cutlass ciera (diesel)</td></tr>\n",
       "\t<tr><th scope=row>388</th><td>26</td><td>4</td><td>156</td><td> 92</td><td>2585</td><td>14.5</td><td>82</td><td>1</td><td>chrysler lebaron medallion       </td></tr>\n",
       "\t<tr><th scope=row>389</th><td>22</td><td>6</td><td>232</td><td>112</td><td>2835</td><td>14.7</td><td>82</td><td>1</td><td>ford granada l                   </td></tr>\n",
       "\t<tr><th scope=row>390</th><td>32</td><td>4</td><td>144</td><td> 96</td><td>2665</td><td>13.9</td><td>82</td><td>3</td><td>toyota celica gt                 </td></tr>\n",
       "\t<tr><th scope=row>391</th><td>36</td><td>4</td><td>135</td><td> 84</td><td>2370</td><td>13.0</td><td>82</td><td>1</td><td>dodge charger 2.2                </td></tr>\n",
       "\t<tr><th scope=row>392</th><td>27</td><td>4</td><td>151</td><td> 90</td><td>2950</td><td>17.3</td><td>82</td><td>1</td><td>chevrolet camaro                 </td></tr>\n",
       "\t<tr><th scope=row>393</th><td>27</td><td>4</td><td>140</td><td> 86</td><td>2790</td><td>15.6</td><td>82</td><td>1</td><td>ford mustang gl                  </td></tr>\n",
       "\t<tr><th scope=row>394</th><td>44</td><td>4</td><td> 97</td><td> 52</td><td>2130</td><td>24.6</td><td>82</td><td>2</td><td>vw pickup                        </td></tr>\n",
       "\t<tr><th scope=row>395</th><td>32</td><td>4</td><td>135</td><td> 84</td><td>2295</td><td>11.6</td><td>82</td><td>1</td><td>dodge rampage                    </td></tr>\n",
       "\t<tr><th scope=row>396</th><td>28</td><td>4</td><td>120</td><td> 79</td><td>2625</td><td>18.6</td><td>82</td><td>1</td><td>ford ranger                      </td></tr>\n",
       "\t<tr><th scope=row>397</th><td>31</td><td>4</td><td>119</td><td> 82</td><td>2720</td><td>19.4</td><td>82</td><td>1</td><td>chevy s-10                       </td></tr>\n",
       "</tbody>\n",
       "</table>\n"
      ],
      "text/latex": [
       "A data.frame: 392 × 9\n",
       "\\begin{tabular}{r|lllllllll}\n",
       "  & mpg & cylinders & displacement & horsepower & weight & acceleration & year & origin & name\\\\\n",
       "  & <dbl> & <dbl> & <dbl> & <dbl> & <dbl> & <dbl> & <dbl> & <dbl> & <fct>\\\\\n",
       "\\hline\n",
       "\t1 & 18 & 8 & 307 & 130 & 3504 & 12.0 & 70 & 1 & chevrolet chevelle malibu   \\\\\n",
       "\t2 & 15 & 8 & 350 & 165 & 3693 & 11.5 & 70 & 1 & buick skylark 320           \\\\\n",
       "\t3 & 18 & 8 & 318 & 150 & 3436 & 11.0 & 70 & 1 & plymouth satellite          \\\\\n",
       "\t4 & 16 & 8 & 304 & 150 & 3433 & 12.0 & 70 & 1 & amc rebel sst               \\\\\n",
       "\t5 & 17 & 8 & 302 & 140 & 3449 & 10.5 & 70 & 1 & ford torino                 \\\\\n",
       "\t6 & 15 & 8 & 429 & 198 & 4341 & 10.0 & 70 & 1 & ford galaxie 500            \\\\\n",
       "\t7 & 14 & 8 & 454 & 220 & 4354 &  9.0 & 70 & 1 & chevrolet impala            \\\\\n",
       "\t8 & 14 & 8 & 440 & 215 & 4312 &  8.5 & 70 & 1 & plymouth fury iii           \\\\\n",
       "\t9 & 14 & 8 & 455 & 225 & 4425 & 10.0 & 70 & 1 & pontiac catalina            \\\\\n",
       "\t10 & 15 & 8 & 390 & 190 & 3850 &  8.5 & 70 & 1 & amc ambassador dpl          \\\\\n",
       "\t11 & 15 & 8 & 383 & 170 & 3563 & 10.0 & 70 & 1 & dodge challenger se         \\\\\n",
       "\t12 & 14 & 8 & 340 & 160 & 3609 &  8.0 & 70 & 1 & plymouth 'cuda 340          \\\\\n",
       "\t13 & 15 & 8 & 400 & 150 & 3761 &  9.5 & 70 & 1 & chevrolet monte carlo       \\\\\n",
       "\t14 & 14 & 8 & 455 & 225 & 3086 & 10.0 & 70 & 1 & buick estate wagon (sw)     \\\\\n",
       "\t15 & 24 & 4 & 113 &  95 & 2372 & 15.0 & 70 & 3 & toyota corona mark ii       \\\\\n",
       "\t16 & 22 & 6 & 198 &  95 & 2833 & 15.5 & 70 & 1 & plymouth duster             \\\\\n",
       "\t17 & 18 & 6 & 199 &  97 & 2774 & 15.5 & 70 & 1 & amc hornet                  \\\\\n",
       "\t18 & 21 & 6 & 200 &  85 & 2587 & 16.0 & 70 & 1 & ford maverick               \\\\\n",
       "\t19 & 27 & 4 &  97 &  88 & 2130 & 14.5 & 70 & 3 & datsun pl510                \\\\\n",
       "\t20 & 26 & 4 &  97 &  46 & 1835 & 20.5 & 70 & 2 & volkswagen 1131 deluxe sedan\\\\\n",
       "\t21 & 25 & 4 & 110 &  87 & 2672 & 17.5 & 70 & 2 & peugeot 504                 \\\\\n",
       "\t22 & 24 & 4 & 107 &  90 & 2430 & 14.5 & 70 & 2 & audi 100 ls                 \\\\\n",
       "\t23 & 25 & 4 & 104 &  95 & 2375 & 17.5 & 70 & 2 & saab 99e                    \\\\\n",
       "\t24 & 26 & 4 & 121 & 113 & 2234 & 12.5 & 70 & 2 & bmw 2002                    \\\\\n",
       "\t25 & 21 & 6 & 199 &  90 & 2648 & 15.0 & 70 & 1 & amc gremlin                 \\\\\n",
       "\t26 & 10 & 8 & 360 & 215 & 4615 & 14.0 & 70 & 1 & ford f250                   \\\\\n",
       "\t27 & 10 & 8 & 307 & 200 & 4376 & 15.0 & 70 & 1 & chevy c20                   \\\\\n",
       "\t28 & 11 & 8 & 318 & 210 & 4382 & 13.5 & 70 & 1 & dodge d200                  \\\\\n",
       "\t29 &  9 & 8 & 304 & 193 & 4732 & 18.5 & 70 & 1 & hi 1200d                    \\\\\n",
       "\t30 & 27 & 4 &  97 &  88 & 2130 & 14.5 & 71 & 3 & datsun pl510                \\\\\n",
       "\t⋮ & ⋮ & ⋮ & ⋮ & ⋮ & ⋮ & ⋮ & ⋮ & ⋮ & ⋮\\\\\n",
       "\t368 & 28 & 4 & 112 &  88 & 2605 & 19.6 & 82 & 1 & chevrolet cavalier               \\\\\n",
       "\t369 & 27 & 4 & 112 &  88 & 2640 & 18.6 & 82 & 1 & chevrolet cavalier wagon         \\\\\n",
       "\t370 & 34 & 4 & 112 &  88 & 2395 & 18.0 & 82 & 1 & chevrolet cavalier 2-door        \\\\\n",
       "\t371 & 31 & 4 & 112 &  85 & 2575 & 16.2 & 82 & 1 & pontiac j2000 se hatchback       \\\\\n",
       "\t372 & 29 & 4 & 135 &  84 & 2525 & 16.0 & 82 & 1 & dodge aries se                   \\\\\n",
       "\t373 & 27 & 4 & 151 &  90 & 2735 & 18.0 & 82 & 1 & pontiac phoenix                  \\\\\n",
       "\t374 & 24 & 4 & 140 &  92 & 2865 & 16.4 & 82 & 1 & ford fairmont futura             \\\\\n",
       "\t375 & 36 & 4 & 105 &  74 & 1980 & 15.3 & 82 & 2 & volkswagen rabbit l              \\\\\n",
       "\t376 & 37 & 4 &  91 &  68 & 2025 & 18.2 & 82 & 3 & mazda glc custom l               \\\\\n",
       "\t377 & 31 & 4 &  91 &  68 & 1970 & 17.6 & 82 & 3 & mazda glc custom                 \\\\\n",
       "\t378 & 38 & 4 & 105 &  63 & 2125 & 14.7 & 82 & 1 & plymouth horizon miser           \\\\\n",
       "\t379 & 36 & 4 &  98 &  70 & 2125 & 17.3 & 82 & 1 & mercury lynx l                   \\\\\n",
       "\t380 & 36 & 4 & 120 &  88 & 2160 & 14.5 & 82 & 3 & nissan stanza xe                 \\\\\n",
       "\t381 & 36 & 4 & 107 &  75 & 2205 & 14.5 & 82 & 3 & honda accord                     \\\\\n",
       "\t382 & 34 & 4 & 108 &  70 & 2245 & 16.9 & 82 & 3 & toyota corolla                   \\\\\n",
       "\t383 & 38 & 4 &  91 &  67 & 1965 & 15.0 & 82 & 3 & honda civic                      \\\\\n",
       "\t384 & 32 & 4 &  91 &  67 & 1965 & 15.7 & 82 & 3 & honda civic (auto)               \\\\\n",
       "\t385 & 38 & 4 &  91 &  67 & 1995 & 16.2 & 82 & 3 & datsun 310 gx                    \\\\\n",
       "\t386 & 25 & 6 & 181 & 110 & 2945 & 16.4 & 82 & 1 & buick century limited            \\\\\n",
       "\t387 & 38 & 6 & 262 &  85 & 3015 & 17.0 & 82 & 1 & oldsmobile cutlass ciera (diesel)\\\\\n",
       "\t388 & 26 & 4 & 156 &  92 & 2585 & 14.5 & 82 & 1 & chrysler lebaron medallion       \\\\\n",
       "\t389 & 22 & 6 & 232 & 112 & 2835 & 14.7 & 82 & 1 & ford granada l                   \\\\\n",
       "\t390 & 32 & 4 & 144 &  96 & 2665 & 13.9 & 82 & 3 & toyota celica gt                 \\\\\n",
       "\t391 & 36 & 4 & 135 &  84 & 2370 & 13.0 & 82 & 1 & dodge charger 2.2                \\\\\n",
       "\t392 & 27 & 4 & 151 &  90 & 2950 & 17.3 & 82 & 1 & chevrolet camaro                 \\\\\n",
       "\t393 & 27 & 4 & 140 &  86 & 2790 & 15.6 & 82 & 1 & ford mustang gl                  \\\\\n",
       "\t394 & 44 & 4 &  97 &  52 & 2130 & 24.6 & 82 & 2 & vw pickup                        \\\\\n",
       "\t395 & 32 & 4 & 135 &  84 & 2295 & 11.6 & 82 & 1 & dodge rampage                    \\\\\n",
       "\t396 & 28 & 4 & 120 &  79 & 2625 & 18.6 & 82 & 1 & ford ranger                      \\\\\n",
       "\t397 & 31 & 4 & 119 &  82 & 2720 & 19.4 & 82 & 1 & chevy s-10                       \\\\\n",
       "\\end{tabular}\n"
      ],
      "text/markdown": [
       "\n",
       "A data.frame: 392 × 9\n",
       "\n",
       "| <!--/--> | mpg &lt;dbl&gt; | cylinders &lt;dbl&gt; | displacement &lt;dbl&gt; | horsepower &lt;dbl&gt; | weight &lt;dbl&gt; | acceleration &lt;dbl&gt; | year &lt;dbl&gt; | origin &lt;dbl&gt; | name &lt;fct&gt; |\n",
       "|---|---|---|---|---|---|---|---|---|---|\n",
       "| 1 | 18 | 8 | 307 | 130 | 3504 | 12.0 | 70 | 1 | chevrolet chevelle malibu    |\n",
       "| 2 | 15 | 8 | 350 | 165 | 3693 | 11.5 | 70 | 1 | buick skylark 320            |\n",
       "| 3 | 18 | 8 | 318 | 150 | 3436 | 11.0 | 70 | 1 | plymouth satellite           |\n",
       "| 4 | 16 | 8 | 304 | 150 | 3433 | 12.0 | 70 | 1 | amc rebel sst                |\n",
       "| 5 | 17 | 8 | 302 | 140 | 3449 | 10.5 | 70 | 1 | ford torino                  |\n",
       "| 6 | 15 | 8 | 429 | 198 | 4341 | 10.0 | 70 | 1 | ford galaxie 500             |\n",
       "| 7 | 14 | 8 | 454 | 220 | 4354 |  9.0 | 70 | 1 | chevrolet impala             |\n",
       "| 8 | 14 | 8 | 440 | 215 | 4312 |  8.5 | 70 | 1 | plymouth fury iii            |\n",
       "| 9 | 14 | 8 | 455 | 225 | 4425 | 10.0 | 70 | 1 | pontiac catalina             |\n",
       "| 10 | 15 | 8 | 390 | 190 | 3850 |  8.5 | 70 | 1 | amc ambassador dpl           |\n",
       "| 11 | 15 | 8 | 383 | 170 | 3563 | 10.0 | 70 | 1 | dodge challenger se          |\n",
       "| 12 | 14 | 8 | 340 | 160 | 3609 |  8.0 | 70 | 1 | plymouth 'cuda 340           |\n",
       "| 13 | 15 | 8 | 400 | 150 | 3761 |  9.5 | 70 | 1 | chevrolet monte carlo        |\n",
       "| 14 | 14 | 8 | 455 | 225 | 3086 | 10.0 | 70 | 1 | buick estate wagon (sw)      |\n",
       "| 15 | 24 | 4 | 113 |  95 | 2372 | 15.0 | 70 | 3 | toyota corona mark ii        |\n",
       "| 16 | 22 | 6 | 198 |  95 | 2833 | 15.5 | 70 | 1 | plymouth duster              |\n",
       "| 17 | 18 | 6 | 199 |  97 | 2774 | 15.5 | 70 | 1 | amc hornet                   |\n",
       "| 18 | 21 | 6 | 200 |  85 | 2587 | 16.0 | 70 | 1 | ford maverick                |\n",
       "| 19 | 27 | 4 |  97 |  88 | 2130 | 14.5 | 70 | 3 | datsun pl510                 |\n",
       "| 20 | 26 | 4 |  97 |  46 | 1835 | 20.5 | 70 | 2 | volkswagen 1131 deluxe sedan |\n",
       "| 21 | 25 | 4 | 110 |  87 | 2672 | 17.5 | 70 | 2 | peugeot 504                  |\n",
       "| 22 | 24 | 4 | 107 |  90 | 2430 | 14.5 | 70 | 2 | audi 100 ls                  |\n",
       "| 23 | 25 | 4 | 104 |  95 | 2375 | 17.5 | 70 | 2 | saab 99e                     |\n",
       "| 24 | 26 | 4 | 121 | 113 | 2234 | 12.5 | 70 | 2 | bmw 2002                     |\n",
       "| 25 | 21 | 6 | 199 |  90 | 2648 | 15.0 | 70 | 1 | amc gremlin                  |\n",
       "| 26 | 10 | 8 | 360 | 215 | 4615 | 14.0 | 70 | 1 | ford f250                    |\n",
       "| 27 | 10 | 8 | 307 | 200 | 4376 | 15.0 | 70 | 1 | chevy c20                    |\n",
       "| 28 | 11 | 8 | 318 | 210 | 4382 | 13.5 | 70 | 1 | dodge d200                   |\n",
       "| 29 |  9 | 8 | 304 | 193 | 4732 | 18.5 | 70 | 1 | hi 1200d                     |\n",
       "| 30 | 27 | 4 |  97 |  88 | 2130 | 14.5 | 71 | 3 | datsun pl510                 |\n",
       "| ⋮ | ⋮ | ⋮ | ⋮ | ⋮ | ⋮ | ⋮ | ⋮ | ⋮ | ⋮ |\n",
       "| 368 | 28 | 4 | 112 |  88 | 2605 | 19.6 | 82 | 1 | chevrolet cavalier                |\n",
       "| 369 | 27 | 4 | 112 |  88 | 2640 | 18.6 | 82 | 1 | chevrolet cavalier wagon          |\n",
       "| 370 | 34 | 4 | 112 |  88 | 2395 | 18.0 | 82 | 1 | chevrolet cavalier 2-door         |\n",
       "| 371 | 31 | 4 | 112 |  85 | 2575 | 16.2 | 82 | 1 | pontiac j2000 se hatchback        |\n",
       "| 372 | 29 | 4 | 135 |  84 | 2525 | 16.0 | 82 | 1 | dodge aries se                    |\n",
       "| 373 | 27 | 4 | 151 |  90 | 2735 | 18.0 | 82 | 1 | pontiac phoenix                   |\n",
       "| 374 | 24 | 4 | 140 |  92 | 2865 | 16.4 | 82 | 1 | ford fairmont futura              |\n",
       "| 375 | 36 | 4 | 105 |  74 | 1980 | 15.3 | 82 | 2 | volkswagen rabbit l               |\n",
       "| 376 | 37 | 4 |  91 |  68 | 2025 | 18.2 | 82 | 3 | mazda glc custom l                |\n",
       "| 377 | 31 | 4 |  91 |  68 | 1970 | 17.6 | 82 | 3 | mazda glc custom                  |\n",
       "| 378 | 38 | 4 | 105 |  63 | 2125 | 14.7 | 82 | 1 | plymouth horizon miser            |\n",
       "| 379 | 36 | 4 |  98 |  70 | 2125 | 17.3 | 82 | 1 | mercury lynx l                    |\n",
       "| 380 | 36 | 4 | 120 |  88 | 2160 | 14.5 | 82 | 3 | nissan stanza xe                  |\n",
       "| 381 | 36 | 4 | 107 |  75 | 2205 | 14.5 | 82 | 3 | honda accord                      |\n",
       "| 382 | 34 | 4 | 108 |  70 | 2245 | 16.9 | 82 | 3 | toyota corolla                    |\n",
       "| 383 | 38 | 4 |  91 |  67 | 1965 | 15.0 | 82 | 3 | honda civic                       |\n",
       "| 384 | 32 | 4 |  91 |  67 | 1965 | 15.7 | 82 | 3 | honda civic (auto)                |\n",
       "| 385 | 38 | 4 |  91 |  67 | 1995 | 16.2 | 82 | 3 | datsun 310 gx                     |\n",
       "| 386 | 25 | 6 | 181 | 110 | 2945 | 16.4 | 82 | 1 | buick century limited             |\n",
       "| 387 | 38 | 6 | 262 |  85 | 3015 | 17.0 | 82 | 1 | oldsmobile cutlass ciera (diesel) |\n",
       "| 388 | 26 | 4 | 156 |  92 | 2585 | 14.5 | 82 | 1 | chrysler lebaron medallion        |\n",
       "| 389 | 22 | 6 | 232 | 112 | 2835 | 14.7 | 82 | 1 | ford granada l                    |\n",
       "| 390 | 32 | 4 | 144 |  96 | 2665 | 13.9 | 82 | 3 | toyota celica gt                  |\n",
       "| 391 | 36 | 4 | 135 |  84 | 2370 | 13.0 | 82 | 1 | dodge charger 2.2                 |\n",
       "| 392 | 27 | 4 | 151 |  90 | 2950 | 17.3 | 82 | 1 | chevrolet camaro                  |\n",
       "| 393 | 27 | 4 | 140 |  86 | 2790 | 15.6 | 82 | 1 | ford mustang gl                   |\n",
       "| 394 | 44 | 4 |  97 |  52 | 2130 | 24.6 | 82 | 2 | vw pickup                         |\n",
       "| 395 | 32 | 4 | 135 |  84 | 2295 | 11.6 | 82 | 1 | dodge rampage                     |\n",
       "| 396 | 28 | 4 | 120 |  79 | 2625 | 18.6 | 82 | 1 | ford ranger                       |\n",
       "| 397 | 31 | 4 | 119 |  82 | 2720 | 19.4 | 82 | 1 | chevy s-10                        |\n",
       "\n"
      ],
      "text/plain": [
       "    mpg cylinders displacement horsepower weight acceleration year origin\n",
       "1   18  8         307          130        3504   12.0         70   1     \n",
       "2   15  8         350          165        3693   11.5         70   1     \n",
       "3   18  8         318          150        3436   11.0         70   1     \n",
       "4   16  8         304          150        3433   12.0         70   1     \n",
       "5   17  8         302          140        3449   10.5         70   1     \n",
       "6   15  8         429          198        4341   10.0         70   1     \n",
       "7   14  8         454          220        4354    9.0         70   1     \n",
       "8   14  8         440          215        4312    8.5         70   1     \n",
       "9   14  8         455          225        4425   10.0         70   1     \n",
       "10  15  8         390          190        3850    8.5         70   1     \n",
       "11  15  8         383          170        3563   10.0         70   1     \n",
       "12  14  8         340          160        3609    8.0         70   1     \n",
       "13  15  8         400          150        3761    9.5         70   1     \n",
       "14  14  8         455          225        3086   10.0         70   1     \n",
       "15  24  4         113           95        2372   15.0         70   3     \n",
       "16  22  6         198           95        2833   15.5         70   1     \n",
       "17  18  6         199           97        2774   15.5         70   1     \n",
       "18  21  6         200           85        2587   16.0         70   1     \n",
       "19  27  4          97           88        2130   14.5         70   3     \n",
       "20  26  4          97           46        1835   20.5         70   2     \n",
       "21  25  4         110           87        2672   17.5         70   2     \n",
       "22  24  4         107           90        2430   14.5         70   2     \n",
       "23  25  4         104           95        2375   17.5         70   2     \n",
       "24  26  4         121          113        2234   12.5         70   2     \n",
       "25  21  6         199           90        2648   15.0         70   1     \n",
       "26  10  8         360          215        4615   14.0         70   1     \n",
       "27  10  8         307          200        4376   15.0         70   1     \n",
       "28  11  8         318          210        4382   13.5         70   1     \n",
       "29   9  8         304          193        4732   18.5         70   1     \n",
       "30  27  4          97           88        2130   14.5         71   3     \n",
       "⋮   ⋮   ⋮         ⋮            ⋮          ⋮      ⋮            ⋮    ⋮     \n",
       "368 28  4         112           88        2605   19.6         82   1     \n",
       "369 27  4         112           88        2640   18.6         82   1     \n",
       "370 34  4         112           88        2395   18.0         82   1     \n",
       "371 31  4         112           85        2575   16.2         82   1     \n",
       "372 29  4         135           84        2525   16.0         82   1     \n",
       "373 27  4         151           90        2735   18.0         82   1     \n",
       "374 24  4         140           92        2865   16.4         82   1     \n",
       "375 36  4         105           74        1980   15.3         82   2     \n",
       "376 37  4          91           68        2025   18.2         82   3     \n",
       "377 31  4          91           68        1970   17.6         82   3     \n",
       "378 38  4         105           63        2125   14.7         82   1     \n",
       "379 36  4          98           70        2125   17.3         82   1     \n",
       "380 36  4         120           88        2160   14.5         82   3     \n",
       "381 36  4         107           75        2205   14.5         82   3     \n",
       "382 34  4         108           70        2245   16.9         82   3     \n",
       "383 38  4          91           67        1965   15.0         82   3     \n",
       "384 32  4          91           67        1965   15.7         82   3     \n",
       "385 38  4          91           67        1995   16.2         82   3     \n",
       "386 25  6         181          110        2945   16.4         82   1     \n",
       "387 38  6         262           85        3015   17.0         82   1     \n",
       "388 26  4         156           92        2585   14.5         82   1     \n",
       "389 22  6         232          112        2835   14.7         82   1     \n",
       "390 32  4         144           96        2665   13.9         82   3     \n",
       "391 36  4         135           84        2370   13.0         82   1     \n",
       "392 27  4         151           90        2950   17.3         82   1     \n",
       "393 27  4         140           86        2790   15.6         82   1     \n",
       "394 44  4          97           52        2130   24.6         82   2     \n",
       "395 32  4         135           84        2295   11.6         82   1     \n",
       "396 28  4         120           79        2625   18.6         82   1     \n",
       "397 31  4         119           82        2720   19.4         82   1     \n",
       "    name                             \n",
       "1   chevrolet chevelle malibu        \n",
       "2   buick skylark 320                \n",
       "3   plymouth satellite               \n",
       "4   amc rebel sst                    \n",
       "5   ford torino                      \n",
       "6   ford galaxie 500                 \n",
       "7   chevrolet impala                 \n",
       "8   plymouth fury iii                \n",
       "9   pontiac catalina                 \n",
       "10  amc ambassador dpl               \n",
       "11  dodge challenger se              \n",
       "12  plymouth 'cuda 340               \n",
       "13  chevrolet monte carlo            \n",
       "14  buick estate wagon (sw)          \n",
       "15  toyota corona mark ii            \n",
       "16  plymouth duster                  \n",
       "17  amc hornet                       \n",
       "18  ford maverick                    \n",
       "19  datsun pl510                     \n",
       "20  volkswagen 1131 deluxe sedan     \n",
       "21  peugeot 504                      \n",
       "22  audi 100 ls                      \n",
       "23  saab 99e                         \n",
       "24  bmw 2002                         \n",
       "25  amc gremlin                      \n",
       "26  ford f250                        \n",
       "27  chevy c20                        \n",
       "28  dodge d200                       \n",
       "29  hi 1200d                         \n",
       "30  datsun pl510                     \n",
       "⋮   ⋮                                \n",
       "368 chevrolet cavalier               \n",
       "369 chevrolet cavalier wagon         \n",
       "370 chevrolet cavalier 2-door        \n",
       "371 pontiac j2000 se hatchback       \n",
       "372 dodge aries se                   \n",
       "373 pontiac phoenix                  \n",
       "374 ford fairmont futura             \n",
       "375 volkswagen rabbit l              \n",
       "376 mazda glc custom l               \n",
       "377 mazda glc custom                 \n",
       "378 plymouth horizon miser           \n",
       "379 mercury lynx l                   \n",
       "380 nissan stanza xe                 \n",
       "381 honda accord                     \n",
       "382 toyota corolla                   \n",
       "383 honda civic                      \n",
       "384 honda civic (auto)               \n",
       "385 datsun 310 gx                    \n",
       "386 buick century limited            \n",
       "387 oldsmobile cutlass ciera (diesel)\n",
       "388 chrysler lebaron medallion       \n",
       "389 ford granada l                   \n",
       "390 toyota celica gt                 \n",
       "391 dodge charger 2.2                \n",
       "392 chevrolet camaro                 \n",
       "393 ford mustang gl                  \n",
       "394 vw pickup                        \n",
       "395 dodge rampage                    \n",
       "396 ford ranger                      \n",
       "397 chevy s-10                       "
      ]
     },
     "metadata": {},
     "output_type": "display_data"
    }
   ],
   "source": [
    "Auto"
   ]
  },
  {
   "cell_type": "code",
   "execution_count": 8,
   "id": "8c6078db-3bdd-419e-b374-03aa76d2bb33",
   "metadata": {},
   "outputs": [
    {
     "data": {
      "text/html": [
       "\n",
       "<table style=\"width: 100%;\"><tr><td>Auto {ISLR}</td><td style=\"text-align: right;\">R Documentation</td></tr></table>\n",
       "\n",
       "<h2 id='Auto'>\n",
       "Auto Data Set\n",
       "</h2>\n",
       "\n",
       "<h3>Description</h3>\n",
       "\n",
       "<p>Gas mileage, horsepower, and other information for 392 vehicles.</p>\n",
       "\n",
       "\n",
       "<h3>Usage</h3>\n",
       "\n",
       "<pre><code class='language-R'>Auto</code></pre>\n",
       "\n",
       "\n",
       "<h3>Format</h3>\n",
       "\n",
       "<p>A data frame with 392 observations on the following 9 variables.\n",
       "</p>\n",
       "\n",
       "<dl>\n",
       "<dt><code>mpg</code></dt><dd><p>miles per gallon</p>\n",
       "</dd>\n",
       "<dt><code>cylinders</code></dt><dd><p>Number of cylinders between 4 and 8</p>\n",
       "</dd>\n",
       "<dt><code>displacement</code></dt><dd><p>Engine displacement (cu. inches)</p>\n",
       "</dd>\n",
       "<dt><code>horsepower</code></dt><dd><p>Engine horsepower</p>\n",
       "</dd>\n",
       "<dt><code>weight</code></dt><dd><p>Vehicle weight (lbs.)</p>\n",
       "</dd>\n",
       "<dt><code>acceleration</code></dt><dd><p>Time to accelerate from 0 to 60 mph (sec.)</p>\n",
       "</dd>\n",
       "<dt><code>year</code></dt><dd><p>Model year (modulo 100)</p>\n",
       "</dd>\n",
       "<dt><code>origin</code></dt><dd><p>Origin of car (1. American, 2. European, 3. Japanese)</p>\n",
       "</dd>\n",
       "<dt><code>name</code></dt><dd><p>Vehicle name</p>\n",
       "</dd></dl>\n",
       "\n",
       "<p>The orginal data contained 408 observations but 16 observations with\n",
       "missing values were removed.</p>\n",
       "\n",
       "\n",
       "<h3>Source</h3>\n",
       "\n",
       "<p>This dataset was taken from the StatLib library which is maintained at Carnegie Mellon University. The dataset was used in the 1983 American Statistical Association Exposition.\n",
       "</p>\n",
       "\n",
       "\n",
       "<h3>References</h3>\n",
       "\n",
       "<p>James, G., Witten, D., Hastie, T., and Tibshirani, R. (2013)\n",
       "<em>An Introduction to Statistical Learning with applications in R</em>,\n",
       "<a href=\"https://www.statlearning.com\">https://www.statlearning.com</a>,\n",
       "Springer-Verlag, New York\n",
       "</p>\n",
       "\n",
       "\n",
       "<h3>Examples</h3>\n",
       "\n",
       "<pre><code class='language-R'>pairs(Auto)\n",
       "attach(Auto)\n",
       "hist(mpg)\n",
       "</code></pre>\n",
       "\n",
       "<hr /><div style=\"text-align: center;\">[Package <em>ISLR</em> version 1.4 ]</div>\n",
       "</div>"
      ],
      "text/latex": [
       "\\inputencoding{utf8}\n",
       "\\HeaderA{Auto}{Auto Data Set}{Auto}\n",
       "\\keyword{datasets}{Auto}\n",
       "%\n",
       "\\begin{Description}\n",
       "Gas mileage, horsepower, and other information for 392 vehicles.\n",
       "\\end{Description}\n",
       "%\n",
       "\\begin{Usage}\n",
       "\\begin{verbatim}\n",
       "Auto\n",
       "\\end{verbatim}\n",
       "\\end{Usage}\n",
       "%\n",
       "\\begin{Format}\n",
       "A data frame with 392 observations on the following 9 variables.\n",
       "\\begin{description}\n",
       "\n",
       "\\item[\\code{mpg}] miles per gallon\n",
       "\\item[\\code{cylinders}] Number of cylinders between 4 and 8\n",
       "\\item[\\code{displacement}] Engine displacement (cu. inches)\n",
       "\\item[\\code{horsepower}] Engine horsepower\n",
       "\\item[\\code{weight}] Vehicle weight (lbs.)\n",
       "\\item[\\code{acceleration}] Time to accelerate from 0 to 60 mph (sec.)\n",
       "\\item[\\code{year}] Model year (modulo 100)\n",
       "\\item[\\code{origin}] Origin of car (1. American, 2. European, 3. Japanese)\n",
       "\\item[\\code{name}] Vehicle name\n",
       "\\end{description}\n",
       "\n",
       "\n",
       "The orginal data contained 408 observations but 16 observations with\n",
       "missing values were removed.\n",
       "\\end{Format}\n",
       "%\n",
       "\\begin{Source}\n",
       "This dataset was taken from the StatLib library which is maintained at Carnegie Mellon University. The dataset was used in the 1983 American Statistical Association Exposition.\n",
       "\\end{Source}\n",
       "%\n",
       "\\begin{References}\n",
       "James, G., Witten, D., Hastie, T., and Tibshirani, R. (2013)\n",
       "\\emph{An Introduction to Statistical Learning with applications in R},\n",
       "\\url{https://www.statlearning.com},\n",
       "Springer-Verlag, New York\n",
       "\\end{References}\n",
       "%\n",
       "\\begin{Examples}\n",
       "\\begin{ExampleCode}\n",
       "pairs(Auto)\n",
       "attach(Auto)\n",
       "hist(mpg)\n",
       "\\end{ExampleCode}\n",
       "\\end{Examples}"
      ],
      "text/plain": [
       "Auto                   package:ISLR                    R Documentation\n",
       "\n",
       "_\bA_\bu_\bt_\bo _\bD_\ba_\bt_\ba _\bS_\be_\bt\n",
       "\n",
       "_\bD_\be_\bs_\bc_\br_\bi_\bp_\bt_\bi_\bo_\bn:\n",
       "\n",
       "     Gas mileage, horsepower, and other information for 392 vehicles.\n",
       "\n",
       "_\bU_\bs_\ba_\bg_\be:\n",
       "\n",
       "     Auto\n",
       "     \n",
       "_\bF_\bo_\br_\bm_\ba_\bt:\n",
       "\n",
       "     A data frame with 392 observations on the following 9 variables.\n",
       "\n",
       "     ‘mpg’ miles per gallon\n",
       "\n",
       "     ‘cylinders’ Number of cylinders between 4 and 8\n",
       "\n",
       "     ‘displacement’ Engine displacement (cu. inches)\n",
       "\n",
       "     ‘horsepower’ Engine horsepower\n",
       "\n",
       "     ‘weight’ Vehicle weight (lbs.)\n",
       "\n",
       "     ‘acceleration’ Time to accelerate from 0 to 60 mph (sec.)\n",
       "\n",
       "     ‘year’ Model year (modulo 100)\n",
       "\n",
       "     ‘origin’ Origin of car (1. American, 2. European, 3. Japanese)\n",
       "\n",
       "     ‘name’ Vehicle name\n",
       "\n",
       "     The orginal data contained 408 observations but 16 observations\n",
       "     with missing values were removed.\n",
       "\n",
       "_\bS_\bo_\bu_\br_\bc_\be:\n",
       "\n",
       "     This dataset was taken from the StatLib library which is\n",
       "     maintained at Carnegie Mellon University. The dataset was used in\n",
       "     the 1983 American Statistical Association Exposition.\n",
       "\n",
       "_\bR_\be_\bf_\be_\br_\be_\bn_\bc_\be_\bs:\n",
       "\n",
       "     James, G., Witten, D., Hastie, T., and Tibshirani, R. (2013) _An\n",
       "     Introduction to Statistical Learning with applications in R_,\n",
       "     <https://www.statlearning.com>, Springer-Verlag, New York\n",
       "\n",
       "_\bE_\bx_\ba_\bm_\bp_\bl_\be_\bs:\n",
       "\n",
       "     pairs(Auto)\n",
       "     attach(Auto)\n",
       "     hist(mpg)\n",
       "     "
      ]
     },
     "metadata": {},
     "output_type": "display_data"
    }
   ],
   "source": [
    "help(Auto)"
   ]
  },
  {
   "cell_type": "markdown",
   "id": "e8a8d47b-a5a8-49b7-9d49-bb37f7dc7db6",
   "metadata": {},
   "source": [
    "Como se describe en la ayuda, se trata de una base de datos de 392\n",
    "vehículos de 9 variables distintas. Usaremos esta base de datos en un ejemplo posterior.  "
   ]
  },
  {
   "cell_type": "markdown",
   "id": "7fc4c65b-5473-42d2-a763-d4c01e199297",
   "metadata": {},
   "source": [
    "# Tipos y estructuras de datos en R\n",
    "\n",
    "Los tipos de datos más comunes en R son:\n",
    "\n",
    "1. Numérico: Datos que contienen números reales.\n",
    "2. Lógico: Datos que sólo permiten valores lógicos de verdadero (TRUE) o falso (FALSE).\n",
    "3. Complejos: Datos que contienen números complejos. \n",
    "4. Carácter: Datos que contienen cualquier tipo de carácter. \n",
    "\n",
    "Con la función `mode()` de R podemos saber el tipo de datos de los siguientes\n",
    "elementos que vamos a crear: "
   ]
  },
  {
   "cell_type": "code",
   "execution_count": 9,
   "id": "a1eec8b5-d18a-4989-96b8-8e59b272218a",
   "metadata": {},
   "outputs": [
    {
     "data": {
      "text/html": [
       "'numeric'"
      ],
      "text/latex": [
       "'numeric'"
      ],
      "text/markdown": [
       "'numeric'"
      ],
      "text/plain": [
       "[1] \"numeric\""
      ]
     },
     "metadata": {},
     "output_type": "display_data"
    }
   ],
   "source": [
    "# Tipo numerico\n",
    "x1 <- 2\n",
    "mode(x1)  # numeric"
   ]
  },
  {
   "cell_type": "code",
   "execution_count": 10,
   "id": "cccd3047-2dc5-4fe8-b611-6e6b2d96a2e4",
   "metadata": {},
   "outputs": [
    {
     "data": {
      "text/html": [
       "'logical'"
      ],
      "text/latex": [
       "'logical'"
      ],
      "text/markdown": [
       "'logical'"
      ],
      "text/plain": [
       "[1] \"logical\""
      ]
     },
     "metadata": {},
     "output_type": "display_data"
    }
   ],
   "source": [
    "# Tipo logico\n",
    "x2 <- TRUE  \n",
    "mode(x2)  # logical"
   ]
  },
  {
   "cell_type": "code",
   "execution_count": 11,
   "id": "a2299d1c-ac6c-464c-8cb3-35564b71c5ac",
   "metadata": {},
   "outputs": [
    {
     "data": {
      "text/html": [
       "'complex'"
      ],
      "text/latex": [
       "'complex'"
      ],
      "text/markdown": [
       "'complex'"
      ],
      "text/plain": [
       "[1] \"complex\""
      ]
     },
     "metadata": {},
     "output_type": "display_data"
    }
   ],
   "source": [
    "# Tipo complejo\n",
    "x3 <- 3+4i  \n",
    "mode(x3)  # complex"
   ]
  },
  {
   "cell_type": "code",
   "execution_count": 12,
   "id": "70ea43ac-db1e-47a2-a56b-ec745751b7f6",
   "metadata": {},
   "outputs": [
    {
     "data": {
      "text/html": [
       "'character'"
      ],
      "text/latex": [
       "'character'"
      ],
      "text/markdown": [
       "'character'"
      ],
      "text/plain": [
       "[1] \"character\""
      ]
     },
     "metadata": {},
     "output_type": "display_data"
    }
   ],
   "source": [
    "# Tipo caracter\n",
    "x4 <- \"Ana\"\n",
    "mode(x4)  # character"
   ]
  },
  {
   "cell_type": "markdown",
   "id": "2def27ba-b5a2-4d3f-9c10-e429baefcc1b",
   "metadata": {},
   "source": [
    "R utiliza diferentes estructuras de datos que veremos en detalle en las secciones siguientes:\n",
    " \n",
    "1. **Vectores**: Son matrices de una dimensión que únicamente pueden contener valores del mismo tipo ya sean numéricos, alfanuméricos o valores lógicos. Como ya sabemos para formar vectores se emplea la función `c()` (contracción de la función `combine()`). \n",
    "2. **Matrices**: Estructura bidimensional con el atributo *dim*, que define el número de filas y columnas. Se crean con la funcion `matrix()`.\n",
    "3. **Arrays**: Similar a las matrices pero pueden tener más de dos dimensiones.\n",
    "4. **Factores**: Es un tipo de vector especial para representar variables categóricas. \n",
    "5. **Listas**: Colección ordenada de datos donde los elementos almacenados pueden ser de diferente tipo y tamaño.\n",
    "6. **Tabla de datos** (*Data frame*): Generalización de las matrices, donde cada columna puede almacenar un tipo de dato diferente, conservando la misma longitud.\n",
    "\n",
    "La función `class()` que utilizaremos en las siguientes secciones, nos indica la clase a la que pertenece cada uno de estos objetos. "
   ]
  },
  {
   "cell_type": "markdown",
   "id": "f8cec81c-f3de-4b11-b400-d62d99975400",
   "metadata": {},
   "source": [
    "## Vectores\n",
    "\n",
    "La estructura más simple en R es el vector, que es una colección de elementos del mismo tipo. Para crear un vector, x, consistente en cinco números, por ejemplo 11.2, 4.5, 12.3, 7.8 y 10.3, usamos la función `c()` separando los elementos por comas: "
   ]
  },
  {
   "cell_type": "code",
   "execution_count": 13,
   "id": "8222482f-1acf-40dc-bd79-e09cb502536a",
   "metadata": {},
   "outputs": [
    {
     "data": {
      "text/html": [
       "<style>\n",
       ".list-inline {list-style: none; margin:0; padding: 0}\n",
       ".list-inline>li {display: inline-block}\n",
       ".list-inline>li:not(:last-child)::after {content: \"\\00b7\"; padding: 0 .5ex}\n",
       "</style>\n",
       "<ol class=list-inline><li>11.2</li><li>4.5</li><li>12.3</li><li>7.8</li><li>10.3</li></ol>\n"
      ],
      "text/latex": [
       "\\begin{enumerate*}\n",
       "\\item 11.2\n",
       "\\item 4.5\n",
       "\\item 12.3\n",
       "\\item 7.8\n",
       "\\item 10.3\n",
       "\\end{enumerate*}\n"
      ],
      "text/markdown": [
       "1. 11.2\n",
       "2. 4.5\n",
       "3. 12.3\n",
       "4. 7.8\n",
       "5. 10.3\n",
       "\n",
       "\n"
      ],
      "text/plain": [
       "[1] 11.2  4.5 12.3  7.8 10.3"
      ]
     },
     "metadata": {},
     "output_type": "display_data"
    }
   ],
   "source": [
    "x <- c(11.2, 4.5, 12.3, 7.8, 10.3); x"
   ]
  },
  {
   "cell_type": "markdown",
   "id": "fb4096b5-45e5-4c5a-890a-4123dec4384c",
   "metadata": {},
   "source": [
    "Un número, por si mismo, se considera un vector de longitud uno.\n",
    "\n",
    "Si a continuación se hace la asignación:"
   ]
  },
  {
   "cell_type": "code",
   "execution_count": 14,
   "id": "d1459b25-087c-4083-9a56-1e92547c0baf",
   "metadata": {},
   "outputs": [],
   "source": [
    "y <- c(x, 0, x)"
   ]
  },
  {
   "cell_type": "markdown",
   "id": "08dde711-c545-4af1-868b-e4cdd226d56d",
   "metadata": {},
   "source": [
    "se creará un vector, y, con 11 elementos, consistentes en dos copias de x con un cero entre ambas. Recordar que si se realiza una asignación, el resultado no se imprime en pantalla. Para verlo hay que llamar a la nueva variable creada:"
   ]
  },
  {
   "cell_type": "code",
   "execution_count": 15,
   "id": "791b4d60-c892-42d7-a1f4-bbb99d54ab84",
   "metadata": {},
   "outputs": [
    {
     "data": {
      "text/html": [
       "<style>\n",
       ".list-inline {list-style: none; margin:0; padding: 0}\n",
       ".list-inline>li {display: inline-block}\n",
       ".list-inline>li:not(:last-child)::after {content: \"\\00b7\"; padding: 0 .5ex}\n",
       "</style>\n",
       "<ol class=list-inline><li>11.2</li><li>4.5</li><li>12.3</li><li>7.8</li><li>10.3</li><li>0</li><li>11.2</li><li>4.5</li><li>12.3</li><li>7.8</li><li>10.3</li></ol>\n"
      ],
      "text/latex": [
       "\\begin{enumerate*}\n",
       "\\item 11.2\n",
       "\\item 4.5\n",
       "\\item 12.3\n",
       "\\item 7.8\n",
       "\\item 10.3\n",
       "\\item 0\n",
       "\\item 11.2\n",
       "\\item 4.5\n",
       "\\item 12.3\n",
       "\\item 7.8\n",
       "\\item 10.3\n",
       "\\end{enumerate*}\n"
      ],
      "text/markdown": [
       "1. 11.2\n",
       "2. 4.5\n",
       "3. 12.3\n",
       "4. 7.8\n",
       "5. 10.3\n",
       "6. 0\n",
       "7. 11.2\n",
       "8. 4.5\n",
       "9. 12.3\n",
       "10. 7.8\n",
       "11. 10.3\n",
       "\n",
       "\n"
      ],
      "text/plain": [
       " [1] 11.2  4.5 12.3  7.8 10.3  0.0 11.2  4.5 12.3  7.8 10.3"
      ]
     },
     "metadata": {},
     "output_type": "display_data"
    }
   ],
   "source": [
    "y"
   ]
  },
  {
   "cell_type": "markdown",
   "id": "9152116f-1555-4671-9ff4-3faae11e2d34",
   "metadata": {},
   "source": [
    "Se puede estar interesado en seleccionar un determinado valor del vector, por ejemplo el valor 12.3 del vector x. Para ello únicamente tendremos que saber la posición de dicho elemento en el vector y escribir la orden: "
   ]
  },
  {
   "cell_type": "code",
   "execution_count": 16,
   "id": "351fc7fc-661e-426b-8544-e64ce97ed784",
   "metadata": {},
   "outputs": [
    {
     "data": {
      "text/html": [
       "12.3"
      ],
      "text/latex": [
       "12.3"
      ],
      "text/markdown": [
       "12.3"
      ],
      "text/plain": [
       "[1] 12.3"
      ]
     },
     "metadata": {},
     "output_type": "display_data"
    }
   ],
   "source": [
    "x[3]"
   ]
  },
  {
   "cell_type": "markdown",
   "id": "223c3728-ff9a-4719-8352-2a172aeb3839",
   "metadata": {},
   "source": [
    "O bien obtener los tres primeros elementos de ese vector x como:"
   ]
  },
  {
   "cell_type": "code",
   "execution_count": 17,
   "id": "8184cbed-c9a9-4d21-af4f-38f43cda8095",
   "metadata": {},
   "outputs": [
    {
     "data": {
      "text/html": [
       "<style>\n",
       ".list-inline {list-style: none; margin:0; padding: 0}\n",
       ".list-inline>li {display: inline-block}\n",
       ".list-inline>li:not(:last-child)::after {content: \"\\00b7\"; padding: 0 .5ex}\n",
       "</style>\n",
       "<ol class=list-inline><li>11.2</li><li>4.5</li><li>12.3</li></ol>\n"
      ],
      "text/latex": [
       "\\begin{enumerate*}\n",
       "\\item 11.2\n",
       "\\item 4.5\n",
       "\\item 12.3\n",
       "\\end{enumerate*}\n"
      ],
      "text/markdown": [
       "1. 11.2\n",
       "2. 4.5\n",
       "3. 12.3\n",
       "\n",
       "\n"
      ],
      "text/plain": [
       "[1] 11.2  4.5 12.3"
      ]
     },
     "metadata": {},
     "output_type": "display_data"
    }
   ],
   "source": [
    "x[1:3]"
   ]
  },
  {
   "cell_type": "markdown",
   "id": "7a8c448f-8aad-4063-b686-bd661dbabd19",
   "metadata": {},
   "source": [
    "Notar que a diferencia de otros lenguajes de programación, R reserva los\n",
    "paréntesis para ejecutar funciones, mientras que los corchetes nos permiten\n",
    "acceder a elementos de un vector o como veremos más tarde de una matriz o\n",
    "array. \n",
    "\n",
    "***PRACTICA TÚ MISMO***\n",
    "\n",
    "Abre una script en RStudio y utiliza la función `seq()` (consulta la ayuda para ver como se ejecuta esta función) para crear los siguientes vectores:\n",
    "\n",
    "55, 56, 57, 58, 59\n",
    "\n",
    "1, 3, 5, 7, 9, 11\n",
    "\n",
    "\n",
    "Crea un vector x con los siguientes elementos 1, 3, 5, 7 y 9 e intenta adivinar antes de calcular los resultados de las siguientes instrucciones:\n",
    "\n",
    "1. x>5\n",
    "2. which(x>5)\n",
    "3. sum(x>5)\n",
    "4. sum(x[x>5])\n",
    "\n",
    "A partir de ese vector x creado en el ejercicio anterior:\n",
    "1. Extrae el elemento de x que ocupa la posición 2.\n",
    "2. Extrae utilizando un único comando, los 3 elementos de x que ocupan las posiciones de la 2 a la 4.\n"
   ]
  },
  {
   "cell_type": "markdown",
   "id": "a0cd07f5-2aa4-4759-99b1-f3f0ec1dbab0",
   "metadata": {},
   "source": [
    "### Vectores logicos\n",
    "\n",
    "Además de los vectores numéricos, R permite la manipulación de cantidades\n",
    "lógicas. Los elementos de un vector lógico pueden tener los valores VERDADERO,\n",
    "FALSO y NA (para \"Not Available\")."
   ]
  },
  {
   "cell_type": "code",
   "execution_count": 18,
   "id": "fa2ebd60-135d-4f6c-9e91-ecfe1f0cc5e9",
   "metadata": {},
   "outputs": [
    {
     "data": {
      "text/html": [
       "<style>\n",
       ".list-inline {list-style: none; margin:0; padding: 0}\n",
       ".list-inline>li {display: inline-block}\n",
       ".list-inline>li:not(:last-child)::after {content: \"\\00b7\"; padding: 0 .5ex}\n",
       "</style>\n",
       "<ol class=list-inline><li>1</li><li>3</li><li>5</li><li>7</li><li>9</li></ol>\n"
      ],
      "text/latex": [
       "\\begin{enumerate*}\n",
       "\\item 1\n",
       "\\item 3\n",
       "\\item 5\n",
       "\\item 7\n",
       "\\item 9\n",
       "\\end{enumerate*}\n"
      ],
      "text/markdown": [
       "1. 1\n",
       "2. 3\n",
       "3. 5\n",
       "4. 7\n",
       "5. 9\n",
       "\n",
       "\n"
      ],
      "text/plain": [
       "[1] 1 3 5 7 9"
      ]
     },
     "metadata": {},
     "output_type": "display_data"
    }
   ],
   "source": [
    "x <- seq(1,10,2); x"
   ]
  },
  {
   "cell_type": "code",
   "execution_count": 19,
   "id": "13484b07-e3b7-4091-bd1c-66f1e98fb742",
   "metadata": {},
   "outputs": [
    {
     "data": {
      "text/html": [
       "<style>\n",
       ".list-inline {list-style: none; margin:0; padding: 0}\n",
       ".list-inline>li {display: inline-block}\n",
       ".list-inline>li:not(:last-child)::after {content: \"\\00b7\"; padding: 0 .5ex}\n",
       "</style>\n",
       "<ol class=list-inline><li>FALSE</li><li>FALSE</li><li>FALSE</li><li>TRUE</li><li>TRUE</li></ol>\n"
      ],
      "text/latex": [
       "\\begin{enumerate*}\n",
       "\\item FALSE\n",
       "\\item FALSE\n",
       "\\item FALSE\n",
       "\\item TRUE\n",
       "\\item TRUE\n",
       "\\end{enumerate*}\n"
      ],
      "text/markdown": [
       "1. FALSE\n",
       "2. FALSE\n",
       "3. FALSE\n",
       "4. TRUE\n",
       "5. TRUE\n",
       "\n",
       "\n"
      ],
      "text/plain": [
       "[1] FALSE FALSE FALSE  TRUE  TRUE"
      ]
     },
     "metadata": {},
     "output_type": "display_data"
    }
   ],
   "source": [
    "c1 <- x>6; c1 # Vector logico. Indica que valores de x cumplen o no la condicion"
   ]
  },
  {
   "cell_type": "code",
   "execution_count": 20,
   "id": "f35428a3-62a6-4d4f-a1b9-dba44fb8ded4",
   "metadata": {},
   "outputs": [
    {
     "data": {
      "text/html": [
       "<style>\n",
       ".list-inline {list-style: none; margin:0; padding: 0}\n",
       ".list-inline>li {display: inline-block}\n",
       ".list-inline>li:not(:last-child)::after {content: \"\\00b7\"; padding: 0 .5ex}\n",
       "</style>\n",
       "<ol class=list-inline><li>FALSE</li><li>FALSE</li><li>FALSE</li><li>TRUE</li><li>FALSE</li></ol>\n"
      ],
      "text/latex": [
       "\\begin{enumerate*}\n",
       "\\item FALSE\n",
       "\\item FALSE\n",
       "\\item FALSE\n",
       "\\item TRUE\n",
       "\\item FALSE\n",
       "\\end{enumerate*}\n"
      ],
      "text/markdown": [
       "1. FALSE\n",
       "2. FALSE\n",
       "3. FALSE\n",
       "4. TRUE\n",
       "5. FALSE\n",
       "\n",
       "\n"
      ],
      "text/plain": [
       "[1] FALSE FALSE FALSE  TRUE FALSE"
      ]
     },
     "metadata": {},
     "output_type": "display_data"
    }
   ],
   "source": [
    "c2 <- x==7; c2"
   ]
  },
  {
   "cell_type": "markdown",
   "id": "1e317cef-33e4-4efb-a595-f7a7c158f88a",
   "metadata": {},
   "source": [
    "Los operadores lógicos son <, <=, >, >=, == para igualdad exacta y != para\n",
    "desigualdad. Además, si c1 y c2 son expresiones lógicas, entonces `c1 & c2` es\n",
    "su intersección (es decir elementos en c1 \"y\" en c2), `c1 | c2` es su unión (es decir elementos en c1 \"o\" en c2), y `!c1` es la negación de c1."
   ]
  },
  {
   "cell_type": "code",
   "execution_count": 21,
   "id": "b183942f-3de8-45e4-9751-d7101be3c21e",
   "metadata": {},
   "outputs": [
    {
     "data": {
      "text/html": [
       "<style>\n",
       ".list-inline {list-style: none; margin:0; padding: 0}\n",
       ".list-inline>li {display: inline-block}\n",
       ".list-inline>li:not(:last-child)::after {content: \"\\00b7\"; padding: 0 .5ex}\n",
       "</style>\n",
       "<ol class=list-inline><li>FALSE</li><li>FALSE</li><li>FALSE</li><li>TRUE</li><li>FALSE</li></ol>\n"
      ],
      "text/latex": [
       "\\begin{enumerate*}\n",
       "\\item FALSE\n",
       "\\item FALSE\n",
       "\\item FALSE\n",
       "\\item TRUE\n",
       "\\item FALSE\n",
       "\\end{enumerate*}\n"
      ],
      "text/markdown": [
       "1. FALSE\n",
       "2. FALSE\n",
       "3. FALSE\n",
       "4. TRUE\n",
       "5. FALSE\n",
       "\n",
       "\n"
      ],
      "text/plain": [
       "[1] FALSE FALSE FALSE  TRUE FALSE"
      ]
     },
     "metadata": {},
     "output_type": "display_data"
    }
   ],
   "source": [
    "c1&c2 # Vector logico. Indica con TRUE los valores de x que estan en ambos vectores lógicos."
   ]
  },
  {
   "cell_type": "code",
   "execution_count": 22,
   "id": "096921d4-0a0f-4f56-a854-eb1194431650",
   "metadata": {},
   "outputs": [
    {
     "data": {
      "text/html": [
       "7"
      ],
      "text/latex": [
       "7"
      ],
      "text/markdown": [
       "7"
      ],
      "text/plain": [
       "[1] 7"
      ]
     },
     "metadata": {},
     "output_type": "display_data"
    }
   ],
   "source": [
    "x[c1&c2] # Muestra los valores de x que cumplen ambas condiciones."
   ]
  },
  {
   "cell_type": "code",
   "execution_count": 23,
   "id": "dd05171f-ccd0-4895-8b96-cc976dc5df35",
   "metadata": {},
   "outputs": [
    {
     "data": {
      "text/html": [
       "<style>\n",
       ".list-inline {list-style: none; margin:0; padding: 0}\n",
       ".list-inline>li {display: inline-block}\n",
       ".list-inline>li:not(:last-child)::after {content: \"\\00b7\"; padding: 0 .5ex}\n",
       "</style>\n",
       "<ol class=list-inline><li>FALSE</li><li>FALSE</li><li>FALSE</li><li>TRUE</li><li>TRUE</li></ol>\n"
      ],
      "text/latex": [
       "\\begin{enumerate*}\n",
       "\\item FALSE\n",
       "\\item FALSE\n",
       "\\item FALSE\n",
       "\\item TRUE\n",
       "\\item TRUE\n",
       "\\end{enumerate*}\n"
      ],
      "text/markdown": [
       "1. FALSE\n",
       "2. FALSE\n",
       "3. FALSE\n",
       "4. TRUE\n",
       "5. TRUE\n",
       "\n",
       "\n"
      ],
      "text/plain": [
       "[1] FALSE FALSE FALSE  TRUE  TRUE"
      ]
     },
     "metadata": {},
     "output_type": "display_data"
    }
   ],
   "source": [
    "c1|c2 # Vector logico. Indica que valores cumplen una condicion u otra."
   ]
  },
  {
   "cell_type": "code",
   "execution_count": 24,
   "id": "bdbb1e99-d323-4ef4-8517-20dd9d2b31e3",
   "metadata": {},
   "outputs": [
    {
     "data": {
      "text/html": [
       "<style>\n",
       ".list-inline {list-style: none; margin:0; padding: 0}\n",
       ".list-inline>li {display: inline-block}\n",
       ".list-inline>li:not(:last-child)::after {content: \"\\00b7\"; padding: 0 .5ex}\n",
       "</style>\n",
       "<ol class=list-inline><li>7</li><li>9</li></ol>\n"
      ],
      "text/latex": [
       "\\begin{enumerate*}\n",
       "\\item 7\n",
       "\\item 9\n",
       "\\end{enumerate*}\n"
      ],
      "text/markdown": [
       "1. 7\n",
       "2. 9\n",
       "\n",
       "\n"
      ],
      "text/plain": [
       "[1] 7 9"
      ]
     },
     "metadata": {},
     "output_type": "display_data"
    }
   ],
   "source": [
    "x[c1|c2] # Muestra los valores de x que cumplen una u otra condicion."
   ]
  },
  {
   "cell_type": "markdown",
   "id": "3672d1e3-52c9-46ff-aba3-bc7ef8523e49",
   "metadata": {},
   "source": [
    "Los vectores lógicos pueden usarse en aritmética ordinaria, en cuyo caso se\n",
    "transforman a vectores numéricos, de la forma: FALSO se convierte en 0 y\n",
    "VERDADERO se convierte en 1. Por ejemplo a partir de los resultados anteriores podemos obtener el número de elementos de x que son mayores de 6 de varias formas:"
   ]
  },
  {
   "cell_type": "code",
   "execution_count": 25,
   "id": "3ee0a0b0-21aa-4530-b41d-cb9cc32d7ad4",
   "metadata": {},
   "outputs": [
    {
     "data": {
      "text/html": [
       "2"
      ],
      "text/latex": [
       "2"
      ],
      "text/markdown": [
       "2"
      ],
      "text/plain": [
       "[1] 2"
      ]
     },
     "metadata": {},
     "output_type": "display_data"
    }
   ],
   "source": [
    "sum(c1)"
   ]
  },
  {
   "cell_type": "code",
   "execution_count": 26,
   "id": "72d6320e-6891-4e0e-abac-61ff21166b46",
   "metadata": {},
   "outputs": [
    {
     "data": {
      "text/html": [
       "2"
      ],
      "text/latex": [
       "2"
      ],
      "text/markdown": [
       "2"
      ],
      "text/plain": [
       "[1] 2"
      ]
     },
     "metadata": {},
     "output_type": "display_data"
    }
   ],
   "source": [
    "sum(x>6)"
   ]
  },
  {
   "cell_type": "markdown",
   "id": "9c8ff5ff-5872-4a02-af59-7089b806830d",
   "metadata": {},
   "source": [
    "Notar que la orden: "
   ]
  },
  {
   "cell_type": "code",
   "execution_count": 27,
   "id": "aa60b6d9-02b9-40eb-94e5-24b4265185ed",
   "metadata": {},
   "outputs": [
    {
     "data": {
      "text/html": [
       "5"
      ],
      "text/latex": [
       "5"
      ],
      "text/markdown": [
       "5"
      ],
      "text/plain": [
       "[1] 5"
      ]
     },
     "metadata": {},
     "output_type": "display_data"
    }
   ],
   "source": [
    "length(c1)"
   ]
  },
  {
   "cell_type": "markdown",
   "id": "0f8ef32a-cc60-46bc-9158-c4f7b02c3c72",
   "metadata": {},
   "source": [
    "devuelve 5, que es la longitud del vector c1 independientemente de que los valores sean TRUE o FALSE. \n",
    "\n",
    "Podemos saber las posiciones de esos valores de x mayores o iguales a 6 con la orden: "
   ]
  },
  {
   "cell_type": "code",
   "execution_count": 28,
   "id": "f17bf812-924b-43e5-a655-224e558a891e",
   "metadata": {},
   "outputs": [
    {
     "data": {
      "text/html": [
       "<style>\n",
       ".list-inline {list-style: none; margin:0; padding: 0}\n",
       ".list-inline>li {display: inline-block}\n",
       ".list-inline>li:not(:last-child)::after {content: \"\\00b7\"; padding: 0 .5ex}\n",
       "</style>\n",
       "<ol class=list-inline><li>4</li><li>5</li></ol>\n"
      ],
      "text/latex": [
       "\\begin{enumerate*}\n",
       "\\item 4\n",
       "\\item 5\n",
       "\\end{enumerate*}\n"
      ],
      "text/markdown": [
       "1. 4\n",
       "2. 5\n",
       "\n",
       "\n"
      ],
      "text/plain": [
       "[1] 4 5"
      ]
     },
     "metadata": {},
     "output_type": "display_data"
    }
   ],
   "source": [
    "which(x>=6)"
   ]
  },
  {
   "cell_type": "markdown",
   "id": "0a9acb2b-07e0-44e4-b4ec-2441ef321585",
   "metadata": {},
   "source": [
    "Los elementos de x que corresponden a la posición 4 y 5 y que por tanto son valores mayores o iguales a 6 se obtendrían con cualquiera de estas órdenes:"
   ]
  },
  {
   "cell_type": "code",
   "execution_count": 29,
   "id": "0e286495-c61b-4bdc-8855-3c958bbb0971",
   "metadata": {},
   "outputs": [
    {
     "data": {
      "text/html": [
       "<style>\n",
       ".list-inline {list-style: none; margin:0; padding: 0}\n",
       ".list-inline>li {display: inline-block}\n",
       ".list-inline>li:not(:last-child)::after {content: \"\\00b7\"; padding: 0 .5ex}\n",
       "</style>\n",
       "<ol class=list-inline><li>7</li><li>9</li></ol>\n"
      ],
      "text/latex": [
       "\\begin{enumerate*}\n",
       "\\item 7\n",
       "\\item 9\n",
       "\\end{enumerate*}\n"
      ],
      "text/markdown": [
       "1. 7\n",
       "2. 9\n",
       "\n",
       "\n"
      ],
      "text/plain": [
       "[1] 7 9"
      ]
     },
     "metadata": {},
     "output_type": "display_data"
    }
   ],
   "source": [
    "x[which(x>=6)]"
   ]
  },
  {
   "cell_type": "code",
   "execution_count": 30,
   "id": "07f0205c-b70b-4cfd-b4aa-80bdd1b63ebf",
   "metadata": {},
   "outputs": [
    {
     "data": {
      "text/html": [
       "<style>\n",
       ".list-inline {list-style: none; margin:0; padding: 0}\n",
       ".list-inline>li {display: inline-block}\n",
       ".list-inline>li:not(:last-child)::after {content: \"\\00b7\"; padding: 0 .5ex}\n",
       "</style>\n",
       "<ol class=list-inline><li>7</li><li>9</li></ol>\n"
      ],
      "text/latex": [
       "\\begin{enumerate*}\n",
       "\\item 7\n",
       "\\item 9\n",
       "\\end{enumerate*}\n"
      ],
      "text/markdown": [
       "1. 7\n",
       "2. 9\n",
       "\n",
       "\n"
      ],
      "text/plain": [
       "[1] 7 9"
      ]
     },
     "metadata": {},
     "output_type": "display_data"
    }
   ],
   "source": [
    "x[c1]"
   ]
  },
  {
   "cell_type": "markdown",
   "id": "2f705b5d-9e64-4675-9aa4-82e061d896c7",
   "metadata": {},
   "source": [
    "Las funciones `sum()`, `length()` y `which()` las usaremos en numerosas ocasiones en esta asignatura. \n",
    "\n",
    "### Vector de caracteres\n",
    "\n",
    "Los caracteres y los vectores de caracteres se usan con frecuencia en R, por\n",
    "ejemplo como etiquetas de figuras. Cuando es necesario, se indican mediante una secuencia de caracteres entre comillas, por ejemplo:"
   ]
  },
  {
   "cell_type": "code",
   "execution_count": 31,
   "id": "9de1d9ae-674e-4807-bc70-2b2b18e3a61d",
   "metadata": {},
   "outputs": [
    {
     "data": {
      "text/html": [
       "<style>\n",
       ".list-inline {list-style: none; margin:0; padding: 0}\n",
       ".list-inline>li {display: inline-block}\n",
       ".list-inline>li:not(:last-child)::after {content: \"\\00b7\"; padding: 0 .5ex}\n",
       "</style>\n",
       "<ol class=list-inline><li>'X'</li><li>'Y'</li><li>'Z'</li></ol>\n"
      ],
      "text/latex": [
       "\\begin{enumerate*}\n",
       "\\item 'X'\n",
       "\\item 'Y'\n",
       "\\item 'Z'\n",
       "\\end{enumerate*}\n"
      ],
      "text/markdown": [
       "1. 'X'\n",
       "2. 'Y'\n",
       "3. 'Z'\n",
       "\n",
       "\n"
      ],
      "text/plain": [
       "[1] \"X\" \"Y\" \"Z\""
      ]
     },
     "metadata": {},
     "output_type": "display_data"
    }
   ],
   "source": [
    "labs <- c(\"X\", \"Y\", \"Z\"); labs"
   ]
  },
  {
   "cell_type": "markdown",
   "id": "06d03bf1-c3c1-4b18-92c0-29957b93627b",
   "metadata": {},
   "source": [
    "## Matrices\n",
    "\n",
    "Otra estructura común es la matriz de datos. Podemos crear una matriz de la forma:"
   ]
  },
  {
   "cell_type": "code",
   "execution_count": 32,
   "id": "f4e8ee15-3577-4391-afcd-74d7d39b803f",
   "metadata": {},
   "outputs": [
    {
     "data": {
      "text/html": [
       "<table class=\"dataframe\">\n",
       "<caption>A matrix: 2 × 3 of type dbl</caption>\n",
       "<tbody>\n",
       "\t<tr><td>1</td><td>3</td><td>5</td></tr>\n",
       "\t<tr><td>2</td><td>4</td><td>6</td></tr>\n",
       "</tbody>\n",
       "</table>\n"
      ],
      "text/latex": [
       "A matrix: 2 × 3 of type dbl\n",
       "\\begin{tabular}{lll}\n",
       "\t 1 & 3 & 5\\\\\n",
       "\t 2 & 4 & 6\\\\\n",
       "\\end{tabular}\n"
      ],
      "text/markdown": [
       "\n",
       "A matrix: 2 × 3 of type dbl\n",
       "\n",
       "| 1 | 3 | 5 |\n",
       "| 2 | 4 | 6 |\n",
       "\n"
      ],
      "text/plain": [
       "     [,1] [,2] [,3]\n",
       "[1,] 1    3    5   \n",
       "[2,] 2    4    6   "
      ]
     },
     "metadata": {},
     "output_type": "display_data"
    },
    {
     "data": {
      "text/html": [
       "<style>\n",
       ".list-inline {list-style: none; margin:0; padding: 0}\n",
       ".list-inline>li {display: inline-block}\n",
       ".list-inline>li:not(:last-child)::after {content: \"\\00b7\"; padding: 0 .5ex}\n",
       "</style>\n",
       "<ol class=list-inline><li>'matrix'</li><li>'array'</li></ol>\n"
      ],
      "text/latex": [
       "\\begin{enumerate*}\n",
       "\\item 'matrix'\n",
       "\\item 'array'\n",
       "\\end{enumerate*}\n"
      ],
      "text/markdown": [
       "1. 'matrix'\n",
       "2. 'array'\n",
       "\n",
       "\n"
      ],
      "text/plain": [
       "[1] \"matrix\" \"array\" "
      ]
     },
     "metadata": {},
     "output_type": "display_data"
    }
   ],
   "source": [
    "M <- matrix(c(1,2,3,4,5,6), nrow=2, ncol=3);M\n",
    "class(M)"
   ]
  },
  {
   "cell_type": "markdown",
   "id": "0e714e75-38f2-48cb-8e42-dbf852ee166d",
   "metadata": {},
   "source": [
    "Al igual que con vectores podemos seleccionar elementos de la matriz indicando sus índices de filas y columnas entre corchetes y separados por coma. Por ejemplo:"
   ]
  },
  {
   "cell_type": "code",
   "execution_count": 33,
   "id": "60ae09e4-8708-42fe-b0b6-2e0125464d54",
   "metadata": {},
   "outputs": [
    {
     "data": {
      "text/html": [
       "<style>\n",
       ".list-inline {list-style: none; margin:0; padding: 0}\n",
       ".list-inline>li {display: inline-block}\n",
       ".list-inline>li:not(:last-child)::after {content: \"\\00b7\"; padding: 0 .5ex}\n",
       "</style>\n",
       "<ol class=list-inline><li>2</li><li>4</li><li>6</li></ol>\n"
      ],
      "text/latex": [
       "\\begin{enumerate*}\n",
       "\\item 2\n",
       "\\item 4\n",
       "\\item 6\n",
       "\\end{enumerate*}\n"
      ],
      "text/markdown": [
       "1. 2\n",
       "2. 4\n",
       "3. 6\n",
       "\n",
       "\n"
      ],
      "text/plain": [
       "[1] 2 4 6"
      ]
     },
     "metadata": {},
     "output_type": "display_data"
    }
   ],
   "source": [
    "# Fila 2\n",
    "M[2,]"
   ]
  },
  {
   "cell_type": "code",
   "execution_count": 34,
   "id": "8b2b633b-62b6-4122-9e76-bf6562cb53aa",
   "metadata": {},
   "outputs": [
    {
     "data": {
      "text/html": [
       "<style>\n",
       ".list-inline {list-style: none; margin:0; padding: 0}\n",
       ".list-inline>li {display: inline-block}\n",
       ".list-inline>li:not(:last-child)::after {content: \"\\00b7\"; padding: 0 .5ex}\n",
       "</style>\n",
       "<ol class=list-inline><li>5</li><li>6</li></ol>\n"
      ],
      "text/latex": [
       "\\begin{enumerate*}\n",
       "\\item 5\n",
       "\\item 6\n",
       "\\end{enumerate*}\n"
      ],
      "text/markdown": [
       "1. 5\n",
       "2. 6\n",
       "\n",
       "\n"
      ],
      "text/plain": [
       "[1] 5 6"
      ]
     },
     "metadata": {},
     "output_type": "display_data"
    }
   ],
   "source": [
    "# Columna 3\n",
    "M[,3]"
   ]
  },
  {
   "cell_type": "code",
   "execution_count": 35,
   "id": "432f57fd-b46a-41d5-934d-5811a597d0b9",
   "metadata": {},
   "outputs": [
    {
     "data": {
      "text/html": [
       "3"
      ],
      "text/latex": [
       "3"
      ],
      "text/markdown": [
       "3"
      ],
      "text/plain": [
       "[1] 3"
      ]
     },
     "metadata": {},
     "output_type": "display_data"
    }
   ],
   "source": [
    "# Elemento de la fila 1 y la columna 2:\n",
    "M[1,2]"
   ]
  },
  {
   "cell_type": "markdown",
   "id": "60562cf5-8659-4169-9af0-189415882e15",
   "metadata": {},
   "source": [
    "Los vectores y matrices pueden usarse en expresiones aritméticas, en cuyo\n",
    "caso las operaciones se realizan elemento a elemento. Los operadores\n",
    "aritméticos elementales son los habituales `+, -, *, /` y `^` para elevar a\n",
    "una potencia. Además están disponibles las funciones `log()`, `exp()`, `sin()`, `cos()`, `tan()` y `sqrt()` siendo esta última la función que calcula la raíz cuadrada. Como se observa al ejecutar las órdenes siguientes, las operaciones se realizan sobre cada uno de los elementos."
   ]
  },
  {
   "cell_type": "code",
   "execution_count": 36,
   "id": "78d368ed-83b9-4361-9e95-d52a05803dd5",
   "metadata": {},
   "outputs": [
    {
     "data": {
      "text/html": [
       "<style>\n",
       ".list-inline {list-style: none; margin:0; padding: 0}\n",
       ".list-inline>li {display: inline-block}\n",
       ".list-inline>li:not(:last-child)::after {content: \"\\00b7\"; padding: 0 .5ex}\n",
       "</style>\n",
       "<ol class=list-inline><li>1</li><li>0.333333333333333</li><li>0.2</li><li>0.142857142857143</li><li>0.111111111111111</li></ol>\n"
      ],
      "text/latex": [
       "\\begin{enumerate*}\n",
       "\\item 1\n",
       "\\item 0.333333333333333\n",
       "\\item 0.2\n",
       "\\item 0.142857142857143\n",
       "\\item 0.111111111111111\n",
       "\\end{enumerate*}\n"
      ],
      "text/markdown": [
       "1. 1\n",
       "2. 0.333333333333333\n",
       "3. 0.2\n",
       "4. 0.142857142857143\n",
       "5. 0.111111111111111\n",
       "\n",
       "\n"
      ],
      "text/plain": [
       "[1] 1.0000000 0.3333333 0.2000000 0.1428571 0.1111111"
      ]
     },
     "metadata": {},
     "output_type": "display_data"
    }
   ],
   "source": [
    "1/x"
   ]
  },
  {
   "cell_type": "code",
   "execution_count": 37,
   "id": "f1e9d7a8-8aaa-4cb8-9a66-e76a549ea494",
   "metadata": {},
   "outputs": [
    {
     "data": {
      "text/html": [
       "<table class=\"dataframe\">\n",
       "<caption>A matrix: 2 × 3 of type dbl</caption>\n",
       "<tbody>\n",
       "\t<tr><td>1</td><td> 9</td><td>25</td></tr>\n",
       "\t<tr><td>4</td><td>16</td><td>36</td></tr>\n",
       "</tbody>\n",
       "</table>\n"
      ],
      "text/latex": [
       "A matrix: 2 × 3 of type dbl\n",
       "\\begin{tabular}{lll}\n",
       "\t 1 &  9 & 25\\\\\n",
       "\t 4 & 16 & 36\\\\\n",
       "\\end{tabular}\n"
      ],
      "text/markdown": [
       "\n",
       "A matrix: 2 × 3 of type dbl\n",
       "\n",
       "| 1 |  9 | 25 |\n",
       "| 4 | 16 | 36 |\n",
       "\n"
      ],
      "text/plain": [
       "     [,1] [,2] [,3]\n",
       "[1,] 1     9   25  \n",
       "[2,] 4    16   36  "
      ]
     },
     "metadata": {},
     "output_type": "display_data"
    }
   ],
   "source": [
    "M*M"
   ]
  },
  {
   "cell_type": "code",
   "execution_count": 38,
   "id": "4264fc72-ac66-4ad8-9cdd-5dd9092d85e4",
   "metadata": {},
   "outputs": [
    {
     "data": {
      "text/html": [
       "<style>\n",
       ".list-inline {list-style: none; margin:0; padding: 0}\n",
       ".list-inline>li {display: inline-block}\n",
       ".list-inline>li:not(:last-child)::after {content: \"\\00b7\"; padding: 0 .5ex}\n",
       "</style>\n",
       "<ol class=list-inline><li>2.71828182845905</li><li>20.0855369231877</li><li>148.413159102577</li><li>1096.63315842846</li><li>8103.08392757538</li></ol>\n"
      ],
      "text/latex": [
       "\\begin{enumerate*}\n",
       "\\item 2.71828182845905\n",
       "\\item 20.0855369231877\n",
       "\\item 148.413159102577\n",
       "\\item 1096.63315842846\n",
       "\\item 8103.08392757538\n",
       "\\end{enumerate*}\n"
      ],
      "text/markdown": [
       "1. 2.71828182845905\n",
       "2. 20.0855369231877\n",
       "3. 148.413159102577\n",
       "4. 1096.63315842846\n",
       "5. 8103.08392757538\n",
       "\n",
       "\n"
      ],
      "text/plain": [
       "[1]    2.718282   20.085537  148.413159 1096.633158 8103.083928"
      ]
     },
     "metadata": {},
     "output_type": "display_data"
    }
   ],
   "source": [
    "exp(x)"
   ]
  },
  {
   "cell_type": "markdown",
   "id": "a0ad1208-92cb-43d2-8343-baeeec522909",
   "metadata": {},
   "source": [
    "Existen muchas más funciones como por ejemplo `max(x)` y `min(x)` que seleccionan respectivamente el mayor y el menor elemento de un vector (x en este caso), `range(x)` cuyo valor es el vector de longitud dos conteniendo el mínimo y el\n",
    "máximo, `length(x)` que devuelve el número de elementos o longitud de x, `sum(x)` que calcula la suma de todos los elementos de x, `prod(x)` que calcula el producto de todos ellos o `sort(x)` que ordena los elementos de x de menor a mayor. \n",
    "\n",
    "Como ya se comentó al principio se puede obtener más ayuda acerca de\n",
    "estas funciones con el comando `help()`."
   ]
  },
  {
   "cell_type": "markdown",
   "id": "410861f6-e337-49c8-96ee-6d86b887f3db",
   "metadata": {},
   "source": [
    "***PRACTICA TÚ MISMO***\n",
    "\n",
    "En una script de RStudio crea la siguiente matriz de datos: `m <- matrix(1:15, nrow=3)` e intenta adivinar antes de calcular los resultados de las siguientes instrucciones:\n",
    "1. dim(m)\n",
    "2. ncol(m)\n",
    "3. nrow(m)\n",
    "4. which(m>=5 & m<=8)\n",
    "\n",
    "A partir de la matriz creada en el ejercicio anterior:\n",
    "1. Extrae la primera fila.\n",
    "2. Extrae el segundo elemento de la tercera columna."
   ]
  },
  {
   "cell_type": "markdown",
   "id": "626d2cb1-e5e5-4073-8ffe-9d11e35a429b",
   "metadata": {},
   "source": [
    "## Arrays\n",
    "\n",
    "Son objetos de R que pueden guardar datos del mismo tipo en más de dos dimensiones. Por ejemplo, podemos crear el siguiente array de tres dimensiones: "
   ]
  },
  {
   "cell_type": "code",
   "execution_count": 39,
   "id": "b7c0cbc7-baef-4849-bac7-c443d60dd56b",
   "metadata": {},
   "outputs": [
    {
     "data": {
      "text/html": [
       "'array'"
      ],
      "text/latex": [
       "'array'"
      ],
      "text/markdown": [
       "'array'"
      ],
      "text/plain": [
       "[1] \"array\""
      ]
     },
     "metadata": {},
     "output_type": "display_data"
    },
    {
     "data": {
      "text/html": [
       "<style>\n",
       ".list-inline {list-style: none; margin:0; padding: 0}\n",
       ".list-inline>li {display: inline-block}\n",
       ".list-inline>li:not(:last-child)::after {content: \"\\00b7\"; padding: 0 .5ex}\n",
       "</style>\n",
       "<ol class=list-inline><li>3</li><li>3</li><li>2</li></ol>\n"
      ],
      "text/latex": [
       "\\begin{enumerate*}\n",
       "\\item 3\n",
       "\\item 3\n",
       "\\item 2\n",
       "\\end{enumerate*}\n"
      ],
      "text/markdown": [
       "1. 3\n",
       "2. 3\n",
       "3. 2\n",
       "\n",
       "\n"
      ],
      "text/plain": [
       "[1] 3 3 2"
      ]
     },
     "metadata": {},
     "output_type": "display_data"
    }
   ],
   "source": [
    "x <- seq(1,36,2)\n",
    "arr <- array(x, dim = c(3,3,2))\n",
    "class(arr) # Para obtener la clase del objeto\n",
    "dim(arr)   # Dimension de arr"
   ]
  },
  {
   "cell_type": "markdown",
   "id": "7e93211f-b115-43d2-bd9d-81632c9074eb",
   "metadata": {},
   "source": [
    "En este caso para seleccionar elementos de este array tendremos lo haremos como con matrices pero teniendo en cuenta todas sus dimensiones. Por ejemplo podemos obtener el elemento de la primera fila, tercera columna y posicion dos de la tercera dimension como:"
   ]
  },
  {
   "cell_type": "code",
   "execution_count": 40,
   "id": "ab7db4f3-b615-4188-a51d-0efe264e251e",
   "metadata": {},
   "outputs": [
    {
     "data": {
      "text/html": [
       "31"
      ],
      "text/latex": [
       "31"
      ],
      "text/markdown": [
       "31"
      ],
      "text/plain": [
       "[1] 31"
      ]
     },
     "metadata": {},
     "output_type": "display_data"
    }
   ],
   "source": [
    "arr[1,3,2] # Elemento en la primera fila, tercera columna y posicion dos de la tercera dimension."
   ]
  },
  {
   "cell_type": "markdown",
   "id": "cc8c0572-cdd9-4531-82f7-2969db223edf",
   "metadata": {},
   "source": [
    "O todos los elementos de la segunda columna ejecutando la orden: "
   ]
  },
  {
   "cell_type": "code",
   "execution_count": 41,
   "id": "ed8f84c8-23d8-4a69-a3bd-250cf9cee264",
   "metadata": {},
   "outputs": [
    {
     "data": {
      "text/html": [
       "<table class=\"dataframe\">\n",
       "<caption>A matrix: 3 × 2 of type dbl</caption>\n",
       "<tbody>\n",
       "\t<tr><td> 7</td><td>25</td></tr>\n",
       "\t<tr><td> 9</td><td>27</td></tr>\n",
       "\t<tr><td>11</td><td>29</td></tr>\n",
       "</tbody>\n",
       "</table>\n"
      ],
      "text/latex": [
       "A matrix: 3 × 2 of type dbl\n",
       "\\begin{tabular}{ll}\n",
       "\t  7 & 25\\\\\n",
       "\t  9 & 27\\\\\n",
       "\t 11 & 29\\\\\n",
       "\\end{tabular}\n"
      ],
      "text/markdown": [
       "\n",
       "A matrix: 3 × 2 of type dbl\n",
       "\n",
       "|  7 | 25 |\n",
       "|  9 | 27 |\n",
       "| 11 | 29 |\n",
       "\n"
      ],
      "text/plain": [
       "     [,1] [,2]\n",
       "[1,]  7   25  \n",
       "[2,]  9   27  \n",
       "[3,] 11   29  "
      ]
     },
     "metadata": {},
     "output_type": "display_data"
    }
   ],
   "source": [
    "arr[,2,]   "
   ]
  },
  {
   "cell_type": "markdown",
   "id": "b0fefb07-b1f5-4d15-9ce2-74ea2e282e57",
   "metadata": {},
   "source": [
    "## Factores\n",
    "\n",
    "Los factores son vectores especiales para representar variables categóricas. Las variables categóricas toman un número pequeño de posibles valores (categorías) que se identifican con etiquetas (*labels*). \n",
    "\n",
    "Para convertir un vector en un factor empleamos la funcion `factor()`. Por ejemplo, tenemos los datos de un grupo de personas que son el nombre, la edad y el nivel de actividad fisica realizada: "
   ]
  },
  {
   "cell_type": "code",
   "execution_count": 42,
   "id": "5ec9d4c3-404c-4a55-b174-20b09e75eb14",
   "metadata": {},
   "outputs": [],
   "source": [
    "nombre <- c(\"ana\", \"luis\", \"elena\", \"amparo\", \"blanca\", \"ana\", \"blanca\", \"luis\")\n",
    "edad <- c(23, 24, 45, 67, 32, 56, 78, 45)\n",
    "actividad <- c(\"baja\", \"media\", \"media\", \"media\", \"alta\", \"alta\", \"baja\", \"media\")"
   ]
  },
  {
   "cell_type": "markdown",
   "id": "95eadf5a-bb40-4ccd-8231-1913ef94ca74",
   "metadata": {},
   "source": [
    "Los vectores actividad y nombre son variables no numéricas que podemos categorizar transformándolas a tipo factor con la función `factor()`. En el caso de actividad ejecutamos las siguientes órdenes: "
   ]
  },
  {
   "cell_type": "code",
   "execution_count": 43,
   "id": "131ff4d2-b507-423b-9d38-092253ae9095",
   "metadata": {},
   "outputs": [
    {
     "data": {
      "text/html": [
       "'character'"
      ],
      "text/latex": [
       "'character'"
      ],
      "text/markdown": [
       "'character'"
      ],
      "text/plain": [
       "[1] \"character\""
      ]
     },
     "metadata": {},
     "output_type": "display_data"
    },
    {
     "data": {
      "text/html": [
       "<style>\n",
       ".list-inline {list-style: none; margin:0; padding: 0}\n",
       ".list-inline>li {display: inline-block}\n",
       ".list-inline>li:not(:last-child)::after {content: \"\\00b7\"; padding: 0 .5ex}\n",
       "</style>\n",
       "<ol class=list-inline><li>baja</li><li>media</li><li>media</li><li>media</li><li>alta</li><li>alta</li><li>baja</li><li>media</li></ol>\n",
       "\n",
       "<details>\n",
       "\t<summary style=display:list-item;cursor:pointer>\n",
       "\t\t<strong>Levels</strong>:\n",
       "\t</summary>\n",
       "\t<style>\n",
       "\t.list-inline {list-style: none; margin:0; padding: 0}\n",
       "\t.list-inline>li {display: inline-block}\n",
       "\t.list-inline>li:not(:last-child)::after {content: \"\\00b7\"; padding: 0 .5ex}\n",
       "\t</style>\n",
       "\t<ol class=list-inline><li>'alta'</li><li>'baja'</li><li>'media'</li></ol>\n",
       "</details>"
      ],
      "text/latex": [
       "\\begin{enumerate*}\n",
       "\\item baja\n",
       "\\item media\n",
       "\\item media\n",
       "\\item media\n",
       "\\item alta\n",
       "\\item alta\n",
       "\\item baja\n",
       "\\item media\n",
       "\\end{enumerate*}\n",
       "\n",
       "\\emph{Levels}: \\begin{enumerate*}\n",
       "\\item 'alta'\n",
       "\\item 'baja'\n",
       "\\item 'media'\n",
       "\\end{enumerate*}\n"
      ],
      "text/markdown": [
       "1. baja\n",
       "2. media\n",
       "3. media\n",
       "4. media\n",
       "5. alta\n",
       "6. alta\n",
       "7. baja\n",
       "8. media\n",
       "\n",
       "\n",
       "\n",
       "**Levels**: 1. 'alta'\n",
       "2. 'baja'\n",
       "3. 'media'\n",
       "\n",
       "\n"
      ],
      "text/plain": [
       "[1] baja  media media media alta  alta  baja  media\n",
       "Levels: alta baja media"
      ]
     },
     "metadata": {},
     "output_type": "display_data"
    },
    {
     "data": {
      "text/html": [
       "'factor'"
      ],
      "text/latex": [
       "'factor'"
      ],
      "text/markdown": [
       "'factor'"
      ],
      "text/plain": [
       "[1] \"factor\""
      ]
     },
     "metadata": {},
     "output_type": "display_data"
    }
   ],
   "source": [
    "class(actividad) # devuelve la clase de la variable sin transfomar (\"character\")\n",
    "factividad <- factor(actividad); factividad # transformamos a factor\n",
    "class(factividad) # devuelve la clase de la variable transformada a factor (\"factor\")"
   ]
  },
  {
   "cell_type": "markdown",
   "id": "a06a88de-0a54-4e47-88c6-84d6ecb265e7",
   "metadata": {},
   "source": [
    "Vemos como la clase de esa vector ha cambiado de *character* a *factor*. \n",
    "\n",
    "La variable actividad contiene tres categorías que, al transformarla a factor, R ordena por defecto alfabéticamente, como se observa en la etiqueta `Levels` de la variable *factividad* (alta, baja, media). Se trata de una variable ordinal (ya que la clasificación va de menos a más: baja, media, alta), por lo que debemos cambiar el orden de *Levels* con la función `ordered()` para que vaya de menor a mayor actividad. Este cambio lo conseguimos ejecutando los comandos: "
   ]
  },
  {
   "cell_type": "code",
   "execution_count": 44,
   "id": "a474abaa-bb85-4acf-9d16-287ba9ee4f16",
   "metadata": {},
   "outputs": [
    {
     "data": {
      "text/html": [
       "<style>\n",
       ".list-inline {list-style: none; margin:0; padding: 0}\n",
       ".list-inline>li {display: inline-block}\n",
       ".list-inline>li:not(:last-child)::after {content: \"\\00b7\"; padding: 0 .5ex}\n",
       "</style>\n",
       "<ol class=list-inline><li>baja</li><li>media</li><li>media</li><li>media</li><li>alta</li><li>alta</li><li>baja</li><li>media</li></ol>\n",
       "\n",
       "<details>\n",
       "\t<summary style=display:list-item;cursor:pointer>\n",
       "\t\t<strong>Levels</strong>:\n",
       "\t</summary>\n",
       "\t<style>\n",
       "\t.list-inline {list-style: none; margin:0; padding: 0}\n",
       "\t.list-inline>li {display: inline-block}\n",
       "\t.list-inline>li:not(:last-child)::after {content: \"\\00b7\"; padding: 0 .5ex}\n",
       "\t</style>\n",
       "\t<ol class=list-inline><li>'baja'</li><li>'media'</li><li>'alta'</li></ol>\n",
       "</details>"
      ],
      "text/latex": [
       "\\begin{enumerate*}\n",
       "\\item baja\n",
       "\\item media\n",
       "\\item media\n",
       "\\item media\n",
       "\\item alta\n",
       "\\item alta\n",
       "\\item baja\n",
       "\\item media\n",
       "\\end{enumerate*}\n",
       "\n",
       "\\emph{Levels}: \\begin{enumerate*}\n",
       "\\item 'baja'\n",
       "\\item 'media'\n",
       "\\item 'alta'\n",
       "\\end{enumerate*}\n"
      ],
      "text/markdown": [
       "1. baja\n",
       "2. media\n",
       "3. media\n",
       "4. media\n",
       "5. alta\n",
       "6. alta\n",
       "7. baja\n",
       "8. media\n",
       "\n",
       "\n",
       "\n",
       "**Levels**: 1. 'baja'\n",
       "2. 'media'\n",
       "3. 'alta'\n",
       "\n",
       "\n"
      ],
      "text/plain": [
       "[1] baja  media media media alta  alta  baja  media\n",
       "Levels: baja < media < alta"
      ]
     },
     "metadata": {},
     "output_type": "display_data"
    }
   ],
   "source": [
    "ordered_actividad <- ordered(factividad, levels=c( \"baja\", \"media\", \"alta\"))\n",
    "ordered_actividad"
   ]
  },
  {
   "cell_type": "markdown",
   "id": "de635925-7640-473c-9a80-373087e12436",
   "metadata": {},
   "source": [
    "Esto afecta a posibles usos posteriores de la variable. Por ejemplo, observa la diferencia de dibujar un gráfico de barras de la variable *actividad* respecto al gráfico de la variable *ordered_actividad*: "
   ]
  },
  {
   "cell_type": "code",
   "execution_count": 45,
   "id": "e0d782aa-2226-4bcc-8c60-b1edad56da7b",
   "metadata": {},
   "outputs": [
    {
     "data": {
      "image/png": "[encoded data removed]",
      "text/plain": [
       "plot without title"
      ]
     },
     "metadata": {
      "image/png": {
       "height": 420,
       "width": 420
      }
     },
     "output_type": "display_data"
    },
    {
     "data": {
      "image/png": "[encoded data removed]",
      "text/plain": [
       "plot without title"
      ]
     },
     "metadata": {
      "image/png": {
       "height": 420,
       "width": 420
      }
     },
     "output_type": "display_data"
    }
   ],
   "source": [
    "barplot(table(actividad))\n",
    "barplot(table(ordered_actividad))"
   ]
  },
  {
   "cell_type": "markdown",
   "id": "493c6f85-9137-4066-b944-af32391350c5",
   "metadata": {},
   "source": [
    "El segundo gráfico es el correcto ya que el eje horizontal muestra las categorías ordenadas de menos a más. "
   ]
  },
  {
   "cell_type": "markdown",
   "id": "4fc94f05-f643-4779-a576-db25b06c4aed",
   "metadata": {},
   "source": [
    "## Listas\n",
    "\n",
    "Un vector no puede contener distintos tipos de datos, para ello se utilizan las listas. Una lista es una estructura de datos que contienen un conjunto de elementos indexados que pueden ser de diferente tipo (carácter, numérico, etc). Generalmente cada objeto de la lista se identifica con un nombre y puede tener distinto número de elementos. Veamos un ejemplo: "
   ]
  },
  {
   "cell_type": "code",
   "execution_count": 46,
   "id": "fc7b8959-07cc-4b01-af95-6879fb6c3d8a",
   "metadata": {},
   "outputs": [
    {
     "data": {
      "text/html": [
       "'list'"
      ],
      "text/latex": [
       "'list'"
      ],
      "text/markdown": [
       "'list'"
      ],
      "text/plain": [
       "[1] \"list\""
      ]
     },
     "metadata": {},
     "output_type": "display_data"
    },
    {
     "name": "stdout",
     "output_type": "stream",
     "text": [
      "List of 4\n",
      " $ grupo    : num 1\n",
      " $ alumnos  : chr [1:3] \"Maria\" \"Juan\" \"Adela\"\n",
      " $ practicas: num 3\n",
      " $ notas    : num [1:3] 8 7.5 8.7\n"
     ]
    }
   ],
   "source": [
    "lista <- list(grupo=1, alumnos=c(\"Maria\", \"Juan\", \"Adela\"), practicas=3, notas=c(8, 7.5, 8.7))\n",
    "class(lista) # Clase \"list\"\n",
    "str(lista)   # Muestra los objetos que contiene"
   ]
  },
  {
   "cell_type": "markdown",
   "id": "ff764b57-5af7-4bf5-8cd8-0ef628e2a6a4",
   "metadata": {},
   "source": [
    "El comando `str()` nos muestra la información contenida en la lista de una forma muy compacta. \n",
    "\n",
    "Los elementos de una lista se obtienen con el operador `$` o bien con los dobles corchetes `[[ ]]`:"
   ]
  },
  {
   "cell_type": "code",
   "execution_count": 47,
   "id": "9be39acc-b6e7-4b6a-9042-b18c70710ce6",
   "metadata": {},
   "outputs": [
    {
     "data": {
      "text/html": [
       "<style>\n",
       ".list-inline {list-style: none; margin:0; padding: 0}\n",
       ".list-inline>li {display: inline-block}\n",
       ".list-inline>li:not(:last-child)::after {content: \"\\00b7\"; padding: 0 .5ex}\n",
       "</style>\n",
       "<ol class=list-inline><li>'Maria'</li><li>'Juan'</li><li>'Adela'</li></ol>\n"
      ],
      "text/latex": [
       "\\begin{enumerate*}\n",
       "\\item 'Maria'\n",
       "\\item 'Juan'\n",
       "\\item 'Adela'\n",
       "\\end{enumerate*}\n"
      ],
      "text/markdown": [
       "1. 'Maria'\n",
       "2. 'Juan'\n",
       "3. 'Adela'\n",
       "\n",
       "\n"
      ],
      "text/plain": [
       "[1] \"Maria\" \"Juan\"  \"Adela\""
      ]
     },
     "metadata": {},
     "output_type": "display_data"
    },
    {
     "data": {
      "text/html": [
       "<style>\n",
       ".list-inline {list-style: none; margin:0; padding: 0}\n",
       ".list-inline>li {display: inline-block}\n",
       ".list-inline>li:not(:last-child)::after {content: \"\\00b7\"; padding: 0 .5ex}\n",
       "</style>\n",
       "<ol class=list-inline><li>'Maria'</li><li>'Juan'</li><li>'Adela'</li></ol>\n"
      ],
      "text/latex": [
       "\\begin{enumerate*}\n",
       "\\item 'Maria'\n",
       "\\item 'Juan'\n",
       "\\item 'Adela'\n",
       "\\end{enumerate*}\n"
      ],
      "text/markdown": [
       "1. 'Maria'\n",
       "2. 'Juan'\n",
       "3. 'Adela'\n",
       "\n",
       "\n"
      ],
      "text/plain": [
       "[1] \"Maria\" \"Juan\"  \"Adela\""
      ]
     },
     "metadata": {},
     "output_type": "display_data"
    }
   ],
   "source": [
    "lista$alumnos\n",
    "lista[[2]] "
   ]
  },
  {
   "cell_type": "markdown",
   "id": "ca5998f9-aefc-40ac-b23f-560ac5c4778a",
   "metadata": {},
   "source": [
    "## Tabla de datos (data frame)\n",
    "\n",
    "Una tabla de datos o data frame es un objeto de datos de dos dimensiones (filas y columnas), una generalización de las matrices donde cada columna puede contener tipos de datos distintos al resto de columnas, manteniendo todas la misma longitud. Es lo que más se parece a una tabla de datos de cualquier paquete estadístico estandar. Se crean con la función\n",
    "`data.frame()`. En un data frame, los vectores de texto se transforman automáticamente en factores, el número de categorías o niveles vendrá determinado por el número de valores diferentes que contenga el vector. \n",
    "\n",
    "Vamos a definir un data frame con los datos del grupo de personas definido anteriormente. Notar como a cada variable le asignamos un nombre concreto que será el de la columna del data frame:"
   ]
  },
  {
   "cell_type": "code",
   "execution_count": 48,
   "id": "fc7f29db-3a46-4eda-be23-9e5fe2aeb384",
   "metadata": {},
   "outputs": [
    {
     "data": {
      "text/html": [
       "<table class=\"dataframe\">\n",
       "<caption>A data.frame: 8 × 3</caption>\n",
       "<thead>\n",
       "\t<tr><th scope=col>Nombre</th><th scope=col>Edad</th><th scope=col>Actividad</th></tr>\n",
       "\t<tr><th scope=col>&lt;chr&gt;</th><th scope=col>&lt;dbl&gt;</th><th scope=col>&lt;ord&gt;</th></tr>\n",
       "</thead>\n",
       "<tbody>\n",
       "\t<tr><td>ana   </td><td>23</td><td>baja </td></tr>\n",
       "\t<tr><td>luis  </td><td>24</td><td>media</td></tr>\n",
       "\t<tr><td>elena </td><td>45</td><td>media</td></tr>\n",
       "\t<tr><td>amparo</td><td>67</td><td>media</td></tr>\n",
       "\t<tr><td>blanca</td><td>32</td><td>alta </td></tr>\n",
       "\t<tr><td>ana   </td><td>56</td><td>alta </td></tr>\n",
       "\t<tr><td>blanca</td><td>78</td><td>baja </td></tr>\n",
       "\t<tr><td>luis  </td><td>45</td><td>media</td></tr>\n",
       "</tbody>\n",
       "</table>\n"
      ],
      "text/latex": [
       "A data.frame: 8 × 3\n",
       "\\begin{tabular}{lll}\n",
       " Nombre & Edad & Actividad\\\\\n",
       " <chr> & <dbl> & <ord>\\\\\n",
       "\\hline\n",
       "\t ana    & 23 & baja \\\\\n",
       "\t luis   & 24 & media\\\\\n",
       "\t elena  & 45 & media\\\\\n",
       "\t amparo & 67 & media\\\\\n",
       "\t blanca & 32 & alta \\\\\n",
       "\t ana    & 56 & alta \\\\\n",
       "\t blanca & 78 & baja \\\\\n",
       "\t luis   & 45 & media\\\\\n",
       "\\end{tabular}\n"
      ],
      "text/markdown": [
       "\n",
       "A data.frame: 8 × 3\n",
       "\n",
       "| Nombre &lt;chr&gt; | Edad &lt;dbl&gt; | Actividad &lt;ord&gt; |\n",
       "|---|---|---|\n",
       "| ana    | 23 | baja  |\n",
       "| luis   | 24 | media |\n",
       "| elena  | 45 | media |\n",
       "| amparo | 67 | media |\n",
       "| blanca | 32 | alta  |\n",
       "| ana    | 56 | alta  |\n",
       "| blanca | 78 | baja  |\n",
       "| luis   | 45 | media |\n",
       "\n"
      ],
      "text/plain": [
       "  Nombre Edad Actividad\n",
       "1 ana    23   baja     \n",
       "2 luis   24   media    \n",
       "3 elena  45   media    \n",
       "4 amparo 67   media    \n",
       "5 blanca 32   alta     \n",
       "6 ana    56   alta     \n",
       "7 blanca 78   baja     \n",
       "8 luis   45   media    "
      ]
     },
     "metadata": {},
     "output_type": "display_data"
    }
   ],
   "source": [
    "datos <- data.frame(Nombre=nombre, Edad=edad, Actividad=ordered_actividad)\n",
    "datos"
   ]
  },
  {
   "cell_type": "markdown",
   "id": "1af2cd7a-7862-4730-810b-553fa97e708d",
   "metadata": {},
   "source": [
    "Al ejecutar el nombre del data frame creado podemos ver los datos que contiene con los nombres de columna asignados: *Nombre*, *Edad* y *Actividad*.\n",
    "\n",
    "Podemos seleccionar columnas concretas de un data frame usando los corchetes de forma similar a la usada para seleccionar elementos de una matriz. Por ejemplo la orden `datos[,2]` nos mostraría los valores de la columna *Edad*. \n",
    "\n",
    "Para acceder al vector que forma una de las columnas de un data frame también se puede usar el operador `$` después del nombre del data frame y a continuación el nombre de la columna que se quiere seleccionar. Por ejemplo ejecutando la orden: "
   ]
  },
  {
   "cell_type": "code",
   "execution_count": 49,
   "id": "b2541d33-9fa2-4d8e-8e20-2c543105caa8",
   "metadata": {},
   "outputs": [
    {
     "data": {
      "text/html": [
       "<style>\n",
       ".list-inline {list-style: none; margin:0; padding: 0}\n",
       ".list-inline>li {display: inline-block}\n",
       ".list-inline>li:not(:last-child)::after {content: \"\\00b7\"; padding: 0 .5ex}\n",
       "</style>\n",
       "<ol class=list-inline><li>'ana'</li><li>'luis'</li><li>'elena'</li><li>'amparo'</li><li>'blanca'</li><li>'ana'</li><li>'blanca'</li><li>'luis'</li></ol>\n"
      ],
      "text/latex": [
       "\\begin{enumerate*}\n",
       "\\item 'ana'\n",
       "\\item 'luis'\n",
       "\\item 'elena'\n",
       "\\item 'amparo'\n",
       "\\item 'blanca'\n",
       "\\item 'ana'\n",
       "\\item 'blanca'\n",
       "\\item 'luis'\n",
       "\\end{enumerate*}\n"
      ],
      "text/markdown": [
       "1. 'ana'\n",
       "2. 'luis'\n",
       "3. 'elena'\n",
       "4. 'amparo'\n",
       "5. 'blanca'\n",
       "6. 'ana'\n",
       "7. 'blanca'\n",
       "8. 'luis'\n",
       "\n",
       "\n"
      ],
      "text/plain": [
       "[1] \"ana\"    \"luis\"   \"elena\"  \"amparo\" \"blanca\" \"ana\"    \"blanca\" \"luis\"  "
      ]
     },
     "metadata": {},
     "output_type": "display_data"
    }
   ],
   "source": [
    "datos$Nombre"
   ]
  },
  {
   "cell_type": "markdown",
   "id": "5cf74886-b00e-4a51-8e57-32ecaa1cf7af",
   "metadata": {},
   "source": [
    "obtendríamos los valores de la columna *Nombres*. \n",
    "\n",
    "Si queremos añadir otras variables a un data frame únicamente es necesario definir un nuevo vector del mismo tamaño que los anteriores. Por ejemplo vamos a crear un vector con los pesos, y dar el nombre a la nueva columna del data frame de la forma: "
   ]
  },
  {
   "cell_type": "code",
   "execution_count": 50,
   "id": "bcc11741-655d-44be-a83e-847030b35e4f",
   "metadata": {},
   "outputs": [
    {
     "data": {
      "text/html": [
       "<table class=\"dataframe\">\n",
       "<caption>A data.frame: 8 × 4</caption>\n",
       "<thead>\n",
       "\t<tr><th scope=col>Nombre</th><th scope=col>Edad</th><th scope=col>Actividad</th><th scope=col>Peso</th></tr>\n",
       "\t<tr><th scope=col>&lt;chr&gt;</th><th scope=col>&lt;dbl&gt;</th><th scope=col>&lt;ord&gt;</th><th scope=col>&lt;dbl&gt;</th></tr>\n",
       "</thead>\n",
       "<tbody>\n",
       "\t<tr><td>ana   </td><td>23</td><td>baja </td><td>56</td></tr>\n",
       "\t<tr><td>luis  </td><td>24</td><td>media</td><td>67</td></tr>\n",
       "\t<tr><td>elena </td><td>45</td><td>media</td><td>87</td></tr>\n",
       "\t<tr><td>amparo</td><td>67</td><td>media</td><td>68</td></tr>\n",
       "\t<tr><td>blanca</td><td>32</td><td>alta </td><td>79</td></tr>\n",
       "\t<tr><td>ana   </td><td>56</td><td>alta </td><td>75</td></tr>\n",
       "\t<tr><td>blanca</td><td>78</td><td>baja </td><td>76</td></tr>\n",
       "\t<tr><td>luis  </td><td>45</td><td>media</td><td>57</td></tr>\n",
       "</tbody>\n",
       "</table>\n"
      ],
      "text/latex": [
       "A data.frame: 8 × 4\n",
       "\\begin{tabular}{llll}\n",
       " Nombre & Edad & Actividad & Peso\\\\\n",
       " <chr> & <dbl> & <ord> & <dbl>\\\\\n",
       "\\hline\n",
       "\t ana    & 23 & baja  & 56\\\\\n",
       "\t luis   & 24 & media & 67\\\\\n",
       "\t elena  & 45 & media & 87\\\\\n",
       "\t amparo & 67 & media & 68\\\\\n",
       "\t blanca & 32 & alta  & 79\\\\\n",
       "\t ana    & 56 & alta  & 75\\\\\n",
       "\t blanca & 78 & baja  & 76\\\\\n",
       "\t luis   & 45 & media & 57\\\\\n",
       "\\end{tabular}\n"
      ],
      "text/markdown": [
       "\n",
       "A data.frame: 8 × 4\n",
       "\n",
       "| Nombre &lt;chr&gt; | Edad &lt;dbl&gt; | Actividad &lt;ord&gt; | Peso &lt;dbl&gt; |\n",
       "|---|---|---|---|\n",
       "| ana    | 23 | baja  | 56 |\n",
       "| luis   | 24 | media | 67 |\n",
       "| elena  | 45 | media | 87 |\n",
       "| amparo | 67 | media | 68 |\n",
       "| blanca | 32 | alta  | 79 |\n",
       "| ana    | 56 | alta  | 75 |\n",
       "| blanca | 78 | baja  | 76 |\n",
       "| luis   | 45 | media | 57 |\n",
       "\n"
      ],
      "text/plain": [
       "  Nombre Edad Actividad Peso\n",
       "1 ana    23   baja      56  \n",
       "2 luis   24   media     67  \n",
       "3 elena  45   media     87  \n",
       "4 amparo 67   media     68  \n",
       "5 blanca 32   alta      79  \n",
       "6 ana    56   alta      75  \n",
       "7 blanca 78   baja      76  \n",
       "8 luis   45   media     57  "
      ]
     },
     "metadata": {},
     "output_type": "display_data"
    }
   ],
   "source": [
    "pesos <- c(56, 67, 87, 68, 79, 75, 76, 57) # Vector con los pesos\n",
    "datos$Peso <- pesos # Incluye una nueva columna llamada Peso en el data frame datos\n",
    "datos"
   ]
  },
  {
   "cell_type": "markdown",
   "id": "00fe4c0a-2f64-4d2a-88d8-eb5cb655eb9e",
   "metadata": {},
   "source": [
    "Para editar un data frame definido podemos usar la funcion `edit(dataframe)`. Sin embargo la forma mas común de definir un data frame es abriendo un fichero que ya contiene los datos, como se verá más adelante.\n",
    "\n",
    "Por ejemplo, la base de datos `Auto` cargada antes de la librería ISLR es un data frame: "
   ]
  },
  {
   "cell_type": "code",
   "execution_count": 51,
   "id": "86fc59b9-0d96-42ce-956f-9454f02ecf61",
   "metadata": {},
   "outputs": [
    {
     "data": {
      "text/html": [
       "'data.frame'"
      ],
      "text/latex": [
       "'data.frame'"
      ],
      "text/markdown": [
       "'data.frame'"
      ],
      "text/plain": [
       "[1] \"data.frame\""
      ]
     },
     "metadata": {},
     "output_type": "display_data"
    }
   ],
   "source": [
    "class(Auto)"
   ]
  },
  {
   "cell_type": "markdown",
   "id": "b880cfc4-ce47-4ea4-8073-029ff548419f",
   "metadata": {},
   "source": [
    "Como ese data frame tiene muchas filas, podemos usar la función `head()` para mostrar solo la cabecera de esa tabla de datos y conocer así las variables que contiene. "
   ]
  },
  {
   "cell_type": "code",
   "execution_count": 52,
   "id": "363e2de8-4759-4739-8385-b7deb413fdce",
   "metadata": {},
   "outputs": [
    {
     "data": {
      "text/html": [
       "<table class=\"dataframe\">\n",
       "<caption>A data.frame: 6 × 9</caption>\n",
       "<thead>\n",
       "\t<tr><th></th><th scope=col>mpg</th><th scope=col>cylinders</th><th scope=col>displacement</th><th scope=col>horsepower</th><th scope=col>weight</th><th scope=col>acceleration</th><th scope=col>year</th><th scope=col>origin</th><th scope=col>name</th></tr>\n",
       "\t<tr><th></th><th scope=col>&lt;dbl&gt;</th><th scope=col>&lt;dbl&gt;</th><th scope=col>&lt;dbl&gt;</th><th scope=col>&lt;dbl&gt;</th><th scope=col>&lt;dbl&gt;</th><th scope=col>&lt;dbl&gt;</th><th scope=col>&lt;dbl&gt;</th><th scope=col>&lt;dbl&gt;</th><th scope=col>&lt;fct&gt;</th></tr>\n",
       "</thead>\n",
       "<tbody>\n",
       "\t<tr><th scope=row>1</th><td>18</td><td>8</td><td>307</td><td>130</td><td>3504</td><td>12.0</td><td>70</td><td>1</td><td>chevrolet chevelle malibu</td></tr>\n",
       "\t<tr><th scope=row>2</th><td>15</td><td>8</td><td>350</td><td>165</td><td>3693</td><td>11.5</td><td>70</td><td>1</td><td>buick skylark 320        </td></tr>\n",
       "\t<tr><th scope=row>3</th><td>18</td><td>8</td><td>318</td><td>150</td><td>3436</td><td>11.0</td><td>70</td><td>1</td><td>plymouth satellite       </td></tr>\n",
       "\t<tr><th scope=row>4</th><td>16</td><td>8</td><td>304</td><td>150</td><td>3433</td><td>12.0</td><td>70</td><td>1</td><td>amc rebel sst            </td></tr>\n",
       "\t<tr><th scope=row>5</th><td>17</td><td>8</td><td>302</td><td>140</td><td>3449</td><td>10.5</td><td>70</td><td>1</td><td>ford torino              </td></tr>\n",
       "\t<tr><th scope=row>6</th><td>15</td><td>8</td><td>429</td><td>198</td><td>4341</td><td>10.0</td><td>70</td><td>1</td><td>ford galaxie 500         </td></tr>\n",
       "</tbody>\n",
       "</table>\n"
      ],
      "text/latex": [
       "A data.frame: 6 × 9\n",
       "\\begin{tabular}{r|lllllllll}\n",
       "  & mpg & cylinders & displacement & horsepower & weight & acceleration & year & origin & name\\\\\n",
       "  & <dbl> & <dbl> & <dbl> & <dbl> & <dbl> & <dbl> & <dbl> & <dbl> & <fct>\\\\\n",
       "\\hline\n",
       "\t1 & 18 & 8 & 307 & 130 & 3504 & 12.0 & 70 & 1 & chevrolet chevelle malibu\\\\\n",
       "\t2 & 15 & 8 & 350 & 165 & 3693 & 11.5 & 70 & 1 & buick skylark 320        \\\\\n",
       "\t3 & 18 & 8 & 318 & 150 & 3436 & 11.0 & 70 & 1 & plymouth satellite       \\\\\n",
       "\t4 & 16 & 8 & 304 & 150 & 3433 & 12.0 & 70 & 1 & amc rebel sst            \\\\\n",
       "\t5 & 17 & 8 & 302 & 140 & 3449 & 10.5 & 70 & 1 & ford torino              \\\\\n",
       "\t6 & 15 & 8 & 429 & 198 & 4341 & 10.0 & 70 & 1 & ford galaxie 500         \\\\\n",
       "\\end{tabular}\n"
      ],
      "text/markdown": [
       "\n",
       "A data.frame: 6 × 9\n",
       "\n",
       "| <!--/--> | mpg &lt;dbl&gt; | cylinders &lt;dbl&gt; | displacement &lt;dbl&gt; | horsepower &lt;dbl&gt; | weight &lt;dbl&gt; | acceleration &lt;dbl&gt; | year &lt;dbl&gt; | origin &lt;dbl&gt; | name &lt;fct&gt; |\n",
       "|---|---|---|---|---|---|---|---|---|---|\n",
       "| 1 | 18 | 8 | 307 | 130 | 3504 | 12.0 | 70 | 1 | chevrolet chevelle malibu |\n",
       "| 2 | 15 | 8 | 350 | 165 | 3693 | 11.5 | 70 | 1 | buick skylark 320         |\n",
       "| 3 | 18 | 8 | 318 | 150 | 3436 | 11.0 | 70 | 1 | plymouth satellite        |\n",
       "| 4 | 16 | 8 | 304 | 150 | 3433 | 12.0 | 70 | 1 | amc rebel sst             |\n",
       "| 5 | 17 | 8 | 302 | 140 | 3449 | 10.5 | 70 | 1 | ford torino               |\n",
       "| 6 | 15 | 8 | 429 | 198 | 4341 | 10.0 | 70 | 1 | ford galaxie 500          |\n",
       "\n"
      ],
      "text/plain": [
       "  mpg cylinders displacement horsepower weight acceleration year origin\n",
       "1 18  8         307          130        3504   12.0         70   1     \n",
       "2 15  8         350          165        3693   11.5         70   1     \n",
       "3 18  8         318          150        3436   11.0         70   1     \n",
       "4 16  8         304          150        3433   12.0         70   1     \n",
       "5 17  8         302          140        3449   10.5         70   1     \n",
       "6 15  8         429          198        4341   10.0         70   1     \n",
       "  name                     \n",
       "1 chevrolet chevelle malibu\n",
       "2 buick skylark 320        \n",
       "3 plymouth satellite       \n",
       "4 amc rebel sst            \n",
       "5 ford torino              \n",
       "6 ford galaxie 500         "
      ]
     },
     "metadata": {},
     "output_type": "display_data"
    }
   ],
   "source": [
    "head(Auto) "
   ]
  },
  {
   "cell_type": "markdown",
   "id": "14b0e7ba-a312-4bb1-9dce-0deaf5412da8",
   "metadata": {},
   "source": [
    "Podemos acceder a alguna de las variables que contiene ese data frame y realizar operaciones aritméticas con ellas en el caso de ser una variable numérica. Por ejemplo vamos a calcular la media del número de cilindros con la función `mean()`:"
   ]
  },
  {
   "cell_type": "code",
   "execution_count": 53,
   "id": "6d8a021d-c1b3-4bed-bcef-129730066df1",
   "metadata": {},
   "outputs": [
    {
     "data": {
      "text/html": [
       "'numeric'"
      ],
      "text/latex": [
       "'numeric'"
      ],
      "text/markdown": [
       "'numeric'"
      ],
      "text/plain": [
       "[1] \"numeric\""
      ]
     },
     "metadata": {},
     "output_type": "display_data"
    },
    {
     "data": {
      "text/html": [
       "5.4719387755102"
      ],
      "text/latex": [
       "5.4719387755102"
      ],
      "text/markdown": [
       "5.4719387755102"
      ],
      "text/plain": [
       "[1] 5.471939"
      ]
     },
     "metadata": {},
     "output_type": "display_data"
    }
   ],
   "source": [
    "class(Auto$cylinders)\n",
    "mean(Auto$cylinders)"
   ]
  },
  {
   "cell_type": "markdown",
   "id": "437a0f41-7630-43c9-8013-2fca20404e21",
   "metadata": {},
   "source": [
    "Con el comando `attach()` aplicado al nombre de un data frame, las columnas de ese data frame pasan a ser\n",
    "variables de tipo vector simplificando así el código anterior en el que usábamos el operador `$` para acceder a las variables del data frame. Eso sí en cada sesión de trabajo con R **ejecutar la función attach una sola vez a un mismo data frame**. \n",
    "\n",
    "El comando `dettach()` deshace la acción de `attach()` y debe ejecutarse una vez finalizado el análisis de ese data frame para que las variables ya no queden cargadas en esa sesión de R. "
   ]
  },
  {
   "cell_type": "code",
   "execution_count": 54,
   "id": "947ae91b-d3d3-4dda-b2d5-5dbf57d8ece0",
   "metadata": {},
   "outputs": [],
   "source": [
    "attach(Auto)"
   ]
  },
  {
   "cell_type": "code",
   "execution_count": 55,
   "id": "8d32823a-5bc6-45e2-a251-b8402c824c69",
   "metadata": {},
   "outputs": [
    {
     "data": {
      "text/html": [
       "5.4719387755102"
      ],
      "text/latex": [
       "5.4719387755102"
      ],
      "text/markdown": [
       "5.4719387755102"
      ],
      "text/plain": [
       "[1] 5.471939"
      ]
     },
     "metadata": {},
     "output_type": "display_data"
    }
   ],
   "source": [
    "mean(cylinders) # Ahora podemos llamar directamente a la columna por su nombre. "
   ]
  },
  {
   "cell_type": "markdown",
   "id": "ed0b4a4d-7fad-41fb-9a3c-c30f557b22c6",
   "metadata": {},
   "source": [
    "Trabajando con las variables de esa misma muestra, podemos determinar por ejemplo el número de vehículos que tienen 6 cilindros o más. "
   ]
  },
  {
   "cell_type": "code",
   "execution_count": 56,
   "id": "cda36969-08c1-4664-bf17-e97157090aa4",
   "metadata": {},
   "outputs": [
    {
     "data": {
      "text/html": [
       "186"
      ],
      "text/latex": [
       "186"
      ],
      "text/markdown": [
       "186"
      ],
      "text/plain": [
       "[1] 186"
      ]
     },
     "metadata": {},
     "output_type": "display_data"
    }
   ],
   "source": [
    "sum(cylinders>=6)"
   ]
  },
  {
   "cell_type": "markdown",
   "id": "a1caa15c-d30b-47aa-8819-371e072a69bd",
   "metadata": {},
   "source": [
    "o el porcentaje de coches *toyota corolla*: "
   ]
  },
  {
   "cell_type": "code",
   "execution_count": 57,
   "id": "e9d57e2f-4ccb-423f-a8a7-be6a7071eaec",
   "metadata": {},
   "outputs": [
    {
     "data": {
      "text/html": [
       "1.27551020408163"
      ],
      "text/latex": [
       "1.27551020408163"
      ],
      "text/markdown": [
       "1.27551020408163"
      ],
      "text/plain": [
       "[1] 1.27551"
      ]
     },
     "metadata": {},
     "output_type": "display_data"
    },
    {
     "data": {
      "text/html": [
       "1.28"
      ],
      "text/latex": [
       "1.28"
      ],
      "text/markdown": [
       "1.28"
      ],
      "text/plain": [
       "[1] 1.28"
      ]
     },
     "metadata": {},
     "output_type": "display_data"
    },
    {
     "data": {
      "text/html": [
       "'La muestra contiene un 1.28% de coches Toyota Corolla'"
      ],
      "text/latex": [
       "'La muestra contiene un 1.28\\% de coches Toyota Corolla'"
      ],
      "text/markdown": [
       "'La muestra contiene un 1.28% de coches Toyota Corolla'"
      ],
      "text/plain": [
       "[1] \"La muestra contiene un 1.28% de coches Toyota Corolla\""
      ]
     },
     "metadata": {},
     "output_type": "display_data"
    }
   ],
   "source": [
    "sum(name==\"toyota corolla\")/length(name)*100\n",
    "round_val <- round(sum(name==\"toyota corolla\")/length(name)*100, 2); round_val # Redondeamos el valor anterior a dos decimales\n",
    "sprintf(\"La muestra contiene un %s%% de coches Toyota Corolla\", round_val) # Permite escribir el resultado con un formato"
   ]
  },
  {
   "cell_type": "markdown",
   "id": "7cb01d71-6994-43a9-a1e8-ceb6de9affac",
   "metadata": {},
   "source": [
    "Prestad atención a la salida de ejecutar `cylinders>=6` y `name=='toyota corolla'`. "
   ]
  },
  {
   "cell_type": "code",
   "execution_count": 58,
   "id": "f4e52caf-22fa-46ee-893f-576ca62cfd6f",
   "metadata": {},
   "outputs": [
    {
     "data": {
      "text/html": [
       "<style>\n",
       ".list-inline {list-style: none; margin:0; padding: 0}\n",
       ".list-inline>li {display: inline-block}\n",
       ".list-inline>li:not(:last-child)::after {content: \"\\00b7\"; padding: 0 .5ex}\n",
       "</style>\n",
       "<ol class=list-inline><li>TRUE</li><li>TRUE</li><li>TRUE</li><li>TRUE</li><li>TRUE</li><li>TRUE</li><li>TRUE</li><li>TRUE</li><li>TRUE</li><li>TRUE</li><li>TRUE</li><li>TRUE</li><li>TRUE</li><li>TRUE</li><li>FALSE</li><li>TRUE</li><li>TRUE</li><li>TRUE</li><li>FALSE</li><li>FALSE</li><li>FALSE</li><li>FALSE</li><li>FALSE</li><li>FALSE</li><li>TRUE</li><li>TRUE</li><li>TRUE</li><li>TRUE</li><li>TRUE</li><li>FALSE</li><li>FALSE</li><li>FALSE</li><li>TRUE</li><li>TRUE</li><li>TRUE</li><li>TRUE</li><li>TRUE</li><li>TRUE</li><li>TRUE</li><li>TRUE</li><li>TRUE</li><li>TRUE</li><li>TRUE</li><li>TRUE</li><li>TRUE</li><li>FALSE</li><li>TRUE</li><li>TRUE</li><li>FALSE</li><li>FALSE</li><li>FALSE</li><li>FALSE</li><li>FALSE</li><li>FALSE</li><li>FALSE</li><li>FALSE</li><li>FALSE</li><li>FALSE</li><li>FALSE</li><li>FALSE</li><li>FALSE</li><li>TRUE</li><li>TRUE</li><li>TRUE</li><li>TRUE</li><li>TRUE</li><li>TRUE</li><li>TRUE</li><li>TRUE</li><li>TRUE</li><li>FALSE</li><li>TRUE</li><li>TRUE</li><li>TRUE</li><li>TRUE</li><li>FALSE</li><li>FALSE</li><li>FALSE</li><li>FALSE</li><li>FALSE</li><li>FALSE</li><li>FALSE</li><li>FALSE</li><li>FALSE</li><li>TRUE</li><li>TRUE</li><li>TRUE</li><li>TRUE</li><li>TRUE</li><li>TRUE</li><li>TRUE</li><li>TRUE</li><li>TRUE</li><li>TRUE</li><li>TRUE</li><li>TRUE</li><li>TRUE</li><li>TRUE</li><li>TRUE</li><li>TRUE</li><li>TRUE</li><li>FALSE</li><li>TRUE</li><li>TRUE</li><li>TRUE</li><li>TRUE</li><li>TRUE</li><li>FALSE</li><li>FALSE</li><li>FALSE</li><li>FALSE</li><li>FALSE</li><li>TRUE</li><li>FALSE</li><li>TRUE</li><li>TRUE</li><li>FALSE</li><li>FALSE</li><li>FALSE</li><li>FALSE</li><li>TRUE</li><li>FALSE</li><li>TRUE</li><li>TRUE</li><li>TRUE</li><li>TRUE</li><li>TRUE</li><li>FALSE</li><li>FALSE</li><li>FALSE</li><li>FALSE</li><li>TRUE</li><li>TRUE</li><li>TRUE</li><li>TRUE</li><li>TRUE</li><li>TRUE</li><li>TRUE</li><li>TRUE</li><li>FALSE</li><li>FALSE</li><li>FALSE</li><li>FALSE</li><li>FALSE</li><li>FALSE</li><li>FALSE</li><li>FALSE</li><li>FALSE</li><li>FALSE</li><li>FALSE</li><li>TRUE</li><li>TRUE</li><li>TRUE</li><li>TRUE</li><li>TRUE</li><li>TRUE</li><li>TRUE</li><li>TRUE</li><li>TRUE</li><li>TRUE</li><li>TRUE</li><li>TRUE</li><li>TRUE</li><li>TRUE</li><li>TRUE</li><li>FALSE</li><li>FALSE</li><li>TRUE</li><li>FALSE</li><li>FALSE</li><li>FALSE</li><li>FALSE</li><li>TRUE</li><li>FALSE</li><li>TRUE</li><li>FALSE</li><li>FALSE</li><li>FALSE</li><li>FALSE</li><li>FALSE</li><li>FALSE</li><li>FALSE</li><li>FALSE</li><li>FALSE</li><li>FALSE</li><li>TRUE</li><li>TRUE</li><li>TRUE</li><li>TRUE</li><li>TRUE</li><li>TRUE</li><li>TRUE</li><li>TRUE</li><li>FALSE</li><li>FALSE</li><li>FALSE</li><li>FALSE</li><li>TRUE</li><li>TRUE</li><li>TRUE</li><li>TRUE</li><li>FALSE</li><li>FALSE</li><li>FALSE</li><li>FALSE</li><li>FALSE</li><li>TRUE</li><li>FALSE</li><li>TRUE</li><li>TRUE</li><li>TRUE</li><li>TRUE</li><li>TRUE</li><li>TRUE</li><li>FALSE</li><li>FALSE</li><li>FALSE</li><li>FALSE</li><li>FALSE</li><li>TRUE</li><li>TRUE</li><li>TRUE</li><li>TRUE</li><li>TRUE</li><li>TRUE</li><li>TRUE</li><li>TRUE</li><li>TRUE</li><li>TRUE</li><li>TRUE</li><li>TRUE</li><li>FALSE</li><li>FALSE</li><li>FALSE</li><li>FALSE</li><li>FALSE</li><li>FALSE</li><li>FALSE</li><li>FALSE</li><li>TRUE</li><li>FALSE</li><li>FALSE</li><li>FALSE</li><li>FALSE</li><li>FALSE</li><li>FALSE</li><li>FALSE</li><li>TRUE</li><li>TRUE</li><li>TRUE</li><li>TRUE</li><li>TRUE</li><li>TRUE</li><li>FALSE</li><li>TRUE</li><li>TRUE</li><li>TRUE</li><li>TRUE</li><li>TRUE</li><li>TRUE</li><li>TRUE</li><li>TRUE</li><li>TRUE</li><li>TRUE</li><li>FALSE</li><li>FALSE</li><li>FALSE</li><li>FALSE</li><li>FALSE</li><li>FALSE</li><li>FALSE</li><li>FALSE</li><li>FALSE</li><li>TRUE</li><li>FALSE</li><li>TRUE</li><li>FALSE</li><li>FALSE</li><li>TRUE</li><li>TRUE</li><li>FALSE</li><li>TRUE</li><li>TRUE</li><li>TRUE</li><li>TRUE</li><li>TRUE</li><li>TRUE</li><li>TRUE</li><li>TRUE</li><li>TRUE</li><li>TRUE</li><li>FALSE</li><li>FALSE</li><li>FALSE</li><li>FALSE</li><li>FALSE</li><li>TRUE</li><li>FALSE</li><li>TRUE</li><li>FALSE</li><li>FALSE</li><li>FALSE</li><li>FALSE</li><li>FALSE</li><li>TRUE</li><li>TRUE</li><li>FALSE</li><li>FALSE</li><li>FALSE</li><li>FALSE</li><li>FALSE</li><li>FALSE</li><li>FALSE</li><li>FALSE</li><li>TRUE</li><li>FALSE</li><li>FALSE</li><li>FALSE</li><li>FALSE</li><li>FALSE</li><li>FALSE</li><li>FALSE</li><li>FALSE</li><li>FALSE</li><li>FALSE</li><li>FALSE</li><li>FALSE</li><li>FALSE</li><li>FALSE</li><li>FALSE</li><li>TRUE</li><li>FALSE</li><li>FALSE</li><li>FALSE</li><li>FALSE</li><li>FALSE</li><li>FALSE</li><li>TRUE</li><li>FALSE</li><li>FALSE</li><li>FALSE</li><li>FALSE</li><li>FALSE</li><li>FALSE</li><li>FALSE</li><li>FALSE</li><li>FALSE</li><li>FALSE</li><li>FALSE</li><li>FALSE</li><li>FALSE</li><li>FALSE</li><li>FALSE</li><li>FALSE</li><li>FALSE</li><li>TRUE</li><li>TRUE</li><li>TRUE</li><li>TRUE</li><li>TRUE</li><li>TRUE</li><li>TRUE</li><li>FALSE</li><li>FALSE</li><li>FALSE</li><li>FALSE</li><li>FALSE</li><li>FALSE</li><li>FALSE</li><li>FALSE</li><li>FALSE</li><li>FALSE</li><li>FALSE</li><li>FALSE</li><li>FALSE</li><li>FALSE</li><li>FALSE</li><li>FALSE</li><li>FALSE</li><li>FALSE</li><li>TRUE</li><li>TRUE</li><li>FALSE</li><li>TRUE</li><li>FALSE</li><li>FALSE</li><li>FALSE</li><li>FALSE</li><li>FALSE</li><li>FALSE</li><li>FALSE</li><li>FALSE</li></ol>\n"
      ],
      "text/latex": [
       "\\begin{enumerate*}\n",
       "\\item TRUE\n",
       "\\item TRUE\n",
       "\\item TRUE\n",
       "\\item TRUE\n",
       "\\item TRUE\n",
       "\\item TRUE\n",
       "\\item TRUE\n",
       "\\item TRUE\n",
       "\\item TRUE\n",
       "\\item TRUE\n",
       "\\item TRUE\n",
       "\\item TRUE\n",
       "\\item TRUE\n",
       "\\item TRUE\n",
       "\\item FALSE\n",
       "\\item TRUE\n",
       "\\item TRUE\n",
       "\\item TRUE\n",
       "\\item FALSE\n",
       "\\item FALSE\n",
       "\\item FALSE\n",
       "\\item FALSE\n",
       "\\item FALSE\n",
       "\\item FALSE\n",
       "\\item TRUE\n",
       "\\item TRUE\n",
       "\\item TRUE\n",
       "\\item TRUE\n",
       "\\item TRUE\n",
       "\\item FALSE\n",
       "\\item FALSE\n",
       "\\item FALSE\n",
       "\\item TRUE\n",
       "\\item TRUE\n",
       "\\item TRUE\n",
       "\\item TRUE\n",
       "\\item TRUE\n",
       "\\item TRUE\n",
       "\\item TRUE\n",
       "\\item TRUE\n",
       "\\item TRUE\n",
       "\\item TRUE\n",
       "\\item TRUE\n",
       "\\item TRUE\n",
       "\\item TRUE\n",
       "\\item FALSE\n",
       "\\item TRUE\n",
       "\\item TRUE\n",
       "\\item FALSE\n",
       "\\item FALSE\n",
       "\\item FALSE\n",
       "\\item FALSE\n",
       "\\item FALSE\n",
       "\\item FALSE\n",
       "\\item FALSE\n",
       "\\item FALSE\n",
       "\\item FALSE\n",
       "\\item FALSE\n",
       "\\item FALSE\n",
       "\\item FALSE\n",
       "\\item FALSE\n",
       "\\item TRUE\n",
       "\\item TRUE\n",
       "\\item TRUE\n",
       "\\item TRUE\n",
       "\\item TRUE\n",
       "\\item TRUE\n",
       "\\item TRUE\n",
       "\\item TRUE\n",
       "\\item TRUE\n",
       "\\item FALSE\n",
       "\\item TRUE\n",
       "\\item TRUE\n",
       "\\item TRUE\n",
       "\\item TRUE\n",
       "\\item FALSE\n",
       "\\item FALSE\n",
       "\\item FALSE\n",
       "\\item FALSE\n",
       "\\item FALSE\n",
       "\\item FALSE\n",
       "\\item FALSE\n",
       "\\item FALSE\n",
       "\\item FALSE\n",
       "\\item TRUE\n",
       "\\item TRUE\n",
       "\\item TRUE\n",
       "\\item TRUE\n",
       "\\item TRUE\n",
       "\\item TRUE\n",
       "\\item TRUE\n",
       "\\item TRUE\n",
       "\\item TRUE\n",
       "\\item TRUE\n",
       "\\item TRUE\n",
       "\\item TRUE\n",
       "\\item TRUE\n",
       "\\item TRUE\n",
       "\\item TRUE\n",
       "\\item TRUE\n",
       "\\item TRUE\n",
       "\\item FALSE\n",
       "\\item TRUE\n",
       "\\item TRUE\n",
       "\\item TRUE\n",
       "\\item TRUE\n",
       "\\item TRUE\n",
       "\\item FALSE\n",
       "\\item FALSE\n",
       "\\item FALSE\n",
       "\\item FALSE\n",
       "\\item FALSE\n",
       "\\item TRUE\n",
       "\\item FALSE\n",
       "\\item TRUE\n",
       "\\item TRUE\n",
       "\\item FALSE\n",
       "\\item FALSE\n",
       "\\item FALSE\n",
       "\\item FALSE\n",
       "\\item TRUE\n",
       "\\item FALSE\n",
       "\\item TRUE\n",
       "\\item TRUE\n",
       "\\item TRUE\n",
       "\\item TRUE\n",
       "\\item TRUE\n",
       "\\item FALSE\n",
       "\\item FALSE\n",
       "\\item FALSE\n",
       "\\item FALSE\n",
       "\\item TRUE\n",
       "\\item TRUE\n",
       "\\item TRUE\n",
       "\\item TRUE\n",
       "\\item TRUE\n",
       "\\item TRUE\n",
       "\\item TRUE\n",
       "\\item TRUE\n",
       "\\item FALSE\n",
       "\\item FALSE\n",
       "\\item FALSE\n",
       "\\item FALSE\n",
       "\\item FALSE\n",
       "\\item FALSE\n",
       "\\item FALSE\n",
       "\\item FALSE\n",
       "\\item FALSE\n",
       "\\item FALSE\n",
       "\\item FALSE\n",
       "\\item TRUE\n",
       "\\item TRUE\n",
       "\\item TRUE\n",
       "\\item TRUE\n",
       "\\item TRUE\n",
       "\\item TRUE\n",
       "\\item TRUE\n",
       "\\item TRUE\n",
       "\\item TRUE\n",
       "\\item TRUE\n",
       "\\item TRUE\n",
       "\\item TRUE\n",
       "\\item TRUE\n",
       "\\item TRUE\n",
       "\\item TRUE\n",
       "\\item FALSE\n",
       "\\item FALSE\n",
       "\\item TRUE\n",
       "\\item FALSE\n",
       "\\item FALSE\n",
       "\\item FALSE\n",
       "\\item FALSE\n",
       "\\item TRUE\n",
       "\\item FALSE\n",
       "\\item TRUE\n",
       "\\item FALSE\n",
       "\\item FALSE\n",
       "\\item FALSE\n",
       "\\item FALSE\n",
       "\\item FALSE\n",
       "\\item FALSE\n",
       "\\item FALSE\n",
       "\\item FALSE\n",
       "\\item FALSE\n",
       "\\item FALSE\n",
       "\\item TRUE\n",
       "\\item TRUE\n",
       "\\item TRUE\n",
       "\\item TRUE\n",
       "\\item TRUE\n",
       "\\item TRUE\n",
       "\\item TRUE\n",
       "\\item TRUE\n",
       "\\item FALSE\n",
       "\\item FALSE\n",
       "\\item FALSE\n",
       "\\item FALSE\n",
       "\\item TRUE\n",
       "\\item TRUE\n",
       "\\item TRUE\n",
       "\\item TRUE\n",
       "\\item FALSE\n",
       "\\item FALSE\n",
       "\\item FALSE\n",
       "\\item FALSE\n",
       "\\item FALSE\n",
       "\\item TRUE\n",
       "\\item FALSE\n",
       "\\item TRUE\n",
       "\\item TRUE\n",
       "\\item TRUE\n",
       "\\item TRUE\n",
       "\\item TRUE\n",
       "\\item TRUE\n",
       "\\item FALSE\n",
       "\\item FALSE\n",
       "\\item FALSE\n",
       "\\item FALSE\n",
       "\\item FALSE\n",
       "\\item TRUE\n",
       "\\item TRUE\n",
       "\\item TRUE\n",
       "\\item TRUE\n",
       "\\item TRUE\n",
       "\\item TRUE\n",
       "\\item TRUE\n",
       "\\item TRUE\n",
       "\\item TRUE\n",
       "\\item TRUE\n",
       "\\item TRUE\n",
       "\\item TRUE\n",
       "\\item FALSE\n",
       "\\item FALSE\n",
       "\\item FALSE\n",
       "\\item FALSE\n",
       "\\item FALSE\n",
       "\\item FALSE\n",
       "\\item FALSE\n",
       "\\item FALSE\n",
       "\\item TRUE\n",
       "\\item FALSE\n",
       "\\item FALSE\n",
       "\\item FALSE\n",
       "\\item FALSE\n",
       "\\item FALSE\n",
       "\\item FALSE\n",
       "\\item FALSE\n",
       "\\item TRUE\n",
       "\\item TRUE\n",
       "\\item TRUE\n",
       "\\item TRUE\n",
       "\\item TRUE\n",
       "\\item TRUE\n",
       "\\item FALSE\n",
       "\\item TRUE\n",
       "\\item TRUE\n",
       "\\item TRUE\n",
       "\\item TRUE\n",
       "\\item TRUE\n",
       "\\item TRUE\n",
       "\\item TRUE\n",
       "\\item TRUE\n",
       "\\item TRUE\n",
       "\\item TRUE\n",
       "\\item FALSE\n",
       "\\item FALSE\n",
       "\\item FALSE\n",
       "\\item FALSE\n",
       "\\item FALSE\n",
       "\\item FALSE\n",
       "\\item FALSE\n",
       "\\item FALSE\n",
       "\\item FALSE\n",
       "\\item TRUE\n",
       "\\item FALSE\n",
       "\\item TRUE\n",
       "\\item FALSE\n",
       "\\item FALSE\n",
       "\\item TRUE\n",
       "\\item TRUE\n",
       "\\item FALSE\n",
       "\\item TRUE\n",
       "\\item TRUE\n",
       "\\item TRUE\n",
       "\\item TRUE\n",
       "\\item TRUE\n",
       "\\item TRUE\n",
       "\\item TRUE\n",
       "\\item TRUE\n",
       "\\item TRUE\n",
       "\\item TRUE\n",
       "\\item FALSE\n",
       "\\item FALSE\n",
       "\\item FALSE\n",
       "\\item FALSE\n",
       "\\item FALSE\n",
       "\\item TRUE\n",
       "\\item FALSE\n",
       "\\item TRUE\n",
       "\\item FALSE\n",
       "\\item FALSE\n",
       "\\item FALSE\n",
       "\\item FALSE\n",
       "\\item FALSE\n",
       "\\item TRUE\n",
       "\\item TRUE\n",
       "\\item FALSE\n",
       "\\item FALSE\n",
       "\\item FALSE\n",
       "\\item FALSE\n",
       "\\item FALSE\n",
       "\\item FALSE\n",
       "\\item FALSE\n",
       "\\item FALSE\n",
       "\\item TRUE\n",
       "\\item FALSE\n",
       "\\item FALSE\n",
       "\\item FALSE\n",
       "\\item FALSE\n",
       "\\item FALSE\n",
       "\\item FALSE\n",
       "\\item FALSE\n",
       "\\item FALSE\n",
       "\\item FALSE\n",
       "\\item FALSE\n",
       "\\item FALSE\n",
       "\\item FALSE\n",
       "\\item FALSE\n",
       "\\item FALSE\n",
       "\\item FALSE\n",
       "\\item TRUE\n",
       "\\item FALSE\n",
       "\\item FALSE\n",
       "\\item FALSE\n",
       "\\item FALSE\n",
       "\\item FALSE\n",
       "\\item FALSE\n",
       "\\item TRUE\n",
       "\\item FALSE\n",
       "\\item FALSE\n",
       "\\item FALSE\n",
       "\\item FALSE\n",
       "\\item FALSE\n",
       "\\item FALSE\n",
       "\\item FALSE\n",
       "\\item FALSE\n",
       "\\item FALSE\n",
       "\\item FALSE\n",
       "\\item FALSE\n",
       "\\item FALSE\n",
       "\\item FALSE\n",
       "\\item FALSE\n",
       "\\item FALSE\n",
       "\\item FALSE\n",
       "\\item FALSE\n",
       "\\item TRUE\n",
       "\\item TRUE\n",
       "\\item TRUE\n",
       "\\item TRUE\n",
       "\\item TRUE\n",
       "\\item TRUE\n",
       "\\item TRUE\n",
       "\\item FALSE\n",
       "\\item FALSE\n",
       "\\item FALSE\n",
       "\\item FALSE\n",
       "\\item FALSE\n",
       "\\item FALSE\n",
       "\\item FALSE\n",
       "\\item FALSE\n",
       "\\item FALSE\n",
       "\\item FALSE\n",
       "\\item FALSE\n",
       "\\item FALSE\n",
       "\\item FALSE\n",
       "\\item FALSE\n",
       "\\item FALSE\n",
       "\\item FALSE\n",
       "\\item FALSE\n",
       "\\item FALSE\n",
       "\\item TRUE\n",
       "\\item TRUE\n",
       "\\item FALSE\n",
       "\\item TRUE\n",
       "\\item FALSE\n",
       "\\item FALSE\n",
       "\\item FALSE\n",
       "\\item FALSE\n",
       "\\item FALSE\n",
       "\\item FALSE\n",
       "\\item FALSE\n",
       "\\item FALSE\n",
       "\\end{enumerate*}\n"
      ],
      "text/markdown": [
       "1. TRUE\n",
       "2. TRUE\n",
       "3. TRUE\n",
       "4. TRUE\n",
       "5. TRUE\n",
       "6. TRUE\n",
       "7. TRUE\n",
       "8. TRUE\n",
       "9. TRUE\n",
       "10. TRUE\n",
       "11. TRUE\n",
       "12. TRUE\n",
       "13. TRUE\n",
       "14. TRUE\n",
       "15. FALSE\n",
       "16. TRUE\n",
       "17. TRUE\n",
       "18. TRUE\n",
       "19. FALSE\n",
       "20. FALSE\n",
       "21. FALSE\n",
       "22. FALSE\n",
       "23. FALSE\n",
       "24. FALSE\n",
       "25. TRUE\n",
       "26. TRUE\n",
       "27. TRUE\n",
       "28. TRUE\n",
       "29. TRUE\n",
       "30. FALSE\n",
       "31. FALSE\n",
       "32. FALSE\n",
       "33. TRUE\n",
       "34. TRUE\n",
       "35. TRUE\n",
       "36. TRUE\n",
       "37. TRUE\n",
       "38. TRUE\n",
       "39. TRUE\n",
       "40. TRUE\n",
       "41. TRUE\n",
       "42. TRUE\n",
       "43. TRUE\n",
       "44. TRUE\n",
       "45. TRUE\n",
       "46. FALSE\n",
       "47. TRUE\n",
       "48. TRUE\n",
       "49. FALSE\n",
       "50. FALSE\n",
       "51. FALSE\n",
       "52. FALSE\n",
       "53. FALSE\n",
       "54. FALSE\n",
       "55. FALSE\n",
       "56. FALSE\n",
       "57. FALSE\n",
       "58. FALSE\n",
       "59. FALSE\n",
       "60. FALSE\n",
       "61. FALSE\n",
       "62. TRUE\n",
       "63. TRUE\n",
       "64. TRUE\n",
       "65. TRUE\n",
       "66. TRUE\n",
       "67. TRUE\n",
       "68. TRUE\n",
       "69. TRUE\n",
       "70. TRUE\n",
       "71. FALSE\n",
       "72. TRUE\n",
       "73. TRUE\n",
       "74. TRUE\n",
       "75. TRUE\n",
       "76. FALSE\n",
       "77. FALSE\n",
       "78. FALSE\n",
       "79. FALSE\n",
       "80. FALSE\n",
       "81. FALSE\n",
       "82. FALSE\n",
       "83. FALSE\n",
       "84. FALSE\n",
       "85. TRUE\n",
       "86. TRUE\n",
       "87. TRUE\n",
       "88. TRUE\n",
       "89. TRUE\n",
       "90. TRUE\n",
       "91. TRUE\n",
       "92. TRUE\n",
       "93. TRUE\n",
       "94. TRUE\n",
       "95. TRUE\n",
       "96. TRUE\n",
       "97. TRUE\n",
       "98. TRUE\n",
       "99. TRUE\n",
       "100. TRUE\n",
       "101. TRUE\n",
       "102. FALSE\n",
       "103. TRUE\n",
       "104. TRUE\n",
       "105. TRUE\n",
       "106. TRUE\n",
       "107. TRUE\n",
       "108. FALSE\n",
       "109. FALSE\n",
       "110. FALSE\n",
       "111. FALSE\n",
       "112. FALSE\n",
       "113. TRUE\n",
       "114. FALSE\n",
       "115. TRUE\n",
       "116. TRUE\n",
       "117. FALSE\n",
       "118. FALSE\n",
       "119. FALSE\n",
       "120. FALSE\n",
       "121. TRUE\n",
       "122. FALSE\n",
       "123. TRUE\n",
       "124. TRUE\n",
       "125. TRUE\n",
       "126. TRUE\n",
       "127. TRUE\n",
       "128. FALSE\n",
       "129. FALSE\n",
       "130. FALSE\n",
       "131. FALSE\n",
       "132. TRUE\n",
       "133. TRUE\n",
       "134. TRUE\n",
       "135. TRUE\n",
       "136. TRUE\n",
       "137. TRUE\n",
       "138. TRUE\n",
       "139. TRUE\n",
       "140. FALSE\n",
       "141. FALSE\n",
       "142. FALSE\n",
       "143. FALSE\n",
       "144. FALSE\n",
       "145. FALSE\n",
       "146. FALSE\n",
       "147. FALSE\n",
       "148. FALSE\n",
       "149. FALSE\n",
       "150. FALSE\n",
       "151. TRUE\n",
       "152. TRUE\n",
       "153. TRUE\n",
       "154. TRUE\n",
       "155. TRUE\n",
       "156. TRUE\n",
       "157. TRUE\n",
       "158. TRUE\n",
       "159. TRUE\n",
       "160. TRUE\n",
       "161. TRUE\n",
       "162. TRUE\n",
       "163. TRUE\n",
       "164. TRUE\n",
       "165. TRUE\n",
       "166. FALSE\n",
       "167. FALSE\n",
       "168. TRUE\n",
       "169. FALSE\n",
       "170. FALSE\n",
       "171. FALSE\n",
       "172. FALSE\n",
       "173. TRUE\n",
       "174. FALSE\n",
       "175. TRUE\n",
       "176. FALSE\n",
       "177. FALSE\n",
       "178. FALSE\n",
       "179. FALSE\n",
       "180. FALSE\n",
       "181. FALSE\n",
       "182. FALSE\n",
       "183. FALSE\n",
       "184. FALSE\n",
       "185. FALSE\n",
       "186. TRUE\n",
       "187. TRUE\n",
       "188. TRUE\n",
       "189. TRUE\n",
       "190. TRUE\n",
       "191. TRUE\n",
       "192. TRUE\n",
       "193. TRUE\n",
       "194. FALSE\n",
       "195. FALSE\n",
       "196. FALSE\n",
       "197. FALSE\n",
       "198. TRUE\n",
       "199. TRUE\n",
       "200. TRUE\n",
       "201. TRUE\n",
       "202. FALSE\n",
       "203. FALSE\n",
       "204. FALSE\n",
       "205. FALSE\n",
       "206. FALSE\n",
       "207. TRUE\n",
       "208. FALSE\n",
       "209. TRUE\n",
       "210. TRUE\n",
       "211. TRUE\n",
       "212. TRUE\n",
       "213. TRUE\n",
       "214. TRUE\n",
       "215. FALSE\n",
       "216. FALSE\n",
       "217. FALSE\n",
       "218. FALSE\n",
       "219. FALSE\n",
       "220. TRUE\n",
       "221. TRUE\n",
       "222. TRUE\n",
       "223. TRUE\n",
       "224. TRUE\n",
       "225. TRUE\n",
       "226. TRUE\n",
       "227. TRUE\n",
       "228. TRUE\n",
       "229. TRUE\n",
       "230. TRUE\n",
       "231. TRUE\n",
       "232. FALSE\n",
       "233. FALSE\n",
       "234. FALSE\n",
       "235. FALSE\n",
       "236. FALSE\n",
       "237. FALSE\n",
       "238. FALSE\n",
       "239. FALSE\n",
       "240. TRUE\n",
       "241. FALSE\n",
       "242. FALSE\n",
       "243. FALSE\n",
       "244. FALSE\n",
       "245. FALSE\n",
       "246. FALSE\n",
       "247. FALSE\n",
       "248. TRUE\n",
       "249. TRUE\n",
       "250. TRUE\n",
       "251. TRUE\n",
       "252. TRUE\n",
       "253. TRUE\n",
       "254. FALSE\n",
       "255. TRUE\n",
       "256. TRUE\n",
       "257. TRUE\n",
       "258. TRUE\n",
       "259. TRUE\n",
       "260. TRUE\n",
       "261. TRUE\n",
       "262. TRUE\n",
       "263. TRUE\n",
       "264. TRUE\n",
       "265. FALSE\n",
       "266. FALSE\n",
       "267. FALSE\n",
       "268. FALSE\n",
       "269. FALSE\n",
       "270. FALSE\n",
       "271. FALSE\n",
       "272. FALSE\n",
       "273. FALSE\n",
       "274. TRUE\n",
       "275. FALSE\n",
       "276. TRUE\n",
       "277. FALSE\n",
       "278. FALSE\n",
       "279. TRUE\n",
       "280. TRUE\n",
       "281. FALSE\n",
       "282. TRUE\n",
       "283. TRUE\n",
       "284. TRUE\n",
       "285. TRUE\n",
       "286. TRUE\n",
       "287. TRUE\n",
       "288. TRUE\n",
       "289. TRUE\n",
       "290. TRUE\n",
       "291. TRUE\n",
       "292. FALSE\n",
       "293. FALSE\n",
       "294. FALSE\n",
       "295. FALSE\n",
       "296. FALSE\n",
       "297. TRUE\n",
       "298. FALSE\n",
       "299. TRUE\n",
       "300. FALSE\n",
       "301. FALSE\n",
       "302. FALSE\n",
       "303. FALSE\n",
       "304. FALSE\n",
       "305. TRUE\n",
       "306. TRUE\n",
       "307. FALSE\n",
       "308. FALSE\n",
       "309. FALSE\n",
       "310. FALSE\n",
       "311. FALSE\n",
       "312. FALSE\n",
       "313. FALSE\n",
       "314. FALSE\n",
       "315. TRUE\n",
       "316. FALSE\n",
       "317. FALSE\n",
       "318. FALSE\n",
       "319. FALSE\n",
       "320. FALSE\n",
       "321. FALSE\n",
       "322. FALSE\n",
       "323. FALSE\n",
       "324. FALSE\n",
       "325. FALSE\n",
       "326. FALSE\n",
       "327. FALSE\n",
       "328. FALSE\n",
       "329. FALSE\n",
       "330. FALSE\n",
       "331. TRUE\n",
       "332. FALSE\n",
       "333. FALSE\n",
       "334. FALSE\n",
       "335. FALSE\n",
       "336. FALSE\n",
       "337. FALSE\n",
       "338. TRUE\n",
       "339. FALSE\n",
       "340. FALSE\n",
       "341. FALSE\n",
       "342. FALSE\n",
       "343. FALSE\n",
       "344. FALSE\n",
       "345. FALSE\n",
       "346. FALSE\n",
       "347. FALSE\n",
       "348. FALSE\n",
       "349. FALSE\n",
       "350. FALSE\n",
       "351. FALSE\n",
       "352. FALSE\n",
       "353. FALSE\n",
       "354. FALSE\n",
       "355. FALSE\n",
       "356. TRUE\n",
       "357. TRUE\n",
       "358. TRUE\n",
       "359. TRUE\n",
       "360. TRUE\n",
       "361. TRUE\n",
       "362. TRUE\n",
       "363. FALSE\n",
       "364. FALSE\n",
       "365. FALSE\n",
       "366. FALSE\n",
       "367. FALSE\n",
       "368. FALSE\n",
       "369. FALSE\n",
       "370. FALSE\n",
       "371. FALSE\n",
       "372. FALSE\n",
       "373. FALSE\n",
       "374. FALSE\n",
       "375. FALSE\n",
       "376. FALSE\n",
       "377. FALSE\n",
       "378. FALSE\n",
       "379. FALSE\n",
       "380. FALSE\n",
       "381. TRUE\n",
       "382. TRUE\n",
       "383. FALSE\n",
       "384. TRUE\n",
       "385. FALSE\n",
       "386. FALSE\n",
       "387. FALSE\n",
       "388. FALSE\n",
       "389. FALSE\n",
       "390. FALSE\n",
       "391. FALSE\n",
       "392. FALSE\n",
       "\n",
       "\n"
      ],
      "text/plain": [
       "  [1]  TRUE  TRUE  TRUE  TRUE  TRUE  TRUE  TRUE  TRUE  TRUE  TRUE  TRUE  TRUE\n",
       " [13]  TRUE  TRUE FALSE  TRUE  TRUE  TRUE FALSE FALSE FALSE FALSE FALSE FALSE\n",
       " [25]  TRUE  TRUE  TRUE  TRUE  TRUE FALSE FALSE FALSE  TRUE  TRUE  TRUE  TRUE\n",
       " [37]  TRUE  TRUE  TRUE  TRUE  TRUE  TRUE  TRUE  TRUE  TRUE FALSE  TRUE  TRUE\n",
       " [49] FALSE FALSE FALSE FALSE FALSE FALSE FALSE FALSE FALSE FALSE FALSE FALSE\n",
       " [61] FALSE  TRUE  TRUE  TRUE  TRUE  TRUE  TRUE  TRUE  TRUE  TRUE FALSE  TRUE\n",
       " [73]  TRUE  TRUE  TRUE FALSE FALSE FALSE FALSE FALSE FALSE FALSE FALSE FALSE\n",
       " [85]  TRUE  TRUE  TRUE  TRUE  TRUE  TRUE  TRUE  TRUE  TRUE  TRUE  TRUE  TRUE\n",
       " [97]  TRUE  TRUE  TRUE  TRUE  TRUE FALSE  TRUE  TRUE  TRUE  TRUE  TRUE FALSE\n",
       "[109] FALSE FALSE FALSE FALSE  TRUE FALSE  TRUE  TRUE FALSE FALSE FALSE FALSE\n",
       "[121]  TRUE FALSE  TRUE  TRUE  TRUE  TRUE  TRUE FALSE FALSE FALSE FALSE  TRUE\n",
       "[133]  TRUE  TRUE  TRUE  TRUE  TRUE  TRUE  TRUE FALSE FALSE FALSE FALSE FALSE\n",
       "[145] FALSE FALSE FALSE FALSE FALSE FALSE  TRUE  TRUE  TRUE  TRUE  TRUE  TRUE\n",
       "[157]  TRUE  TRUE  TRUE  TRUE  TRUE  TRUE  TRUE  TRUE  TRUE FALSE FALSE  TRUE\n",
       "[169] FALSE FALSE FALSE FALSE  TRUE FALSE  TRUE FALSE FALSE FALSE FALSE FALSE\n",
       "[181] FALSE FALSE FALSE FALSE FALSE  TRUE  TRUE  TRUE  TRUE  TRUE  TRUE  TRUE\n",
       "[193]  TRUE FALSE FALSE FALSE FALSE  TRUE  TRUE  TRUE  TRUE FALSE FALSE FALSE\n",
       "[205] FALSE FALSE  TRUE FALSE  TRUE  TRUE  TRUE  TRUE  TRUE  TRUE FALSE FALSE\n",
       "[217] FALSE FALSE FALSE  TRUE  TRUE  TRUE  TRUE  TRUE  TRUE  TRUE  TRUE  TRUE\n",
       "[229]  TRUE  TRUE  TRUE FALSE FALSE FALSE FALSE FALSE FALSE FALSE FALSE  TRUE\n",
       "[241] FALSE FALSE FALSE FALSE FALSE FALSE FALSE  TRUE  TRUE  TRUE  TRUE  TRUE\n",
       "[253]  TRUE FALSE  TRUE  TRUE  TRUE  TRUE  TRUE  TRUE  TRUE  TRUE  TRUE  TRUE\n",
       "[265] FALSE FALSE FALSE FALSE FALSE FALSE FALSE FALSE FALSE  TRUE FALSE  TRUE\n",
       "[277] FALSE FALSE  TRUE  TRUE FALSE  TRUE  TRUE  TRUE  TRUE  TRUE  TRUE  TRUE\n",
       "[289]  TRUE  TRUE  TRUE FALSE FALSE FALSE FALSE FALSE  TRUE FALSE  TRUE FALSE\n",
       "[301] FALSE FALSE FALSE FALSE  TRUE  TRUE FALSE FALSE FALSE FALSE FALSE FALSE\n",
       "[313] FALSE FALSE  TRUE FALSE FALSE FALSE FALSE FALSE FALSE FALSE FALSE FALSE\n",
       "[325] FALSE FALSE FALSE FALSE FALSE FALSE  TRUE FALSE FALSE FALSE FALSE FALSE\n",
       "[337] FALSE  TRUE FALSE FALSE FALSE FALSE FALSE FALSE FALSE FALSE FALSE FALSE\n",
       "[349] FALSE FALSE FALSE FALSE FALSE FALSE FALSE  TRUE  TRUE  TRUE  TRUE  TRUE\n",
       "[361]  TRUE  TRUE FALSE FALSE FALSE FALSE FALSE FALSE FALSE FALSE FALSE FALSE\n",
       "[373] FALSE FALSE FALSE FALSE FALSE FALSE FALSE FALSE  TRUE  TRUE FALSE  TRUE\n",
       "[385] FALSE FALSE FALSE FALSE FALSE FALSE FALSE FALSE"
      ]
     },
     "metadata": {},
     "output_type": "display_data"
    },
    {
     "data": {
      "text/html": [
       "<style>\n",
       ".list-inline {list-style: none; margin:0; padding: 0}\n",
       ".list-inline>li {display: inline-block}\n",
       ".list-inline>li:not(:last-child)::after {content: \"\\00b7\"; padding: 0 .5ex}\n",
       "</style>\n",
       "<ol class=list-inline><li>FALSE</li><li>FALSE</li><li>FALSE</li><li>FALSE</li><li>FALSE</li><li>FALSE</li><li>FALSE</li><li>FALSE</li><li>FALSE</li><li>FALSE</li><li>FALSE</li><li>FALSE</li><li>FALSE</li><li>FALSE</li><li>FALSE</li><li>FALSE</li><li>FALSE</li><li>FALSE</li><li>FALSE</li><li>FALSE</li><li>FALSE</li><li>FALSE</li><li>FALSE</li><li>FALSE</li><li>FALSE</li><li>FALSE</li><li>FALSE</li><li>FALSE</li><li>FALSE</li><li>FALSE</li><li>FALSE</li><li>FALSE</li><li>FALSE</li><li>FALSE</li><li>FALSE</li><li>FALSE</li><li>FALSE</li><li>FALSE</li><li>FALSE</li><li>FALSE</li><li>FALSE</li><li>FALSE</li><li>FALSE</li><li>FALSE</li><li>FALSE</li><li>FALSE</li><li>FALSE</li><li>FALSE</li><li>FALSE</li><li>FALSE</li><li>FALSE</li><li>FALSE</li><li>FALSE</li><li>FALSE</li><li>FALSE</li><li>FALSE</li><li>FALSE</li><li>FALSE</li><li>FALSE</li><li>FALSE</li><li>FALSE</li><li>FALSE</li><li>FALSE</li><li>FALSE</li><li>FALSE</li><li>FALSE</li><li>FALSE</li><li>FALSE</li><li>FALSE</li><li>FALSE</li><li>FALSE</li><li>FALSE</li><li>FALSE</li><li>FALSE</li><li>FALSE</li><li>FALSE</li><li>FALSE</li><li>FALSE</li><li>FALSE</li><li>FALSE</li><li>FALSE</li><li>FALSE</li><li>FALSE</li><li>FALSE</li><li>FALSE</li><li>FALSE</li><li>FALSE</li><li>FALSE</li><li>FALSE</li><li>FALSE</li><li>FALSE</li><li>FALSE</li><li>FALSE</li><li>FALSE</li><li>FALSE</li><li>FALSE</li><li>FALSE</li><li>FALSE</li><li>FALSE</li><li>FALSE</li><li>FALSE</li><li>FALSE</li><li>FALSE</li><li>FALSE</li><li>FALSE</li><li>FALSE</li><li>FALSE</li><li>FALSE</li><li>FALSE</li><li>FALSE</li><li>FALSE</li><li>FALSE</li><li>FALSE</li><li>FALSE</li><li>FALSE</li><li>FALSE</li><li>FALSE</li><li>FALSE</li><li>FALSE</li><li>FALSE</li><li>FALSE</li><li>FALSE</li><li>FALSE</li><li>FALSE</li><li>FALSE</li><li>FALSE</li><li>FALSE</li><li>FALSE</li><li>FALSE</li><li>FALSE</li><li>FALSE</li><li>FALSE</li><li>FALSE</li><li>FALSE</li><li>FALSE</li><li>FALSE</li><li>FALSE</li><li>FALSE</li><li>FALSE</li><li>FALSE</li><li>FALSE</li><li>FALSE</li><li>FALSE</li><li>FALSE</li><li>FALSE</li><li>FALSE</li><li>FALSE</li><li>FALSE</li><li>FALSE</li><li>FALSE</li><li>FALSE</li><li>FALSE</li><li>FALSE</li><li>FALSE</li><li>FALSE</li><li>FALSE</li><li>FALSE</li><li>FALSE</li><li>FALSE</li><li>FALSE</li><li>FALSE</li><li>FALSE</li><li>FALSE</li><li>FALSE</li><li>FALSE</li><li>TRUE</li><li>FALSE</li><li>FALSE</li><li>FALSE</li><li>FALSE</li><li>FALSE</li><li>FALSE</li><li>FALSE</li><li>FALSE</li><li>FALSE</li><li>FALSE</li><li>FALSE</li><li>FALSE</li><li>FALSE</li><li>FALSE</li><li>FALSE</li><li>FALSE</li><li>FALSE</li><li>FALSE</li><li>FALSE</li><li>FALSE</li><li>FALSE</li><li>FALSE</li><li>FALSE</li><li>FALSE</li><li>FALSE</li><li>FALSE</li><li>FALSE</li><li>FALSE</li><li>FALSE</li><li>FALSE</li><li>FALSE</li><li>FALSE</li><li>FALSE</li><li>FALSE</li><li>FALSE</li><li>FALSE</li><li>FALSE</li><li>TRUE</li><li>FALSE</li><li>FALSE</li><li>FALSE</li><li>FALSE</li><li>FALSE</li><li>FALSE</li><li>FALSE</li><li>FALSE</li><li>FALSE</li><li>FALSE</li><li>FALSE</li><li>FALSE</li><li>FALSE</li><li>FALSE</li><li>FALSE</li><li>FALSE</li><li>FALSE</li><li>FALSE</li><li>FALSE</li><li>FALSE</li><li>FALSE</li><li>FALSE</li><li>FALSE</li><li>FALSE</li><li>FALSE</li><li>FALSE</li><li>FALSE</li><li>FALSE</li><li>FALSE</li><li>FALSE</li><li>FALSE</li><li>FALSE</li><li>FALSE</li><li>FALSE</li><li>FALSE</li><li>FALSE</li><li>FALSE</li><li>FALSE</li><li>FALSE</li><li>FALSE</li><li>FALSE</li><li>FALSE</li><li>FALSE</li><li>FALSE</li><li>FALSE</li><li>FALSE</li><li>FALSE</li><li>FALSE</li><li>FALSE</li><li>FALSE</li><li>FALSE</li><li>FALSE</li><li>FALSE</li><li>FALSE</li><li>FALSE</li><li>FALSE</li><li>FALSE</li><li>FALSE</li><li>FALSE</li><li>FALSE</li><li>FALSE</li><li>FALSE</li><li>FALSE</li><li>FALSE</li><li>FALSE</li><li>FALSE</li><li>FALSE</li><li>FALSE</li><li>FALSE</li><li>FALSE</li><li>FALSE</li><li>FALSE</li><li>FALSE</li><li>FALSE</li><li>FALSE</li><li>FALSE</li><li>FALSE</li><li>FALSE</li><li>FALSE</li><li>FALSE</li><li>FALSE</li><li>FALSE</li><li>FALSE</li><li>FALSE</li><li>FALSE</li><li>FALSE</li><li>FALSE</li><li>FALSE</li><li>FALSE</li><li>FALSE</li><li>FALSE</li><li>FALSE</li><li>FALSE</li><li>FALSE</li><li>FALSE</li><li>FALSE</li><li>FALSE</li><li>FALSE</li><li>FALSE</li><li>FALSE</li><li>FALSE</li><li>FALSE</li><li>FALSE</li><li>FALSE</li><li>FALSE</li><li>FALSE</li><li>FALSE</li><li>FALSE</li><li>FALSE</li><li>FALSE</li><li>FALSE</li><li>FALSE</li><li>FALSE</li><li>FALSE</li><li>FALSE</li><li>TRUE</li><li>FALSE</li><li>FALSE</li><li>FALSE</li><li>FALSE</li><li>FALSE</li><li>FALSE</li><li>FALSE</li><li>FALSE</li><li>FALSE</li><li>FALSE</li><li>FALSE</li><li>FALSE</li><li>FALSE</li><li>FALSE</li><li>FALSE</li><li>FALSE</li><li>FALSE</li><li>FALSE</li><li>FALSE</li><li>FALSE</li><li>FALSE</li><li>FALSE</li><li>FALSE</li><li>FALSE</li><li>FALSE</li><li>FALSE</li><li>FALSE</li><li>FALSE</li><li>FALSE</li><li>FALSE</li><li>FALSE</li><li>TRUE</li><li>FALSE</li><li>FALSE</li><li>FALSE</li><li>FALSE</li><li>FALSE</li><li>FALSE</li><li>FALSE</li><li>FALSE</li><li>FALSE</li><li>FALSE</li><li>FALSE</li><li>FALSE</li><li>FALSE</li><li>FALSE</li><li>FALSE</li><li>FALSE</li><li>FALSE</li><li>FALSE</li><li>FALSE</li><li>FALSE</li><li>FALSE</li><li>FALSE</li><li>FALSE</li><li>FALSE</li><li>TRUE</li><li>FALSE</li><li>FALSE</li><li>FALSE</li><li>FALSE</li><li>FALSE</li><li>FALSE</li><li>FALSE</li><li>FALSE</li><li>FALSE</li><li>FALSE</li><li>FALSE</li><li>FALSE</li><li>FALSE</li><li>FALSE</li><li>FALSE</li></ol>\n"
      ],
      "text/latex": [
       "\\begin{enumerate*}\n",
       "\\item FALSE\n",
       "\\item FALSE\n",
       "\\item FALSE\n",
       "\\item FALSE\n",
       "\\item FALSE\n",
       "\\item FALSE\n",
       "\\item FALSE\n",
       "\\item FALSE\n",
       "\\item FALSE\n",
       "\\item FALSE\n",
       "\\item FALSE\n",
       "\\item FALSE\n",
       "\\item FALSE\n",
       "\\item FALSE\n",
       "\\item FALSE\n",
       "\\item FALSE\n",
       "\\item FALSE\n",
       "\\item FALSE\n",
       "\\item FALSE\n",
       "\\item FALSE\n",
       "\\item FALSE\n",
       "\\item FALSE\n",
       "\\item FALSE\n",
       "\\item FALSE\n",
       "\\item FALSE\n",
       "\\item FALSE\n",
       "\\item FALSE\n",
       "\\item FALSE\n",
       "\\item FALSE\n",
       "\\item FALSE\n",
       "\\item FALSE\n",
       "\\item FALSE\n",
       "\\item FALSE\n",
       "\\item FALSE\n",
       "\\item FALSE\n",
       "\\item FALSE\n",
       "\\item FALSE\n",
       "\\item FALSE\n",
       "\\item FALSE\n",
       "\\item FALSE\n",
       "\\item FALSE\n",
       "\\item FALSE\n",
       "\\item FALSE\n",
       "\\item FALSE\n",
       "\\item FALSE\n",
       "\\item FALSE\n",
       "\\item FALSE\n",
       "\\item FALSE\n",
       "\\item FALSE\n",
       "\\item FALSE\n",
       "\\item FALSE\n",
       "\\item FALSE\n",
       "\\item FALSE\n",
       "\\item FALSE\n",
       "\\item FALSE\n",
       "\\item FALSE\n",
       "\\item FALSE\n",
       "\\item FALSE\n",
       "\\item FALSE\n",
       "\\item FALSE\n",
       "\\item FALSE\n",
       "\\item FALSE\n",
       "\\item FALSE\n",
       "\\item FALSE\n",
       "\\item FALSE\n",
       "\\item FALSE\n",
       "\\item FALSE\n",
       "\\item FALSE\n",
       "\\item FALSE\n",
       "\\item FALSE\n",
       "\\item FALSE\n",
       "\\item FALSE\n",
       "\\item FALSE\n",
       "\\item FALSE\n",
       "\\item FALSE\n",
       "\\item FALSE\n",
       "\\item FALSE\n",
       "\\item FALSE\n",
       "\\item FALSE\n",
       "\\item FALSE\n",
       "\\item FALSE\n",
       "\\item FALSE\n",
       "\\item FALSE\n",
       "\\item FALSE\n",
       "\\item FALSE\n",
       "\\item FALSE\n",
       "\\item FALSE\n",
       "\\item FALSE\n",
       "\\item FALSE\n",
       "\\item FALSE\n",
       "\\item FALSE\n",
       "\\item FALSE\n",
       "\\item FALSE\n",
       "\\item FALSE\n",
       "\\item FALSE\n",
       "\\item FALSE\n",
       "\\item FALSE\n",
       "\\item FALSE\n",
       "\\item FALSE\n",
       "\\item FALSE\n",
       "\\item FALSE\n",
       "\\item FALSE\n",
       "\\item FALSE\n",
       "\\item FALSE\n",
       "\\item FALSE\n",
       "\\item FALSE\n",
       "\\item FALSE\n",
       "\\item FALSE\n",
       "\\item FALSE\n",
       "\\item FALSE\n",
       "\\item FALSE\n",
       "\\item FALSE\n",
       "\\item FALSE\n",
       "\\item FALSE\n",
       "\\item FALSE\n",
       "\\item FALSE\n",
       "\\item FALSE\n",
       "\\item FALSE\n",
       "\\item FALSE\n",
       "\\item FALSE\n",
       "\\item FALSE\n",
       "\\item FALSE\n",
       "\\item FALSE\n",
       "\\item FALSE\n",
       "\\item FALSE\n",
       "\\item FALSE\n",
       "\\item FALSE\n",
       "\\item FALSE\n",
       "\\item FALSE\n",
       "\\item FALSE\n",
       "\\item FALSE\n",
       "\\item FALSE\n",
       "\\item FALSE\n",
       "\\item FALSE\n",
       "\\item FALSE\n",
       "\\item FALSE\n",
       "\\item FALSE\n",
       "\\item FALSE\n",
       "\\item FALSE\n",
       "\\item FALSE\n",
       "\\item FALSE\n",
       "\\item FALSE\n",
       "\\item FALSE\n",
       "\\item FALSE\n",
       "\\item FALSE\n",
       "\\item FALSE\n",
       "\\item FALSE\n",
       "\\item FALSE\n",
       "\\item FALSE\n",
       "\\item FALSE\n",
       "\\item FALSE\n",
       "\\item FALSE\n",
       "\\item FALSE\n",
       "\\item FALSE\n",
       "\\item FALSE\n",
       "\\item FALSE\n",
       "\\item FALSE\n",
       "\\item FALSE\n",
       "\\item FALSE\n",
       "\\item FALSE\n",
       "\\item FALSE\n",
       "\\item FALSE\n",
       "\\item FALSE\n",
       "\\item FALSE\n",
       "\\item FALSE\n",
       "\\item TRUE\n",
       "\\item FALSE\n",
       "\\item FALSE\n",
       "\\item FALSE\n",
       "\\item FALSE\n",
       "\\item FALSE\n",
       "\\item FALSE\n",
       "\\item FALSE\n",
       "\\item FALSE\n",
       "\\item FALSE\n",
       "\\item FALSE\n",
       "\\item FALSE\n",
       "\\item FALSE\n",
       "\\item FALSE\n",
       "\\item FALSE\n",
       "\\item FALSE\n",
       "\\item FALSE\n",
       "\\item FALSE\n",
       "\\item FALSE\n",
       "\\item FALSE\n",
       "\\item FALSE\n",
       "\\item FALSE\n",
       "\\item FALSE\n",
       "\\item FALSE\n",
       "\\item FALSE\n",
       "\\item FALSE\n",
       "\\item FALSE\n",
       "\\item FALSE\n",
       "\\item FALSE\n",
       "\\item FALSE\n",
       "\\item FALSE\n",
       "\\item FALSE\n",
       "\\item FALSE\n",
       "\\item FALSE\n",
       "\\item FALSE\n",
       "\\item FALSE\n",
       "\\item FALSE\n",
       "\\item FALSE\n",
       "\\item TRUE\n",
       "\\item FALSE\n",
       "\\item FALSE\n",
       "\\item FALSE\n",
       "\\item FALSE\n",
       "\\item FALSE\n",
       "\\item FALSE\n",
       "\\item FALSE\n",
       "\\item FALSE\n",
       "\\item FALSE\n",
       "\\item FALSE\n",
       "\\item FALSE\n",
       "\\item FALSE\n",
       "\\item FALSE\n",
       "\\item FALSE\n",
       "\\item FALSE\n",
       "\\item FALSE\n",
       "\\item FALSE\n",
       "\\item FALSE\n",
       "\\item FALSE\n",
       "\\item FALSE\n",
       "\\item FALSE\n",
       "\\item FALSE\n",
       "\\item FALSE\n",
       "\\item FALSE\n",
       "\\item FALSE\n",
       "\\item FALSE\n",
       "\\item FALSE\n",
       "\\item FALSE\n",
       "\\item FALSE\n",
       "\\item FALSE\n",
       "\\item FALSE\n",
       "\\item FALSE\n",
       "\\item FALSE\n",
       "\\item FALSE\n",
       "\\item FALSE\n",
       "\\item FALSE\n",
       "\\item FALSE\n",
       "\\item FALSE\n",
       "\\item FALSE\n",
       "\\item FALSE\n",
       "\\item FALSE\n",
       "\\item FALSE\n",
       "\\item FALSE\n",
       "\\item FALSE\n",
       "\\item FALSE\n",
       "\\item FALSE\n",
       "\\item FALSE\n",
       "\\item FALSE\n",
       "\\item FALSE\n",
       "\\item FALSE\n",
       "\\item FALSE\n",
       "\\item FALSE\n",
       "\\item FALSE\n",
       "\\item FALSE\n",
       "\\item FALSE\n",
       "\\item FALSE\n",
       "\\item FALSE\n",
       "\\item FALSE\n",
       "\\item FALSE\n",
       "\\item FALSE\n",
       "\\item FALSE\n",
       "\\item FALSE\n",
       "\\item FALSE\n",
       "\\item FALSE\n",
       "\\item FALSE\n",
       "\\item FALSE\n",
       "\\item FALSE\n",
       "\\item FALSE\n",
       "\\item FALSE\n",
       "\\item FALSE\n",
       "\\item FALSE\n",
       "\\item FALSE\n",
       "\\item FALSE\n",
       "\\item FALSE\n",
       "\\item FALSE\n",
       "\\item FALSE\n",
       "\\item FALSE\n",
       "\\item FALSE\n",
       "\\item FALSE\n",
       "\\item FALSE\n",
       "\\item FALSE\n",
       "\\item FALSE\n",
       "\\item FALSE\n",
       "\\item FALSE\n",
       "\\item FALSE\n",
       "\\item FALSE\n",
       "\\item FALSE\n",
       "\\item FALSE\n",
       "\\item FALSE\n",
       "\\item FALSE\n",
       "\\item FALSE\n",
       "\\item FALSE\n",
       "\\item FALSE\n",
       "\\item FALSE\n",
       "\\item FALSE\n",
       "\\item FALSE\n",
       "\\item FALSE\n",
       "\\item FALSE\n",
       "\\item FALSE\n",
       "\\item FALSE\n",
       "\\item FALSE\n",
       "\\item FALSE\n",
       "\\item FALSE\n",
       "\\item FALSE\n",
       "\\item FALSE\n",
       "\\item FALSE\n",
       "\\item FALSE\n",
       "\\item FALSE\n",
       "\\item FALSE\n",
       "\\item FALSE\n",
       "\\item FALSE\n",
       "\\item FALSE\n",
       "\\item FALSE\n",
       "\\item FALSE\n",
       "\\item FALSE\n",
       "\\item TRUE\n",
       "\\item FALSE\n",
       "\\item FALSE\n",
       "\\item FALSE\n",
       "\\item FALSE\n",
       "\\item FALSE\n",
       "\\item FALSE\n",
       "\\item FALSE\n",
       "\\item FALSE\n",
       "\\item FALSE\n",
       "\\item FALSE\n",
       "\\item FALSE\n",
       "\\item FALSE\n",
       "\\item FALSE\n",
       "\\item FALSE\n",
       "\\item FALSE\n",
       "\\item FALSE\n",
       "\\item FALSE\n",
       "\\item FALSE\n",
       "\\item FALSE\n",
       "\\item FALSE\n",
       "\\item FALSE\n",
       "\\item FALSE\n",
       "\\item FALSE\n",
       "\\item FALSE\n",
       "\\item FALSE\n",
       "\\item FALSE\n",
       "\\item FALSE\n",
       "\\item FALSE\n",
       "\\item FALSE\n",
       "\\item FALSE\n",
       "\\item FALSE\n",
       "\\item TRUE\n",
       "\\item FALSE\n",
       "\\item FALSE\n",
       "\\item FALSE\n",
       "\\item FALSE\n",
       "\\item FALSE\n",
       "\\item FALSE\n",
       "\\item FALSE\n",
       "\\item FALSE\n",
       "\\item FALSE\n",
       "\\item FALSE\n",
       "\\item FALSE\n",
       "\\item FALSE\n",
       "\\item FALSE\n",
       "\\item FALSE\n",
       "\\item FALSE\n",
       "\\item FALSE\n",
       "\\item FALSE\n",
       "\\item FALSE\n",
       "\\item FALSE\n",
       "\\item FALSE\n",
       "\\item FALSE\n",
       "\\item FALSE\n",
       "\\item FALSE\n",
       "\\item FALSE\n",
       "\\item TRUE\n",
       "\\item FALSE\n",
       "\\item FALSE\n",
       "\\item FALSE\n",
       "\\item FALSE\n",
       "\\item FALSE\n",
       "\\item FALSE\n",
       "\\item FALSE\n",
       "\\item FALSE\n",
       "\\item FALSE\n",
       "\\item FALSE\n",
       "\\item FALSE\n",
       "\\item FALSE\n",
       "\\item FALSE\n",
       "\\item FALSE\n",
       "\\item FALSE\n",
       "\\end{enumerate*}\n"
      ],
      "text/markdown": [
       "1. FALSE\n",
       "2. FALSE\n",
       "3. FALSE\n",
       "4. FALSE\n",
       "5. FALSE\n",
       "6. FALSE\n",
       "7. FALSE\n",
       "8. FALSE\n",
       "9. FALSE\n",
       "10. FALSE\n",
       "11. FALSE\n",
       "12. FALSE\n",
       "13. FALSE\n",
       "14. FALSE\n",
       "15. FALSE\n",
       "16. FALSE\n",
       "17. FALSE\n",
       "18. FALSE\n",
       "19. FALSE\n",
       "20. FALSE\n",
       "21. FALSE\n",
       "22. FALSE\n",
       "23. FALSE\n",
       "24. FALSE\n",
       "25. FALSE\n",
       "26. FALSE\n",
       "27. FALSE\n",
       "28. FALSE\n",
       "29. FALSE\n",
       "30. FALSE\n",
       "31. FALSE\n",
       "32. FALSE\n",
       "33. FALSE\n",
       "34. FALSE\n",
       "35. FALSE\n",
       "36. FALSE\n",
       "37. FALSE\n",
       "38. FALSE\n",
       "39. FALSE\n",
       "40. FALSE\n",
       "41. FALSE\n",
       "42. FALSE\n",
       "43. FALSE\n",
       "44. FALSE\n",
       "45. FALSE\n",
       "46. FALSE\n",
       "47. FALSE\n",
       "48. FALSE\n",
       "49. FALSE\n",
       "50. FALSE\n",
       "51. FALSE\n",
       "52. FALSE\n",
       "53. FALSE\n",
       "54. FALSE\n",
       "55. FALSE\n",
       "56. FALSE\n",
       "57. FALSE\n",
       "58. FALSE\n",
       "59. FALSE\n",
       "60. FALSE\n",
       "61. FALSE\n",
       "62. FALSE\n",
       "63. FALSE\n",
       "64. FALSE\n",
       "65. FALSE\n",
       "66. FALSE\n",
       "67. FALSE\n",
       "68. FALSE\n",
       "69. FALSE\n",
       "70. FALSE\n",
       "71. FALSE\n",
       "72. FALSE\n",
       "73. FALSE\n",
       "74. FALSE\n",
       "75. FALSE\n",
       "76. FALSE\n",
       "77. FALSE\n",
       "78. FALSE\n",
       "79. FALSE\n",
       "80. FALSE\n",
       "81. FALSE\n",
       "82. FALSE\n",
       "83. FALSE\n",
       "84. FALSE\n",
       "85. FALSE\n",
       "86. FALSE\n",
       "87. FALSE\n",
       "88. FALSE\n",
       "89. FALSE\n",
       "90. FALSE\n",
       "91. FALSE\n",
       "92. FALSE\n",
       "93. FALSE\n",
       "94. FALSE\n",
       "95. FALSE\n",
       "96. FALSE\n",
       "97. FALSE\n",
       "98. FALSE\n",
       "99. FALSE\n",
       "100. FALSE\n",
       "101. FALSE\n",
       "102. FALSE\n",
       "103. FALSE\n",
       "104. FALSE\n",
       "105. FALSE\n",
       "106. FALSE\n",
       "107. FALSE\n",
       "108. FALSE\n",
       "109. FALSE\n",
       "110. FALSE\n",
       "111. FALSE\n",
       "112. FALSE\n",
       "113. FALSE\n",
       "114. FALSE\n",
       "115. FALSE\n",
       "116. FALSE\n",
       "117. FALSE\n",
       "118. FALSE\n",
       "119. FALSE\n",
       "120. FALSE\n",
       "121. FALSE\n",
       "122. FALSE\n",
       "123. FALSE\n",
       "124. FALSE\n",
       "125. FALSE\n",
       "126. FALSE\n",
       "127. FALSE\n",
       "128. FALSE\n",
       "129. FALSE\n",
       "130. FALSE\n",
       "131. FALSE\n",
       "132. FALSE\n",
       "133. FALSE\n",
       "134. FALSE\n",
       "135. FALSE\n",
       "136. FALSE\n",
       "137. FALSE\n",
       "138. FALSE\n",
       "139. FALSE\n",
       "140. FALSE\n",
       "141. FALSE\n",
       "142. FALSE\n",
       "143. FALSE\n",
       "144. FALSE\n",
       "145. FALSE\n",
       "146. FALSE\n",
       "147. FALSE\n",
       "148. FALSE\n",
       "149. FALSE\n",
       "150. FALSE\n",
       "151. FALSE\n",
       "152. FALSE\n",
       "153. FALSE\n",
       "154. FALSE\n",
       "155. FALSE\n",
       "156. FALSE\n",
       "157. FALSE\n",
       "158. FALSE\n",
       "159. FALSE\n",
       "160. FALSE\n",
       "161. FALSE\n",
       "162. FALSE\n",
       "163. FALSE\n",
       "164. FALSE\n",
       "165. FALSE\n",
       "166. TRUE\n",
       "167. FALSE\n",
       "168. FALSE\n",
       "169. FALSE\n",
       "170. FALSE\n",
       "171. FALSE\n",
       "172. FALSE\n",
       "173. FALSE\n",
       "174. FALSE\n",
       "175. FALSE\n",
       "176. FALSE\n",
       "177. FALSE\n",
       "178. FALSE\n",
       "179. FALSE\n",
       "180. FALSE\n",
       "181. FALSE\n",
       "182. FALSE\n",
       "183. FALSE\n",
       "184. FALSE\n",
       "185. FALSE\n",
       "186. FALSE\n",
       "187. FALSE\n",
       "188. FALSE\n",
       "189. FALSE\n",
       "190. FALSE\n",
       "191. FALSE\n",
       "192. FALSE\n",
       "193. FALSE\n",
       "194. FALSE\n",
       "195. FALSE\n",
       "196. FALSE\n",
       "197. FALSE\n",
       "198. FALSE\n",
       "199. FALSE\n",
       "200. FALSE\n",
       "201. FALSE\n",
       "202. FALSE\n",
       "203. FALSE\n",
       "204. TRUE\n",
       "205. FALSE\n",
       "206. FALSE\n",
       "207. FALSE\n",
       "208. FALSE\n",
       "209. FALSE\n",
       "210. FALSE\n",
       "211. FALSE\n",
       "212. FALSE\n",
       "213. FALSE\n",
       "214. FALSE\n",
       "215. FALSE\n",
       "216. FALSE\n",
       "217. FALSE\n",
       "218. FALSE\n",
       "219. FALSE\n",
       "220. FALSE\n",
       "221. FALSE\n",
       "222. FALSE\n",
       "223. FALSE\n",
       "224. FALSE\n",
       "225. FALSE\n",
       "226. FALSE\n",
       "227. FALSE\n",
       "228. FALSE\n",
       "229. FALSE\n",
       "230. FALSE\n",
       "231. FALSE\n",
       "232. FALSE\n",
       "233. FALSE\n",
       "234. FALSE\n",
       "235. FALSE\n",
       "236. FALSE\n",
       "237. FALSE\n",
       "238. FALSE\n",
       "239. FALSE\n",
       "240. FALSE\n",
       "241. FALSE\n",
       "242. FALSE\n",
       "243. FALSE\n",
       "244. FALSE\n",
       "245. FALSE\n",
       "246. FALSE\n",
       "247. FALSE\n",
       "248. FALSE\n",
       "249. FALSE\n",
       "250. FALSE\n",
       "251. FALSE\n",
       "252. FALSE\n",
       "253. FALSE\n",
       "254. FALSE\n",
       "255. FALSE\n",
       "256. FALSE\n",
       "257. FALSE\n",
       "258. FALSE\n",
       "259. FALSE\n",
       "260. FALSE\n",
       "261. FALSE\n",
       "262. FALSE\n",
       "263. FALSE\n",
       "264. FALSE\n",
       "265. FALSE\n",
       "266. FALSE\n",
       "267. FALSE\n",
       "268. FALSE\n",
       "269. FALSE\n",
       "270. FALSE\n",
       "271. FALSE\n",
       "272. FALSE\n",
       "273. FALSE\n",
       "274. FALSE\n",
       "275. FALSE\n",
       "276. FALSE\n",
       "277. FALSE\n",
       "278. FALSE\n",
       "279. FALSE\n",
       "280. FALSE\n",
       "281. FALSE\n",
       "282. FALSE\n",
       "283. FALSE\n",
       "284. FALSE\n",
       "285. FALSE\n",
       "286. FALSE\n",
       "287. FALSE\n",
       "288. FALSE\n",
       "289. FALSE\n",
       "290. FALSE\n",
       "291. FALSE\n",
       "292. FALSE\n",
       "293. FALSE\n",
       "294. FALSE\n",
       "295. FALSE\n",
       "296. FALSE\n",
       "297. FALSE\n",
       "298. FALSE\n",
       "299. FALSE\n",
       "300. FALSE\n",
       "301. FALSE\n",
       "302. FALSE\n",
       "303. FALSE\n",
       "304. FALSE\n",
       "305. FALSE\n",
       "306. FALSE\n",
       "307. FALSE\n",
       "308. FALSE\n",
       "309. FALSE\n",
       "310. FALSE\n",
       "311. FALSE\n",
       "312. FALSE\n",
       "313. FALSE\n",
       "314. FALSE\n",
       "315. FALSE\n",
       "316. FALSE\n",
       "317. FALSE\n",
       "318. FALSE\n",
       "319. FALSE\n",
       "320. TRUE\n",
       "321. FALSE\n",
       "322. FALSE\n",
       "323. FALSE\n",
       "324. FALSE\n",
       "325. FALSE\n",
       "326. FALSE\n",
       "327. FALSE\n",
       "328. FALSE\n",
       "329. FALSE\n",
       "330. FALSE\n",
       "331. FALSE\n",
       "332. FALSE\n",
       "333. FALSE\n",
       "334. FALSE\n",
       "335. FALSE\n",
       "336. FALSE\n",
       "337. FALSE\n",
       "338. FALSE\n",
       "339. FALSE\n",
       "340. FALSE\n",
       "341. FALSE\n",
       "342. FALSE\n",
       "343. FALSE\n",
       "344. FALSE\n",
       "345. FALSE\n",
       "346. FALSE\n",
       "347. FALSE\n",
       "348. FALSE\n",
       "349. FALSE\n",
       "350. FALSE\n",
       "351. FALSE\n",
       "352. TRUE\n",
       "353. FALSE\n",
       "354. FALSE\n",
       "355. FALSE\n",
       "356. FALSE\n",
       "357. FALSE\n",
       "358. FALSE\n",
       "359. FALSE\n",
       "360. FALSE\n",
       "361. FALSE\n",
       "362. FALSE\n",
       "363. FALSE\n",
       "364. FALSE\n",
       "365. FALSE\n",
       "366. FALSE\n",
       "367. FALSE\n",
       "368. FALSE\n",
       "369. FALSE\n",
       "370. FALSE\n",
       "371. FALSE\n",
       "372. FALSE\n",
       "373. FALSE\n",
       "374. FALSE\n",
       "375. FALSE\n",
       "376. FALSE\n",
       "377. TRUE\n",
       "378. FALSE\n",
       "379. FALSE\n",
       "380. FALSE\n",
       "381. FALSE\n",
       "382. FALSE\n",
       "383. FALSE\n",
       "384. FALSE\n",
       "385. FALSE\n",
       "386. FALSE\n",
       "387. FALSE\n",
       "388. FALSE\n",
       "389. FALSE\n",
       "390. FALSE\n",
       "391. FALSE\n",
       "392. FALSE\n",
       "\n",
       "\n"
      ],
      "text/plain": [
       "  [1] FALSE FALSE FALSE FALSE FALSE FALSE FALSE FALSE FALSE FALSE FALSE FALSE\n",
       " [13] FALSE FALSE FALSE FALSE FALSE FALSE FALSE FALSE FALSE FALSE FALSE FALSE\n",
       " [25] FALSE FALSE FALSE FALSE FALSE FALSE FALSE FALSE FALSE FALSE FALSE FALSE\n",
       " [37] FALSE FALSE FALSE FALSE FALSE FALSE FALSE FALSE FALSE FALSE FALSE FALSE\n",
       " [49] FALSE FALSE FALSE FALSE FALSE FALSE FALSE FALSE FALSE FALSE FALSE FALSE\n",
       " [61] FALSE FALSE FALSE FALSE FALSE FALSE FALSE FALSE FALSE FALSE FALSE FALSE\n",
       " [73] FALSE FALSE FALSE FALSE FALSE FALSE FALSE FALSE FALSE FALSE FALSE FALSE\n",
       " [85] FALSE FALSE FALSE FALSE FALSE FALSE FALSE FALSE FALSE FALSE FALSE FALSE\n",
       " [97] FALSE FALSE FALSE FALSE FALSE FALSE FALSE FALSE FALSE FALSE FALSE FALSE\n",
       "[109] FALSE FALSE FALSE FALSE FALSE FALSE FALSE FALSE FALSE FALSE FALSE FALSE\n",
       "[121] FALSE FALSE FALSE FALSE FALSE FALSE FALSE FALSE FALSE FALSE FALSE FALSE\n",
       "[133] FALSE FALSE FALSE FALSE FALSE FALSE FALSE FALSE FALSE FALSE FALSE FALSE\n",
       "[145] FALSE FALSE FALSE FALSE FALSE FALSE FALSE FALSE FALSE FALSE FALSE FALSE\n",
       "[157] FALSE FALSE FALSE FALSE FALSE FALSE FALSE FALSE FALSE  TRUE FALSE FALSE\n",
       "[169] FALSE FALSE FALSE FALSE FALSE FALSE FALSE FALSE FALSE FALSE FALSE FALSE\n",
       "[181] FALSE FALSE FALSE FALSE FALSE FALSE FALSE FALSE FALSE FALSE FALSE FALSE\n",
       "[193] FALSE FALSE FALSE FALSE FALSE FALSE FALSE FALSE FALSE FALSE FALSE  TRUE\n",
       "[205] FALSE FALSE FALSE FALSE FALSE FALSE FALSE FALSE FALSE FALSE FALSE FALSE\n",
       "[217] FALSE FALSE FALSE FALSE FALSE FALSE FALSE FALSE FALSE FALSE FALSE FALSE\n",
       "[229] FALSE FALSE FALSE FALSE FALSE FALSE FALSE FALSE FALSE FALSE FALSE FALSE\n",
       "[241] FALSE FALSE FALSE FALSE FALSE FALSE FALSE FALSE FALSE FALSE FALSE FALSE\n",
       "[253] FALSE FALSE FALSE FALSE FALSE FALSE FALSE FALSE FALSE FALSE FALSE FALSE\n",
       "[265] FALSE FALSE FALSE FALSE FALSE FALSE FALSE FALSE FALSE FALSE FALSE FALSE\n",
       "[277] FALSE FALSE FALSE FALSE FALSE FALSE FALSE FALSE FALSE FALSE FALSE FALSE\n",
       "[289] FALSE FALSE FALSE FALSE FALSE FALSE FALSE FALSE FALSE FALSE FALSE FALSE\n",
       "[301] FALSE FALSE FALSE FALSE FALSE FALSE FALSE FALSE FALSE FALSE FALSE FALSE\n",
       "[313] FALSE FALSE FALSE FALSE FALSE FALSE FALSE  TRUE FALSE FALSE FALSE FALSE\n",
       "[325] FALSE FALSE FALSE FALSE FALSE FALSE FALSE FALSE FALSE FALSE FALSE FALSE\n",
       "[337] FALSE FALSE FALSE FALSE FALSE FALSE FALSE FALSE FALSE FALSE FALSE FALSE\n",
       "[349] FALSE FALSE FALSE  TRUE FALSE FALSE FALSE FALSE FALSE FALSE FALSE FALSE\n",
       "[361] FALSE FALSE FALSE FALSE FALSE FALSE FALSE FALSE FALSE FALSE FALSE FALSE\n",
       "[373] FALSE FALSE FALSE FALSE  TRUE FALSE FALSE FALSE FALSE FALSE FALSE FALSE\n",
       "[385] FALSE FALSE FALSE FALSE FALSE FALSE FALSE FALSE"
      ]
     },
     "metadata": {},
     "output_type": "display_data"
    }
   ],
   "source": [
    "cylinders>=6 \n",
    "name=='toyota corolla'"
   ]
  },
  {
   "cell_type": "markdown",
   "id": "829499f1-e6f2-4ba9-b61c-85b854f1999d",
   "metadata": {},
   "source": [
    "En ambos casos obtenemos un vector de verdaderos y falsos (TRUE/FALSE) dependiendo de si cada vehículo cumple o no la condición\n",
    "correspondiente. Como ya sabemos, al aplicar la función `sum()` (suma) a un vector de valores\n",
    "lógicos, TRUE es considerado como 1 y FALSE como cero, obteniendo el número de casos que cumplen la condición. \n",
    "\n",
    "La generación de vectores de este tipo es muy útil para seleccionar grupos de individuos que cumplen una determinada\n",
    "condición en una muestra de datos y se utilizará mucho en otras prácticas. Por ejemplo, podemos obtener el nombre de aquellos vehículos con 6 o más cilindros y que además sean del año 70 de la forma:"
   ]
  },
  {
   "cell_type": "code",
   "execution_count": 59,
   "id": "ea8248c3-3542-4bfb-9d76-03c3887c83e1",
   "metadata": {
    "scrolled": true
   },
   "outputs": [
    {
     "data": {
      "text/html": [
       "<style>\n",
       ".list-inline {list-style: none; margin:0; padding: 0}\n",
       ".list-inline>li {display: inline-block}\n",
       ".list-inline>li:not(:last-child)::after {content: \"\\00b7\"; padding: 0 .5ex}\n",
       "</style>\n",
       "<ol class=list-inline><li>chevrolet chevelle malibu</li><li>buick skylark 320</li><li>plymouth satellite</li><li>amc rebel sst</li><li>ford torino</li><li>ford galaxie 500</li><li>chevrolet impala</li><li>plymouth fury iii</li><li>pontiac catalina</li><li>amc ambassador dpl</li><li>dodge challenger se</li><li>plymouth 'cuda 340</li><li>chevrolet monte carlo</li><li>buick estate wagon (sw)</li><li>plymouth duster</li><li>amc hornet</li><li>ford maverick</li><li>amc gremlin</li><li>ford f250</li><li>chevy c20</li><li>dodge d200</li><li>hi 1200d</li></ol>\n",
       "\n",
       "<details>\n",
       "\t<summary style=display:list-item;cursor:pointer>\n",
       "\t\t<strong>Levels</strong>:\n",
       "\t</summary>\n",
       "\t<style>\n",
       "\t.list-inline {list-style: none; margin:0; padding: 0}\n",
       "\t.list-inline>li {display: inline-block}\n",
       "\t.list-inline>li:not(:last-child)::after {content: \"\\00b7\"; padding: 0 .5ex}\n",
       "\t</style>\n",
       "\t<ol class=list-inline><li>'amc ambassador brougham'</li><li>'amc ambassador dpl'</li><li>'amc ambassador sst'</li><li>'amc concord'</li><li>'amc concord d/l'</li><li>'amc concord dl 6'</li><li>'amc gremlin'</li><li>'amc hornet'</li><li>'amc hornet sportabout (sw)'</li><li>'amc matador'</li><li>'amc matador (sw)'</li><li>'amc pacer'</li><li>'amc pacer d/l'</li><li>'amc rebel sst'</li><li>'amc spirit dl'</li><li>'audi 100 ls'</li><li>'audi 100ls'</li><li>'audi 4000'</li><li>'audi 5000'</li><li>'audi 5000s (diesel)'</li><li>'audi fox'</li><li>'bmw 2002'</li><li>'bmw 320i'</li><li>'buick century'</li><li>'buick century 350'</li><li>'buick century limited'</li><li>'buick century luxus (sw)'</li><li>'buick century special'</li><li>'buick electra 225 custom'</li><li>'buick estate wagon (sw)'</li><li>'buick lesabre custom'</li><li>'buick opel isuzu deluxe'</li><li>'buick regal sport coupe (turbo)'</li><li>'buick skyhawk'</li><li>'buick skylark'</li><li>'buick skylark 320'</li><li>'buick skylark limited'</li><li>'cadillac eldorado'</li><li>'cadillac seville'</li><li>'capri ii'</li><li>'chevroelt chevelle malibu'</li><li>'chevrolet bel air'</li><li>'chevrolet camaro'</li><li>'chevrolet caprice classic'</li><li>'chevrolet cavalier'</li><li>'chevrolet cavalier 2-door'</li><li>'chevrolet cavalier wagon'</li><li>'chevrolet chevelle concours (sw)'</li><li>'chevrolet chevelle malibu'</li><li>'chevrolet chevelle malibu classic'</li><li>'chevrolet chevette'</li><li>'chevrolet citation'</li><li>'chevrolet concours'</li><li>'chevrolet impala'</li><li>'chevrolet malibu'</li><li>'chevrolet malibu classic (sw)'</li><li>'chevrolet monte carlo'</li><li>'chevrolet monte carlo landau'</li><li>'chevrolet monte carlo s'</li><li>'chevrolet monza 2+2'</li><li>'chevrolet nova'</li><li>'chevrolet nova custom'</li><li>'chevrolet vega'</li><li>'chevrolet vega (sw)'</li><li>'chevrolet vega 2300'</li><li>'chevrolet woody'</li><li>'chevy c10'</li><li>'chevy c20'</li><li>'chevy s-10'</li><li>'chrysler cordoba'</li><li>'chrysler lebaron medallion'</li><li>'chrysler lebaron salon'</li><li>'chrysler lebaron town @ country (sw)'</li><li>'chrysler new yorker brougham'</li><li>'chrysler newport royal'</li><li>'datsun 1200'</li><li>'datsun 200-sx'</li><li>'datsun 200sx'</li><li>'datsun 210'</li><li>'datsun 210 mpg'</li><li>'datsun 280-zx'</li><li>'datsun 310'</li><li>'datsun 310 gx'</li><li>'datsun 510'</li><li>'datsun 510 (sw)'</li><li>'datsun 510 hatchback'</li><li>'datsun 610'</li><li>'datsun 710'</li><li>'datsun 810'</li><li>'datsun 810 maxima'</li><li>'datsun b-210'</li><li>'datsun b210'</li><li>'datsun b210 gx'</li><li>'datsun f-10 hatchback'</li><li>'datsun pl510'</li><li>'dodge aries se'</li><li>'dodge aries wagon (sw)'</li><li>'dodge aspen'</li><li>'dodge aspen 6'</li><li>'dodge aspen se'</li><li>'dodge challenger se'</li><li>'dodge charger 2.2'</li><li>'dodge colt'</li><li>'dodge colt (sw)'</li><li>'dodge colt hardtop'</li><li>'dodge colt hatchback custom'</li><li>'dodge colt m/m'</li><li>'dodge coronet brougham'</li><li>'dodge coronet custom'</li><li>'dodge coronet custom (sw)'</li><li>'dodge d100'</li><li>'dodge d200'</li><li>'dodge dart custom'</li><li>'dodge diplomat'</li><li>'dodge magnum xe'</li><li>'dodge monaco (sw)'</li><li>'dodge monaco brougham'</li><li>'dodge omni'</li><li>'dodge rampage'</li><li>'dodge st. regis'</li><li>'fiat 124 sport coupe'</li><li>'fiat 124 tc'</li><li>'fiat 124b'</li><li>'fiat 128'</li><li>'fiat 131'</li><li>'fiat strada custom'</li><li>'fiat x1.9'</li><li>'ford country'</li><li>'ford country squire (sw)'</li><li>'ford escort 2h'</li><li>'ford escort 4w'</li><li>'ford f108'</li><li>'ford f250'</li><li>'ford fairmont'</li><li>'ford fairmont (auto)'</li><li>'ford fairmont (man)'</li><li>'ford fairmont 4'</li><li>'ford fairmont futura'</li><li>'ford fiesta'</li><li>'ford futura'</li><li>'ford galaxie 500'</li><li>'ford gran torino'</li><li>'ford gran torino (sw)'</li><li>'ford granada'</li><li>'ford granada ghia'</li><li>'ford granada gl'</li><li>'ford granada l'</li><li>'ford ltd'</li><li>'ford ltd landau'</li><li>'ford maverick'</li><li>'ford mustang'</li><li>'ford mustang cobra'</li><li>'ford mustang gl'</li><li>'ford mustang ii'</li><li>'ford mustang ii 2+2'</li><li>'ford pinto'</li><li>'ford pinto (sw)'</li><li>'ford pinto runabout'</li><li>'ford ranger'</li><li>'ford thunderbird'</li><li>'ford torino'</li><li>'ford torino 500'</li><li>'hi 1200d'</li><li>'honda accord'</li><li>'honda accord cvcc'</li><li>'honda accord lx'</li><li>'honda civic'</li><li>'honda civic (auto)'</li><li>'honda civic 1300'</li><li>'honda civic 1500 gl'</li><li>'honda civic cvcc'</li><li>'honda prelude'</li><li>'maxda glc deluxe'</li><li>'maxda rx3'</li><li>'mazda 626'</li><li>'mazda glc'</li><li>'mazda glc 4'</li><li>'mazda glc custom'</li><li>'mazda glc custom l'</li><li>'mazda glc deluxe'</li><li>'mazda rx-4'</li><li>'mazda rx-7 gs'</li><li>'mazda rx2 coupe'</li><li>'mercedes-benz 240d'</li><li>'mercedes-benz 280s'</li><li>'mercedes benz 300d'</li><li>'mercury capri 2000'</li><li>'mercury capri v6'</li><li>'mercury cougar brougham'</li><li>'mercury grand marquis'</li><li>'mercury lynx l'</li><li>'mercury marquis'</li><li>'mercury marquis brougham'</li><li>'mercury monarch'</li><li>'mercury monarch ghia'</li><li>'mercury zephyr'</li><li>'mercury zephyr 6'</li><li>'nissan stanza xe'</li><li>'oldsmobile cutlass ciera (diesel)'</li><li>'oldsmobile cutlass ls'</li><li>'oldsmobile cutlass salon brougham'</li><li>'oldsmobile cutlass supreme'</li><li>'oldsmobile delta 88 royale'</li><li>'oldsmobile omega'</li><li>'oldsmobile omega brougham'</li><li>'oldsmobile starfire sx'</li><li>'oldsmobile vista cruiser'</li><li>'opel 1900'</li><li>'opel manta'</li><li>'peugeot 304'</li><li>'peugeot 504'</li><li>'peugeot 504 (sw)'</li><li>'peugeot 505s turbo diesel'</li><li>'peugeot 604sl'</li><li>'plymouth \\'cuda 340'</li><li>'plymouth arrow gs'</li><li>'plymouth champ'</li><li>'plymouth cricket'</li><li>'plymouth custom suburb'</li><li>'plymouth duster'</li><li>'plymouth fury'</li><li>'plymouth fury gran sedan'</li><li>'plymouth fury iii'</li><li>'plymouth grand fury'</li><li>'plymouth horizon'</li><li>'plymouth horizon 4'</li><li>'plymouth horizon miser'</li><li>'plymouth horizon tc3'</li><li>'plymouth reliant'</li><li>'plymouth sapporo'</li><li>'plymouth satellite'</li><li>'plymouth satellite custom'</li><li>'plymouth satellite custom (sw)'</li><li>'plymouth satellite sebring'</li><li>'plymouth valiant'</li><li>'plymouth valiant custom'</li><li>'plymouth volare'</li><li>'plymouth volare custom'</li><li>'plymouth volare premier v8'</li><li>'pontiac astro'</li><li>'pontiac catalina'</li><li>'pontiac catalina brougham'</li><li>'pontiac firebird'</li><li>'pontiac grand prix'</li><li>'pontiac grand prix lj'</li><li>'pontiac j2000 se hatchback'</li><li>'pontiac lemans v6'</li><li>'pontiac phoenix'</li><li>'pontiac phoenix lj'</li><li>'pontiac safari (sw)'</li><li>'pontiac sunbird coupe'</li><li>'pontiac ventura sj'</li><li>'renault 12 (sw)'</li><li>'renault 12tl'</li><li>'renault 18i'</li><li>'renault 5 gtl'</li><li>'renault lecar deluxe'</li><li>'saab 99e'</li><li>'saab 99gle'</li><li>'saab 99le'</li><li>'subaru'</li><li>'subaru dl'</li><li>'toyota carina'</li><li>'toyota celica gt'</li><li>'toyota celica gt liftback'</li><li>'toyota corolla'</li><li>'toyota corolla 1200'</li><li>'toyota corolla 1600 (sw)'</li><li>'toyota corolla liftback'</li><li>'toyota corolla tercel'</li><li>'toyota corona'</li><li>'toyota corona hardtop'</li><li>'toyota corona liftback'</li><li>'toyota corona mark ii'</li><li>'toyota cressida'</li><li>'toyota mark ii'</li><li>'toyota starlet'</li><li>'toyota tercel'</li><li>'toyouta corona mark ii (sw)'</li><li>'triumph tr7 coupe'</li><li>'vokswagen rabbit'</li><li>'volkswagen 1131 deluxe sedan'</li><li>'volkswagen 411 (sw)'</li><li>'volkswagen dasher'</li><li>'volkswagen jetta'</li><li>'volkswagen model 111'</li><li>'volkswagen rabbit'</li><li>'volkswagen rabbit custom'</li><li>'volkswagen rabbit custom diesel'</li><li>'volkswagen rabbit l'</li><li>'volkswagen scirocco'</li><li>'volkswagen super beetle'</li><li>'volkswagen type 3'</li><li>'volvo 144ea'</li><li>'volvo 145e (sw)'</li><li>'volvo 244dl'</li><li>'volvo 245'</li><li>'volvo 264gl'</li><li>'volvo diesel'</li><li>'vw dasher (diesel)'</li><li>'vw pickup'</li><li>'vw rabbit'</li><li>'vw rabbit c (diesel)'</li><li>'vw rabbit custom'</li></ol>\n",
       "</details>"
      ],
      "text/latex": [
       "\\begin{enumerate*}\n",
       "\\item chevrolet chevelle malibu\n",
       "\\item buick skylark 320\n",
       "\\item plymouth satellite\n",
       "\\item amc rebel sst\n",
       "\\item ford torino\n",
       "\\item ford galaxie 500\n",
       "\\item chevrolet impala\n",
       "\\item plymouth fury iii\n",
       "\\item pontiac catalina\n",
       "\\item amc ambassador dpl\n",
       "\\item dodge challenger se\n",
       "\\item plymouth 'cuda 340\n",
       "\\item chevrolet monte carlo\n",
       "\\item buick estate wagon (sw)\n",
       "\\item plymouth duster\n",
       "\\item amc hornet\n",
       "\\item ford maverick\n",
       "\\item amc gremlin\n",
       "\\item ford f250\n",
       "\\item chevy c20\n",
       "\\item dodge d200\n",
       "\\item hi 1200d\n",
       "\\end{enumerate*}\n",
       "\n",
       "\\emph{Levels}: \\begin{enumerate*}\n",
       "\\item 'amc ambassador brougham'\n",
       "\\item 'amc ambassador dpl'\n",
       "\\item 'amc ambassador sst'\n",
       "\\item 'amc concord'\n",
       "\\item 'amc concord d/l'\n",
       "\\item 'amc concord dl 6'\n",
       "\\item 'amc gremlin'\n",
       "\\item 'amc hornet'\n",
       "\\item 'amc hornet sportabout (sw)'\n",
       "\\item 'amc matador'\n",
       "\\item 'amc matador (sw)'\n",
       "\\item 'amc pacer'\n",
       "\\item 'amc pacer d/l'\n",
       "\\item 'amc rebel sst'\n",
       "\\item 'amc spirit dl'\n",
       "\\item 'audi 100 ls'\n",
       "\\item 'audi 100ls'\n",
       "\\item 'audi 4000'\n",
       "\\item 'audi 5000'\n",
       "\\item 'audi 5000s (diesel)'\n",
       "\\item 'audi fox'\n",
       "\\item 'bmw 2002'\n",
       "\\item 'bmw 320i'\n",
       "\\item 'buick century'\n",
       "\\item 'buick century 350'\n",
       "\\item 'buick century limited'\n",
       "\\item 'buick century luxus (sw)'\n",
       "\\item 'buick century special'\n",
       "\\item 'buick electra 225 custom'\n",
       "\\item 'buick estate wagon (sw)'\n",
       "\\item 'buick lesabre custom'\n",
       "\\item 'buick opel isuzu deluxe'\n",
       "\\item 'buick regal sport coupe (turbo)'\n",
       "\\item 'buick skyhawk'\n",
       "\\item 'buick skylark'\n",
       "\\item 'buick skylark 320'\n",
       "\\item 'buick skylark limited'\n",
       "\\item 'cadillac eldorado'\n",
       "\\item 'cadillac seville'\n",
       "\\item 'capri ii'\n",
       "\\item 'chevroelt chevelle malibu'\n",
       "\\item 'chevrolet bel air'\n",
       "\\item 'chevrolet camaro'\n",
       "\\item 'chevrolet caprice classic'\n",
       "\\item 'chevrolet cavalier'\n",
       "\\item 'chevrolet cavalier 2-door'\n",
       "\\item 'chevrolet cavalier wagon'\n",
       "\\item 'chevrolet chevelle concours (sw)'\n",
       "\\item 'chevrolet chevelle malibu'\n",
       "\\item 'chevrolet chevelle malibu classic'\n",
       "\\item 'chevrolet chevette'\n",
       "\\item 'chevrolet citation'\n",
       "\\item 'chevrolet concours'\n",
       "\\item 'chevrolet impala'\n",
       "\\item 'chevrolet malibu'\n",
       "\\item 'chevrolet malibu classic (sw)'\n",
       "\\item 'chevrolet monte carlo'\n",
       "\\item 'chevrolet monte carlo landau'\n",
       "\\item 'chevrolet monte carlo s'\n",
       "\\item 'chevrolet monza 2+2'\n",
       "\\item 'chevrolet nova'\n",
       "\\item 'chevrolet nova custom'\n",
       "\\item 'chevrolet vega'\n",
       "\\item 'chevrolet vega (sw)'\n",
       "\\item 'chevrolet vega 2300'\n",
       "\\item 'chevrolet woody'\n",
       "\\item 'chevy c10'\n",
       "\\item 'chevy c20'\n",
       "\\item 'chevy s-10'\n",
       "\\item 'chrysler cordoba'\n",
       "\\item 'chrysler lebaron medallion'\n",
       "\\item 'chrysler lebaron salon'\n",
       "\\item 'chrysler lebaron town @ country (sw)'\n",
       "\\item 'chrysler new yorker brougham'\n",
       "\\item 'chrysler newport royal'\n",
       "\\item 'datsun 1200'\n",
       "\\item 'datsun 200-sx'\n",
       "\\item 'datsun 200sx'\n",
       "\\item 'datsun 210'\n",
       "\\item 'datsun 210 mpg'\n",
       "\\item 'datsun 280-zx'\n",
       "\\item 'datsun 310'\n",
       "\\item 'datsun 310 gx'\n",
       "\\item 'datsun 510'\n",
       "\\item 'datsun 510 (sw)'\n",
       "\\item 'datsun 510 hatchback'\n",
       "\\item 'datsun 610'\n",
       "\\item 'datsun 710'\n",
       "\\item 'datsun 810'\n",
       "\\item 'datsun 810 maxima'\n",
       "\\item 'datsun b-210'\n",
       "\\item 'datsun b210'\n",
       "\\item 'datsun b210 gx'\n",
       "\\item 'datsun f-10 hatchback'\n",
       "\\item 'datsun pl510'\n",
       "\\item 'dodge aries se'\n",
       "\\item 'dodge aries wagon (sw)'\n",
       "\\item 'dodge aspen'\n",
       "\\item 'dodge aspen 6'\n",
       "\\item 'dodge aspen se'\n",
       "\\item 'dodge challenger se'\n",
       "\\item 'dodge charger 2.2'\n",
       "\\item 'dodge colt'\n",
       "\\item 'dodge colt (sw)'\n",
       "\\item 'dodge colt hardtop'\n",
       "\\item 'dodge colt hatchback custom'\n",
       "\\item 'dodge colt m/m'\n",
       "\\item 'dodge coronet brougham'\n",
       "\\item 'dodge coronet custom'\n",
       "\\item 'dodge coronet custom (sw)'\n",
       "\\item 'dodge d100'\n",
       "\\item 'dodge d200'\n",
       "\\item 'dodge dart custom'\n",
       "\\item 'dodge diplomat'\n",
       "\\item 'dodge magnum xe'\n",
       "\\item 'dodge monaco (sw)'\n",
       "\\item 'dodge monaco brougham'\n",
       "\\item 'dodge omni'\n",
       "\\item 'dodge rampage'\n",
       "\\item 'dodge st. regis'\n",
       "\\item 'fiat 124 sport coupe'\n",
       "\\item 'fiat 124 tc'\n",
       "\\item 'fiat 124b'\n",
       "\\item 'fiat 128'\n",
       "\\item 'fiat 131'\n",
       "\\item 'fiat strada custom'\n",
       "\\item 'fiat x1.9'\n",
       "\\item 'ford country'\n",
       "\\item 'ford country squire (sw)'\n",
       "\\item 'ford escort 2h'\n",
       "\\item 'ford escort 4w'\n",
       "\\item 'ford f108'\n",
       "\\item 'ford f250'\n",
       "\\item 'ford fairmont'\n",
       "\\item 'ford fairmont (auto)'\n",
       "\\item 'ford fairmont (man)'\n",
       "\\item 'ford fairmont 4'\n",
       "\\item 'ford fairmont futura'\n",
       "\\item 'ford fiesta'\n",
       "\\item 'ford futura'\n",
       "\\item 'ford galaxie 500'\n",
       "\\item 'ford gran torino'\n",
       "\\item 'ford gran torino (sw)'\n",
       "\\item 'ford granada'\n",
       "\\item 'ford granada ghia'\n",
       "\\item 'ford granada gl'\n",
       "\\item 'ford granada l'\n",
       "\\item 'ford ltd'\n",
       "\\item 'ford ltd landau'\n",
       "\\item 'ford maverick'\n",
       "\\item 'ford mustang'\n",
       "\\item 'ford mustang cobra'\n",
       "\\item 'ford mustang gl'\n",
       "\\item 'ford mustang ii'\n",
       "\\item 'ford mustang ii 2+2'\n",
       "\\item 'ford pinto'\n",
       "\\item 'ford pinto (sw)'\n",
       "\\item 'ford pinto runabout'\n",
       "\\item 'ford ranger'\n",
       "\\item 'ford thunderbird'\n",
       "\\item 'ford torino'\n",
       "\\item 'ford torino 500'\n",
       "\\item 'hi 1200d'\n",
       "\\item 'honda accord'\n",
       "\\item 'honda accord cvcc'\n",
       "\\item 'honda accord lx'\n",
       "\\item 'honda civic'\n",
       "\\item 'honda civic (auto)'\n",
       "\\item 'honda civic 1300'\n",
       "\\item 'honda civic 1500 gl'\n",
       "\\item 'honda civic cvcc'\n",
       "\\item 'honda prelude'\n",
       "\\item 'maxda glc deluxe'\n",
       "\\item 'maxda rx3'\n",
       "\\item 'mazda 626'\n",
       "\\item 'mazda glc'\n",
       "\\item 'mazda glc 4'\n",
       "\\item 'mazda glc custom'\n",
       "\\item 'mazda glc custom l'\n",
       "\\item 'mazda glc deluxe'\n",
       "\\item 'mazda rx-4'\n",
       "\\item 'mazda rx-7 gs'\n",
       "\\item 'mazda rx2 coupe'\n",
       "\\item 'mercedes-benz 240d'\n",
       "\\item 'mercedes-benz 280s'\n",
       "\\item 'mercedes benz 300d'\n",
       "\\item 'mercury capri 2000'\n",
       "\\item 'mercury capri v6'\n",
       "\\item 'mercury cougar brougham'\n",
       "\\item 'mercury grand marquis'\n",
       "\\item 'mercury lynx l'\n",
       "\\item 'mercury marquis'\n",
       "\\item 'mercury marquis brougham'\n",
       "\\item 'mercury monarch'\n",
       "\\item 'mercury monarch ghia'\n",
       "\\item 'mercury zephyr'\n",
       "\\item 'mercury zephyr 6'\n",
       "\\item 'nissan stanza xe'\n",
       "\\item 'oldsmobile cutlass ciera (diesel)'\n",
       "\\item 'oldsmobile cutlass ls'\n",
       "\\item 'oldsmobile cutlass salon brougham'\n",
       "\\item 'oldsmobile cutlass supreme'\n",
       "\\item 'oldsmobile delta 88 royale'\n",
       "\\item 'oldsmobile omega'\n",
       "\\item 'oldsmobile omega brougham'\n",
       "\\item 'oldsmobile starfire sx'\n",
       "\\item 'oldsmobile vista cruiser'\n",
       "\\item 'opel 1900'\n",
       "\\item 'opel manta'\n",
       "\\item 'peugeot 304'\n",
       "\\item 'peugeot 504'\n",
       "\\item 'peugeot 504 (sw)'\n",
       "\\item 'peugeot 505s turbo diesel'\n",
       "\\item 'peugeot 604sl'\n",
       "\\item 'plymouth \\textbackslash{}'cuda 340'\n",
       "\\item 'plymouth arrow gs'\n",
       "\\item 'plymouth champ'\n",
       "\\item 'plymouth cricket'\n",
       "\\item 'plymouth custom suburb'\n",
       "\\item 'plymouth duster'\n",
       "\\item 'plymouth fury'\n",
       "\\item 'plymouth fury gran sedan'\n",
       "\\item 'plymouth fury iii'\n",
       "\\item 'plymouth grand fury'\n",
       "\\item 'plymouth horizon'\n",
       "\\item 'plymouth horizon 4'\n",
       "\\item 'plymouth horizon miser'\n",
       "\\item 'plymouth horizon tc3'\n",
       "\\item 'plymouth reliant'\n",
       "\\item 'plymouth sapporo'\n",
       "\\item 'plymouth satellite'\n",
       "\\item 'plymouth satellite custom'\n",
       "\\item 'plymouth satellite custom (sw)'\n",
       "\\item 'plymouth satellite sebring'\n",
       "\\item 'plymouth valiant'\n",
       "\\item 'plymouth valiant custom'\n",
       "\\item 'plymouth volare'\n",
       "\\item 'plymouth volare custom'\n",
       "\\item 'plymouth volare premier v8'\n",
       "\\item 'pontiac astro'\n",
       "\\item 'pontiac catalina'\n",
       "\\item 'pontiac catalina brougham'\n",
       "\\item 'pontiac firebird'\n",
       "\\item 'pontiac grand prix'\n",
       "\\item 'pontiac grand prix lj'\n",
       "\\item 'pontiac j2000 se hatchback'\n",
       "\\item 'pontiac lemans v6'\n",
       "\\item 'pontiac phoenix'\n",
       "\\item 'pontiac phoenix lj'\n",
       "\\item 'pontiac safari (sw)'\n",
       "\\item 'pontiac sunbird coupe'\n",
       "\\item 'pontiac ventura sj'\n",
       "\\item 'renault 12 (sw)'\n",
       "\\item 'renault 12tl'\n",
       "\\item 'renault 18i'\n",
       "\\item 'renault 5 gtl'\n",
       "\\item 'renault lecar deluxe'\n",
       "\\item 'saab 99e'\n",
       "\\item 'saab 99gle'\n",
       "\\item 'saab 99le'\n",
       "\\item 'subaru'\n",
       "\\item 'subaru dl'\n",
       "\\item 'toyota carina'\n",
       "\\item 'toyota celica gt'\n",
       "\\item 'toyota celica gt liftback'\n",
       "\\item 'toyota corolla'\n",
       "\\item 'toyota corolla 1200'\n",
       "\\item 'toyota corolla 1600 (sw)'\n",
       "\\item 'toyota corolla liftback'\n",
       "\\item 'toyota corolla tercel'\n",
       "\\item 'toyota corona'\n",
       "\\item 'toyota corona hardtop'\n",
       "\\item 'toyota corona liftback'\n",
       "\\item 'toyota corona mark ii'\n",
       "\\item 'toyota cressida'\n",
       "\\item 'toyota mark ii'\n",
       "\\item 'toyota starlet'\n",
       "\\item 'toyota tercel'\n",
       "\\item 'toyouta corona mark ii (sw)'\n",
       "\\item 'triumph tr7 coupe'\n",
       "\\item 'vokswagen rabbit'\n",
       "\\item 'volkswagen 1131 deluxe sedan'\n",
       "\\item 'volkswagen 411 (sw)'\n",
       "\\item 'volkswagen dasher'\n",
       "\\item 'volkswagen jetta'\n",
       "\\item 'volkswagen model 111'\n",
       "\\item 'volkswagen rabbit'\n",
       "\\item 'volkswagen rabbit custom'\n",
       "\\item 'volkswagen rabbit custom diesel'\n",
       "\\item 'volkswagen rabbit l'\n",
       "\\item 'volkswagen scirocco'\n",
       "\\item 'volkswagen super beetle'\n",
       "\\item 'volkswagen type 3'\n",
       "\\item 'volvo 144ea'\n",
       "\\item 'volvo 145e (sw)'\n",
       "\\item 'volvo 244dl'\n",
       "\\item 'volvo 245'\n",
       "\\item 'volvo 264gl'\n",
       "\\item 'volvo diesel'\n",
       "\\item 'vw dasher (diesel)'\n",
       "\\item 'vw pickup'\n",
       "\\item 'vw rabbit'\n",
       "\\item 'vw rabbit c (diesel)'\n",
       "\\item 'vw rabbit custom'\n",
       "\\end{enumerate*}\n"
      ],
      "text/markdown": [
       "1. chevrolet chevelle malibu\n",
       "2. buick skylark 320\n",
       "3. plymouth satellite\n",
       "4. amc rebel sst\n",
       "5. ford torino\n",
       "6. ford galaxie 500\n",
       "7. chevrolet impala\n",
       "8. plymouth fury iii\n",
       "9. pontiac catalina\n",
       "10. amc ambassador dpl\n",
       "11. dodge challenger se\n",
       "12. plymouth 'cuda 340\n",
       "13. chevrolet monte carlo\n",
       "14. buick estate wagon (sw)\n",
       "15. plymouth duster\n",
       "16. amc hornet\n",
       "17. ford maverick\n",
       "18. amc gremlin\n",
       "19. ford f250\n",
       "20. chevy c20\n",
       "21. dodge d200\n",
       "22. hi 1200d\n",
       "\n",
       "\n",
       "\n",
       "**Levels**: 1. 'amc ambassador brougham'\n",
       "2. 'amc ambassador dpl'\n",
       "3. 'amc ambassador sst'\n",
       "4. 'amc concord'\n",
       "5. 'amc concord d/l'\n",
       "6. 'amc concord dl 6'\n",
       "7. 'amc gremlin'\n",
       "8. 'amc hornet'\n",
       "9. 'amc hornet sportabout (sw)'\n",
       "10. 'amc matador'\n",
       "11. 'amc matador (sw)'\n",
       "12. 'amc pacer'\n",
       "13. 'amc pacer d/l'\n",
       "14. 'amc rebel sst'\n",
       "15. 'amc spirit dl'\n",
       "16. 'audi 100 ls'\n",
       "17. 'audi 100ls'\n",
       "18. 'audi 4000'\n",
       "19. 'audi 5000'\n",
       "20. 'audi 5000s (diesel)'\n",
       "21. 'audi fox'\n",
       "22. 'bmw 2002'\n",
       "23. 'bmw 320i'\n",
       "24. 'buick century'\n",
       "25. 'buick century 350'\n",
       "26. 'buick century limited'\n",
       "27. 'buick century luxus (sw)'\n",
       "28. 'buick century special'\n",
       "29. 'buick electra 225 custom'\n",
       "30. 'buick estate wagon (sw)'\n",
       "31. 'buick lesabre custom'\n",
       "32. 'buick opel isuzu deluxe'\n",
       "33. 'buick regal sport coupe (turbo)'\n",
       "34. 'buick skyhawk'\n",
       "35. 'buick skylark'\n",
       "36. 'buick skylark 320'\n",
       "37. 'buick skylark limited'\n",
       "38. 'cadillac eldorado'\n",
       "39. 'cadillac seville'\n",
       "40. 'capri ii'\n",
       "41. 'chevroelt chevelle malibu'\n",
       "42. 'chevrolet bel air'\n",
       "43. 'chevrolet camaro'\n",
       "44. 'chevrolet caprice classic'\n",
       "45. 'chevrolet cavalier'\n",
       "46. 'chevrolet cavalier 2-door'\n",
       "47. 'chevrolet cavalier wagon'\n",
       "48. 'chevrolet chevelle concours (sw)'\n",
       "49. 'chevrolet chevelle malibu'\n",
       "50. 'chevrolet chevelle malibu classic'\n",
       "51. 'chevrolet chevette'\n",
       "52. 'chevrolet citation'\n",
       "53. 'chevrolet concours'\n",
       "54. 'chevrolet impala'\n",
       "55. 'chevrolet malibu'\n",
       "56. 'chevrolet malibu classic (sw)'\n",
       "57. 'chevrolet monte carlo'\n",
       "58. 'chevrolet monte carlo landau'\n",
       "59. 'chevrolet monte carlo s'\n",
       "60. 'chevrolet monza 2+2'\n",
       "61. 'chevrolet nova'\n",
       "62. 'chevrolet nova custom'\n",
       "63. 'chevrolet vega'\n",
       "64. 'chevrolet vega (sw)'\n",
       "65. 'chevrolet vega 2300'\n",
       "66. 'chevrolet woody'\n",
       "67. 'chevy c10'\n",
       "68. 'chevy c20'\n",
       "69. 'chevy s-10'\n",
       "70. 'chrysler cordoba'\n",
       "71. 'chrysler lebaron medallion'\n",
       "72. 'chrysler lebaron salon'\n",
       "73. 'chrysler lebaron town @ country (sw)'\n",
       "74. 'chrysler new yorker brougham'\n",
       "75. 'chrysler newport royal'\n",
       "76. 'datsun 1200'\n",
       "77. 'datsun 200-sx'\n",
       "78. 'datsun 200sx'\n",
       "79. 'datsun 210'\n",
       "80. 'datsun 210 mpg'\n",
       "81. 'datsun 280-zx'\n",
       "82. 'datsun 310'\n",
       "83. 'datsun 310 gx'\n",
       "84. 'datsun 510'\n",
       "85. 'datsun 510 (sw)'\n",
       "86. 'datsun 510 hatchback'\n",
       "87. 'datsun 610'\n",
       "88. 'datsun 710'\n",
       "89. 'datsun 810'\n",
       "90. 'datsun 810 maxima'\n",
       "91. 'datsun b-210'\n",
       "92. 'datsun b210'\n",
       "93. 'datsun b210 gx'\n",
       "94. 'datsun f-10 hatchback'\n",
       "95. 'datsun pl510'\n",
       "96. 'dodge aries se'\n",
       "97. 'dodge aries wagon (sw)'\n",
       "98. 'dodge aspen'\n",
       "99. 'dodge aspen 6'\n",
       "100. 'dodge aspen se'\n",
       "101. 'dodge challenger se'\n",
       "102. 'dodge charger 2.2'\n",
       "103. 'dodge colt'\n",
       "104. 'dodge colt (sw)'\n",
       "105. 'dodge colt hardtop'\n",
       "106. 'dodge colt hatchback custom'\n",
       "107. 'dodge colt m/m'\n",
       "108. 'dodge coronet brougham'\n",
       "109. 'dodge coronet custom'\n",
       "110. 'dodge coronet custom (sw)'\n",
       "111. 'dodge d100'\n",
       "112. 'dodge d200'\n",
       "113. 'dodge dart custom'\n",
       "114. 'dodge diplomat'\n",
       "115. 'dodge magnum xe'\n",
       "116. 'dodge monaco (sw)'\n",
       "117. 'dodge monaco brougham'\n",
       "118. 'dodge omni'\n",
       "119. 'dodge rampage'\n",
       "120. 'dodge st. regis'\n",
       "121. 'fiat 124 sport coupe'\n",
       "122. 'fiat 124 tc'\n",
       "123. 'fiat 124b'\n",
       "124. 'fiat 128'\n",
       "125. 'fiat 131'\n",
       "126. 'fiat strada custom'\n",
       "127. 'fiat x1.9'\n",
       "128. 'ford country'\n",
       "129. 'ford country squire (sw)'\n",
       "130. 'ford escort 2h'\n",
       "131. 'ford escort 4w'\n",
       "132. 'ford f108'\n",
       "133. 'ford f250'\n",
       "134. 'ford fairmont'\n",
       "135. 'ford fairmont (auto)'\n",
       "136. 'ford fairmont (man)'\n",
       "137. 'ford fairmont 4'\n",
       "138. 'ford fairmont futura'\n",
       "139. 'ford fiesta'\n",
       "140. 'ford futura'\n",
       "141. 'ford galaxie 500'\n",
       "142. 'ford gran torino'\n",
       "143. 'ford gran torino (sw)'\n",
       "144. 'ford granada'\n",
       "145. 'ford granada ghia'\n",
       "146. 'ford granada gl'\n",
       "147. 'ford granada l'\n",
       "148. 'ford ltd'\n",
       "149. 'ford ltd landau'\n",
       "150. 'ford maverick'\n",
       "151. 'ford mustang'\n",
       "152. 'ford mustang cobra'\n",
       "153. 'ford mustang gl'\n",
       "154. 'ford mustang ii'\n",
       "155. 'ford mustang ii 2+2'\n",
       "156. 'ford pinto'\n",
       "157. 'ford pinto (sw)'\n",
       "158. 'ford pinto runabout'\n",
       "159. 'ford ranger'\n",
       "160. 'ford thunderbird'\n",
       "161. 'ford torino'\n",
       "162. 'ford torino 500'\n",
       "163. 'hi 1200d'\n",
       "164. 'honda accord'\n",
       "165. 'honda accord cvcc'\n",
       "166. 'honda accord lx'\n",
       "167. 'honda civic'\n",
       "168. 'honda civic (auto)'\n",
       "169. 'honda civic 1300'\n",
       "170. 'honda civic 1500 gl'\n",
       "171. 'honda civic cvcc'\n",
       "172. 'honda prelude'\n",
       "173. 'maxda glc deluxe'\n",
       "174. 'maxda rx3'\n",
       "175. 'mazda 626'\n",
       "176. 'mazda glc'\n",
       "177. 'mazda glc 4'\n",
       "178. 'mazda glc custom'\n",
       "179. 'mazda glc custom l'\n",
       "180. 'mazda glc deluxe'\n",
       "181. 'mazda rx-4'\n",
       "182. 'mazda rx-7 gs'\n",
       "183. 'mazda rx2 coupe'\n",
       "184. 'mercedes-benz 240d'\n",
       "185. 'mercedes-benz 280s'\n",
       "186. 'mercedes benz 300d'\n",
       "187. 'mercury capri 2000'\n",
       "188. 'mercury capri v6'\n",
       "189. 'mercury cougar brougham'\n",
       "190. 'mercury grand marquis'\n",
       "191. 'mercury lynx l'\n",
       "192. 'mercury marquis'\n",
       "193. 'mercury marquis brougham'\n",
       "194. 'mercury monarch'\n",
       "195. 'mercury monarch ghia'\n",
       "196. 'mercury zephyr'\n",
       "197. 'mercury zephyr 6'\n",
       "198. 'nissan stanza xe'\n",
       "199. 'oldsmobile cutlass ciera (diesel)'\n",
       "200. 'oldsmobile cutlass ls'\n",
       "201. 'oldsmobile cutlass salon brougham'\n",
       "202. 'oldsmobile cutlass supreme'\n",
       "203. 'oldsmobile delta 88 royale'\n",
       "204. 'oldsmobile omega'\n",
       "205. 'oldsmobile omega brougham'\n",
       "206. 'oldsmobile starfire sx'\n",
       "207. 'oldsmobile vista cruiser'\n",
       "208. 'opel 1900'\n",
       "209. 'opel manta'\n",
       "210. 'peugeot 304'\n",
       "211. 'peugeot 504'\n",
       "212. 'peugeot 504 (sw)'\n",
       "213. 'peugeot 505s turbo diesel'\n",
       "214. 'peugeot 604sl'\n",
       "215. 'plymouth \\'cuda 340'\n",
       "216. 'plymouth arrow gs'\n",
       "217. 'plymouth champ'\n",
       "218. 'plymouth cricket'\n",
       "219. 'plymouth custom suburb'\n",
       "220. 'plymouth duster'\n",
       "221. 'plymouth fury'\n",
       "222. 'plymouth fury gran sedan'\n",
       "223. 'plymouth fury iii'\n",
       "224. 'plymouth grand fury'\n",
       "225. 'plymouth horizon'\n",
       "226. 'plymouth horizon 4'\n",
       "227. 'plymouth horizon miser'\n",
       "228. 'plymouth horizon tc3'\n",
       "229. 'plymouth reliant'\n",
       "230. 'plymouth sapporo'\n",
       "231. 'plymouth satellite'\n",
       "232. 'plymouth satellite custom'\n",
       "233. 'plymouth satellite custom (sw)'\n",
       "234. 'plymouth satellite sebring'\n",
       "235. 'plymouth valiant'\n",
       "236. 'plymouth valiant custom'\n",
       "237. 'plymouth volare'\n",
       "238. 'plymouth volare custom'\n",
       "239. 'plymouth volare premier v8'\n",
       "240. 'pontiac astro'\n",
       "241. 'pontiac catalina'\n",
       "242. 'pontiac catalina brougham'\n",
       "243. 'pontiac firebird'\n",
       "244. 'pontiac grand prix'\n",
       "245. 'pontiac grand prix lj'\n",
       "246. 'pontiac j2000 se hatchback'\n",
       "247. 'pontiac lemans v6'\n",
       "248. 'pontiac phoenix'\n",
       "249. 'pontiac phoenix lj'\n",
       "250. 'pontiac safari (sw)'\n",
       "251. 'pontiac sunbird coupe'\n",
       "252. 'pontiac ventura sj'\n",
       "253. 'renault 12 (sw)'\n",
       "254. 'renault 12tl'\n",
       "255. 'renault 18i'\n",
       "256. 'renault 5 gtl'\n",
       "257. 'renault lecar deluxe'\n",
       "258. 'saab 99e'\n",
       "259. 'saab 99gle'\n",
       "260. 'saab 99le'\n",
       "261. 'subaru'\n",
       "262. 'subaru dl'\n",
       "263. 'toyota carina'\n",
       "264. 'toyota celica gt'\n",
       "265. 'toyota celica gt liftback'\n",
       "266. 'toyota corolla'\n",
       "267. 'toyota corolla 1200'\n",
       "268. 'toyota corolla 1600 (sw)'\n",
       "269. 'toyota corolla liftback'\n",
       "270. 'toyota corolla tercel'\n",
       "271. 'toyota corona'\n",
       "272. 'toyota corona hardtop'\n",
       "273. 'toyota corona liftback'\n",
       "274. 'toyota corona mark ii'\n",
       "275. 'toyota cressida'\n",
       "276. 'toyota mark ii'\n",
       "277. 'toyota starlet'\n",
       "278. 'toyota tercel'\n",
       "279. 'toyouta corona mark ii (sw)'\n",
       "280. 'triumph tr7 coupe'\n",
       "281. 'vokswagen rabbit'\n",
       "282. 'volkswagen 1131 deluxe sedan'\n",
       "283. 'volkswagen 411 (sw)'\n",
       "284. 'volkswagen dasher'\n",
       "285. 'volkswagen jetta'\n",
       "286. 'volkswagen model 111'\n",
       "287. 'volkswagen rabbit'\n",
       "288. 'volkswagen rabbit custom'\n",
       "289. 'volkswagen rabbit custom diesel'\n",
       "290. 'volkswagen rabbit l'\n",
       "291. 'volkswagen scirocco'\n",
       "292. 'volkswagen super beetle'\n",
       "293. 'volkswagen type 3'\n",
       "294. 'volvo 144ea'\n",
       "295. 'volvo 145e (sw)'\n",
       "296. 'volvo 244dl'\n",
       "297. 'volvo 245'\n",
       "298. 'volvo 264gl'\n",
       "299. 'volvo diesel'\n",
       "300. 'vw dasher (diesel)'\n",
       "301. 'vw pickup'\n",
       "302. 'vw rabbit'\n",
       "303. 'vw rabbit c (diesel)'\n",
       "304. 'vw rabbit custom'\n",
       "\n",
       "\n"
      ],
      "text/plain": [
       " [1] chevrolet chevelle malibu buick skylark 320        \n",
       " [3] plymouth satellite        amc rebel sst            \n",
       " [5] ford torino               ford galaxie 500         \n",
       " [7] chevrolet impala          plymouth fury iii        \n",
       " [9] pontiac catalina          amc ambassador dpl       \n",
       "[11] dodge challenger se       plymouth 'cuda 340       \n",
       "[13] chevrolet monte carlo     buick estate wagon (sw)  \n",
       "[15] plymouth duster           amc hornet               \n",
       "[17] ford maverick             amc gremlin              \n",
       "[19] ford f250                 chevy c20                \n",
       "[21] dodge d200                hi 1200d                 \n",
       "304 Levels: amc ambassador brougham amc ambassador dpl ... vw rabbit custom"
      ]
     },
     "metadata": {},
     "output_type": "display_data"
    }
   ],
   "source": [
    "name[cylinders>=6 & year==70] \n",
    "detach(Auto)"
   ]
  },
  {
   "cell_type": "markdown",
   "id": "eaa73967-18f2-48bf-a8a4-ef8f4e7b86bb",
   "metadata": {},
   "source": [
    "Notar que en la orden anterior hemos usado el `&` para concatenar dos condiciones. \n",
    "\n",
    "***PRACTICA TÚ MISMO***\n",
    "\n",
    "En una nueva script de RStudio, crea un nuevo data frame llamado *alumnos*, con las siguientes variables. Analiza si el tipo de variable es el adecuado (numérica, categórica) en cada caso y de no ser así corrígelo. "
   ]
  },
  {
   "cell_type": "markdown",
   "id": "739e3f5f-f33f-4ff1-8fc5-e07c7b16b4c2",
   "metadata": {},
   "source": [
    "<div><img alt=\"\" src=\"./figuras/tabla_alumnos.png\" width=\"200\"/></div>"
   ]
  },
  {
   "cell_type": "markdown",
   "id": "c68a37ea-8ffe-4f94-9e15-0e119c1fb49a",
   "metadata": {},
   "source": [
    "Con el data frame generado analiza los resultados de las siguientes instrucciones:\n",
    "1. datos[2,]\n",
    "2. datos[3,4]\n",
    "3. datos[datos$Edad>20]\n",
    "\n",
    "¿Cuál es la diferencia entre ejecutar datos[Edad>20,] y Edad[Edad>20]? Recuerda que para poder llamar directamente a la columna *Edad*, antes hay que ejecutar la función `attach(datos)`.\n",
    "\n",
    "¿Qué se obtiene al ejecutar la orden Altura[Edad>20 & Sexo==\"M\"]"
   ]
  },
  {
   "cell_type": "markdown",
   "id": "4901f148-2c15-4a49-ad4d-8b65ef3141b5",
   "metadata": {},
   "source": [
    "# Creación de funciones \n",
    "\n",
    "El usuario puede crear sus propias funciones para realizar una tarea específica. Además estas se pueden empaquetar en grupos y tener siempre disponibles para todas las sesiones. La sintaxis es sencilla:"
   ]
  },
  {
   "cell_type": "markdown",
   "id": "f6421fc1-58ea-42ca-bba7-8ba5fd06e7e8",
   "metadata": {},
   "source": [
    "<div><img alt=\"\" src=\"./figuras/funcion.png\" width=\"300\"/></div>"
   ]
  },
  {
   "cell_type": "markdown",
   "id": "0032f3f8-e61b-41a2-b890-1a6268fe0dae",
   "metadata": {},
   "source": [
    "Por ejemplo, "
   ]
  },
  {
   "cell_type": "code",
   "execution_count": 60,
   "id": "ce16f9eb-aa74-4ccd-8493-79d8c2cef463",
   "metadata": {},
   "outputs": [],
   "source": [
    "mi_primera_funcion <- function(x){\n",
    "  f <- sqrt(1-exp(-x^2))\n",
    "  return (f)\n",
    "}"
   ]
  },
  {
   "cell_type": "markdown",
   "id": "2ca1216b-a484-44df-8829-1809708888c9",
   "metadata": {},
   "source": [
    "Una vez guardada en un fichero la función creada, el comando `source()` nos permitirá usarla cuando sea necesario. Notar que si la función no la hemos guardado en el directorio en el que estamos trabajando, al llamar a la función `source()`, debemos indicar la ruta completa donde está guardada: `source(\"ruta_del_directorio_de_trabajo/mi_primera_funcion.R\")`. Como se ha indicado anteriormente, se recomienda crear un directorio de trabajo para las prácticas en el que vayamos guardando todo y utilizar la función `setwd()` para establecer ese directorio como el de trabajo en la sesión de R que tenemos abierta. De esta forma simplificamos el código de R ya que no tendremos que escribir la ruta completa cada vez que queramos llamar a una\n",
    "función propia, abrir un fichero de datos, guardar una figura, etc. \n",
    "\n",
    "Vamos a aplicar la función definida arriba al valor 3 de la forma: "
   ]
  },
  {
   "cell_type": "code",
   "execution_count": 61,
   "id": "0681d146-4b2c-4b32-ba92-f1c11b05cb2b",
   "metadata": {},
   "outputs": [
    {
     "data": {
      "text/html": [
       "0.999938293194092"
      ],
      "text/latex": [
       "0.999938293194092"
      ],
      "text/markdown": [
       "0.999938293194092"
      ],
      "text/plain": [
       "[1] 0.9999383"
      ]
     },
     "metadata": {},
     "output_type": "display_data"
    }
   ],
   "source": [
    "mi_primera_funcion(3)"
   ]
  },
  {
   "cell_type": "markdown",
   "id": "5b8f829f-dcc3-4ada-aab5-e591e8dd709b",
   "metadata": {},
   "source": [
    "***PRACTICA TÚ MISMO***\n",
    "\n",
    "Crear una función que obtenga las soluciones de una ecuación de segundo grado. Y probarla para la ecuación $x^2+5x-16=0$"
   ]
  },
  {
   "cell_type": "code",
   "execution_count": 62,
   "id": "a04b0a04-eb7b-47ce-87a7-e2c6b741b23a",
   "metadata": {},
   "outputs": [],
   "source": [
    "# @hidden_cell\n",
    "solve_2ndeq <- function(a,b,c){\n",
    "  r <- sqrt(b^2-4*a*c)\n",
    "  x1 <- (-b+r)/(2*a)\n",
    "  x2 <- (-b-r)/(2*a)\n",
    "  return (c(x1,x2))\n",
    "}"
   ]
  },
  {
   "cell_type": "markdown",
   "id": "e58507e3-62e8-4b27-87c6-294b53967c78",
   "metadata": {},
   "source": [
    "# Trabajar con ficheros de datos desde R\n",
    "\n",
    "Existen diferentes funciones de R para abrir ficheros de datos que debemos conocer ya que el uso de una u otra función depende del formato del fichero donde se han guardado los datos. A continuación analizamos distintos casos.  \n",
    "\n",
    "## Cargar datos (ficheros .rda)\n",
    "Desde R se pueden cargar datos directamente de ficheros con formato propio de R. Estos ficheros tienen extensión **.rda**. La funcion `load()` nos permite cargar los datos contenidos en este tipo de ficheros.\n",
    "\n",
    "Como ejemplo, vamos a cargar desde R los datos del fichero *Pulsaciones.rda* disponible en la página web de la asignatura. Debemos indicar entre comillas el nombre del fichero. Recordar que si ese fichero no está en nuestro directorio de trabajo debemos indicar la ruta completa o mejor establecer nuestro directorio de trabajo correctamente con `setwd()`."
   ]
  },
  {
   "cell_type": "code",
   "execution_count": 63,
   "id": "beaf09bb-1947-48d5-9257-c21f48364a75",
   "metadata": {},
   "outputs": [],
   "source": [
    "# @hidden_cell\n",
    "setwd(\"data/\")"
   ]
  },
  {
   "cell_type": "code",
   "execution_count": 64,
   "id": "2889016b-272a-4984-9d44-e3c4e98138f8",
   "metadata": {},
   "outputs": [
    {
     "data": {
      "text/html": [
       "<table class=\"dataframe\">\n",
       "<caption>A data.frame: 6 × 8</caption>\n",
       "<thead>\n",
       "\t<tr><th></th><th scope=col>Pulso1</th><th scope=col>Pulso2</th><th scope=col>Correr</th><th scope=col>Fumar</th><th scope=col>Sexo</th><th scope=col>Altura</th><th scope=col>Peso</th><th scope=col>Actividad</th></tr>\n",
       "\t<tr><th></th><th scope=col>&lt;int&gt;</th><th scope=col>&lt;int&gt;</th><th scope=col>&lt;fct&gt;</th><th scope=col>&lt;fct&gt;</th><th scope=col>&lt;fct&gt;</th><th scope=col>&lt;dbl&gt;</th><th scope=col>&lt;dbl&gt;</th><th scope=col>&lt;fct&gt;</th></tr>\n",
       "</thead>\n",
       "<tbody>\n",
       "\t<tr><th scope=row>1</th><td>64</td><td>88</td><td>corrio</td><td>no fuma</td><td>hombre</td><td>168.2</td><td>61.95</td><td>media</td></tr>\n",
       "\t<tr><th scope=row>2</th><td>58</td><td>70</td><td>corrio</td><td>no fuma</td><td>hombre</td><td>182.9</td><td>66.31</td><td>media</td></tr>\n",
       "\t<tr><th scope=row>3</th><td>62</td><td>76</td><td>corrio</td><td>fuma   </td><td>hombre</td><td>187.0</td><td>71.38</td><td>alta </td></tr>\n",
       "\t<tr><th scope=row>4</th><td>66</td><td>78</td><td>corrio</td><td>fuma   </td><td>hombre</td><td>185.9</td><td>88.26</td><td>baja </td></tr>\n",
       "\t<tr><th scope=row>5</th><td>64</td><td>80</td><td>corrio</td><td>no fuma</td><td>hombre</td><td>175.2</td><td>68.64</td><td>media</td></tr>\n",
       "\t<tr><th scope=row>6</th><td>74</td><td>84</td><td>corrio</td><td>no fuma</td><td>hombre</td><td>184.7</td><td>74.31</td><td>baja </td></tr>\n",
       "</tbody>\n",
       "</table>\n"
      ],
      "text/latex": [
       "A data.frame: 6 × 8\n",
       "\\begin{tabular}{r|llllllll}\n",
       "  & Pulso1 & Pulso2 & Correr & Fumar & Sexo & Altura & Peso & Actividad\\\\\n",
       "  & <int> & <int> & <fct> & <fct> & <fct> & <dbl> & <dbl> & <fct>\\\\\n",
       "\\hline\n",
       "\t1 & 64 & 88 & corrio & no fuma & hombre & 168.2 & 61.95 & media\\\\\n",
       "\t2 & 58 & 70 & corrio & no fuma & hombre & 182.9 & 66.31 & media\\\\\n",
       "\t3 & 62 & 76 & corrio & fuma    & hombre & 187.0 & 71.38 & alta \\\\\n",
       "\t4 & 66 & 78 & corrio & fuma    & hombre & 185.9 & 88.26 & baja \\\\\n",
       "\t5 & 64 & 80 & corrio & no fuma & hombre & 175.2 & 68.64 & media\\\\\n",
       "\t6 & 74 & 84 & corrio & no fuma & hombre & 184.7 & 74.31 & baja \\\\\n",
       "\\end{tabular}\n"
      ],
      "text/markdown": [
       "\n",
       "A data.frame: 6 × 8\n",
       "\n",
       "| <!--/--> | Pulso1 &lt;int&gt; | Pulso2 &lt;int&gt; | Correr &lt;fct&gt; | Fumar &lt;fct&gt; | Sexo &lt;fct&gt; | Altura &lt;dbl&gt; | Peso &lt;dbl&gt; | Actividad &lt;fct&gt; |\n",
       "|---|---|---|---|---|---|---|---|---|\n",
       "| 1 | 64 | 88 | corrio | no fuma | hombre | 168.2 | 61.95 | media |\n",
       "| 2 | 58 | 70 | corrio | no fuma | hombre | 182.9 | 66.31 | media |\n",
       "| 3 | 62 | 76 | corrio | fuma    | hombre | 187.0 | 71.38 | alta  |\n",
       "| 4 | 66 | 78 | corrio | fuma    | hombre | 185.9 | 88.26 | baja  |\n",
       "| 5 | 64 | 80 | corrio | no fuma | hombre | 175.2 | 68.64 | media |\n",
       "| 6 | 74 | 84 | corrio | no fuma | hombre | 184.7 | 74.31 | baja  |\n",
       "\n"
      ],
      "text/plain": [
       "  Pulso1 Pulso2 Correr Fumar   Sexo   Altura Peso  Actividad\n",
       "1 64     88     corrio no fuma hombre 168.2  61.95 media    \n",
       "2 58     70     corrio no fuma hombre 182.9  66.31 media    \n",
       "3 62     76     corrio fuma    hombre 187.0  71.38 alta     \n",
       "4 66     78     corrio fuma    hombre 185.9  88.26 baja     \n",
       "5 64     80     corrio no fuma hombre 175.2  68.64 media    \n",
       "6 74     84     corrio no fuma hombre 184.7  74.31 baja     "
      ]
     },
     "metadata": {},
     "output_type": "display_data"
    }
   ],
   "source": [
    "load(\"Pulsaciones.rda\") \n",
    "head(Pulsaciones)"
   ]
  },
  {
   "cell_type": "markdown",
   "id": "6d25787e-2942-497a-9acb-4d99d5640eb1",
   "metadata": {},
   "source": [
    "Si ejecutais esa orden desde RStudio, en la ventana superior derecha de RStudio titulada *Global Environment* aparece el data frame *Pulsaciones* que contiene registros de 92 personas de diferentes variables (visualizar el contenido haciendo doble click sobre Pulsaciones). \n",
    "\n",
    "A una parte de los individuos de esta muestra se les pidió que corrieran durante un tiempo y a otros no. La primera columna (*Pulso1*) contiene datos del pulso de cada individuo al inicio de la prueba, la columna 2 (*Pulso2*) recoge el pulso de los individuos al finalizar la prueba. La columna 3 (*Correr*) indica si el individuo es del grupo de los que corrieron en la prueba o no. La columna 4 (*Fumar*) recoge si fuma o no fuma, la columna 5 (*Sexo*) indica si es hombre o mujer. Las columnas 6 (*Altura*) y 7 (*Peso*) recogen los datos de la altura (cm) y el peso (Kg) respectivamente. Por último la columna 8 (*Actividad*) indica que tipo de actividad física realiza el individuo normalmente en su vida diaria: baja, media o alta.\n",
    "\n",
    "Además en RStudio se puede abrir un fichero con extensión .rda directamente desde el menú Archivo, opción Abrir fichero pero la función asociada a esa orden no quedaría guardada en nuestra script, por lo que siempre se recomienda el uso de la función `load()`."
   ]
  },
  {
   "cell_type": "markdown",
   "id": "741a8a1d-9fb5-4d6e-8077-1c33f251d298",
   "metadata": {},
   "source": [
    "## Importar datos\n",
    "\n",
    "Para utilizar otro tipo de datos guardados en ASCII (con extensión .csv o .txt por ejemplo), los cuáles no son ficheros de datos nativos de R, se necesita importar esos datos indicando ciertas características sobre el formato en el que están almacenados los datos en el fichero. Entre otras cosas nos interesa conocer si el fichero tiene cabeceras, como están separadas unas columnas de otras (espacios, la coma, punto y coma etc) o que carácter codifica el decimal (el punto, la coma). Para ello RStudio nos permite ver el contenido del fichero (sin cargar los datos) desde la opción *Abrir* del Menú *Archivo*. Otra opción para ver el contenido del fichero sería utilizar un editor de texto como el Block de Notas por ejemplo. \n",
    "\n",
    "Una vez que hemos visto el formato en el que están guardados los datos podemos utilizar alguna de las funciones que se indican a continuación para importar esos datos, prestando especial atención a los argumentos que debemos especificar en cada una de ellas. \n",
    "\n",
    "Una función muy utilizada para importar este tipo de ficheros no nativos de R es `read.table()`. Esta función automáticamente convierte los datos en un data frame. Importamos ahora los datos del fichero *santander.txt* disponible en la web de la asignatura, asignando un nombre al data frame. Este fichero contiene los datos de temperatura media mensual medida en Santander\n",
    "desde 1950 hasta 2003."
   ]
  },
  {
   "cell_type": "code",
   "execution_count": 65,
   "id": "51b0ed7b-9d44-46d0-8e22-b5f7a3dd46c7",
   "metadata": {},
   "outputs": [
    {
     "data": {
      "text/html": [
       "<table class=\"dataframe\">\n",
       "<caption>A data.frame: 6 × 13</caption>\n",
       "<thead>\n",
       "\t<tr><th></th><th scope=col>V1</th><th scope=col>V2</th><th scope=col>V3</th><th scope=col>V4</th><th scope=col>V5</th><th scope=col>V6</th><th scope=col>V7</th><th scope=col>V8</th><th scope=col>V9</th><th scope=col>V10</th><th scope=col>V11</th><th scope=col>V12</th><th scope=col>V13</th></tr>\n",
       "\t<tr><th></th><th scope=col>&lt;chr&gt;</th><th scope=col>&lt;chr&gt;</th><th scope=col>&lt;chr&gt;</th><th scope=col>&lt;chr&gt;</th><th scope=col>&lt;chr&gt;</th><th scope=col>&lt;chr&gt;</th><th scope=col>&lt;chr&gt;</th><th scope=col>&lt;chr&gt;</th><th scope=col>&lt;chr&gt;</th><th scope=col>&lt;chr&gt;</th><th scope=col>&lt;chr&gt;</th><th scope=col>&lt;chr&gt;</th><th scope=col>&lt;chr&gt;</th></tr>\n",
       "</thead>\n",
       "<tbody>\n",
       "\t<tr><th scope=row>1</th><td>yr  </td><td>ene</td><td>feb </td><td>mar </td><td>abr </td><td>may </td><td>jun </td><td>jul </td><td>ago </td><td>sep </td><td>oct </td><td>nov </td><td>dic </td></tr>\n",
       "\t<tr><th scope=row>2</th><td>1950</td><td>8.5</td><td>11.6</td><td>11.5</td><td>11.0</td><td>15.2</td><td>18.9</td><td>20.7</td><td>19.7</td><td>17.7</td><td>15.9</td><td>13.5</td><td>8.1 </td></tr>\n",
       "\t<tr><th scope=row>3</th><td>1951</td><td>9.2</td><td>8.8 </td><td>10.2</td><td>11.4</td><td>12.1</td><td>16.5</td><td>18.9</td><td>18.3</td><td>18.4</td><td>14.1</td><td>11.8</td><td>9.8 </td></tr>\n",
       "\t<tr><th scope=row>4</th><td>1952</td><td>7.4</td><td>7.8 </td><td>13.1</td><td>12.2</td><td>15.5</td><td>18.3</td><td>19.1</td><td>19.4</td><td>15.9</td><td>15.8</td><td>11.6</td><td>9.4 </td></tr>\n",
       "\t<tr><th scope=row>5</th><td>1953</td><td>6.6</td><td>6.6 </td><td>11.4</td><td>13.0</td><td>15.4</td><td>15.5</td><td>18.1</td><td>19.8</td><td>17.3</td><td>14.9</td><td>13.3</td><td>13.4</td></tr>\n",
       "\t<tr><th scope=row>6</th><td>1954</td><td>8.0</td><td>6.3 </td><td>10.9</td><td>13.3</td><td>13.0</td><td>15.5</td><td>16.8</td><td>18.1</td><td>17.9</td><td>17.3</td><td>13.8</td><td>10.7</td></tr>\n",
       "</tbody>\n",
       "</table>\n"
      ],
      "text/latex": [
       "A data.frame: 6 × 13\n",
       "\\begin{tabular}{r|lllllllllllll}\n",
       "  & V1 & V2 & V3 & V4 & V5 & V6 & V7 & V8 & V9 & V10 & V11 & V12 & V13\\\\\n",
       "  & <chr> & <chr> & <chr> & <chr> & <chr> & <chr> & <chr> & <chr> & <chr> & <chr> & <chr> & <chr> & <chr>\\\\\n",
       "\\hline\n",
       "\t1 & yr   & ene & feb  & mar  & abr  & may  & jun  & jul  & ago  & sep  & oct  & nov  & dic \\\\\n",
       "\t2 & 1950 & 8.5 & 11.6 & 11.5 & 11.0 & 15.2 & 18.9 & 20.7 & 19.7 & 17.7 & 15.9 & 13.5 & 8.1 \\\\\n",
       "\t3 & 1951 & 9.2 & 8.8  & 10.2 & 11.4 & 12.1 & 16.5 & 18.9 & 18.3 & 18.4 & 14.1 & 11.8 & 9.8 \\\\\n",
       "\t4 & 1952 & 7.4 & 7.8  & 13.1 & 12.2 & 15.5 & 18.3 & 19.1 & 19.4 & 15.9 & 15.8 & 11.6 & 9.4 \\\\\n",
       "\t5 & 1953 & 6.6 & 6.6  & 11.4 & 13.0 & 15.4 & 15.5 & 18.1 & 19.8 & 17.3 & 14.9 & 13.3 & 13.4\\\\\n",
       "\t6 & 1954 & 8.0 & 6.3  & 10.9 & 13.3 & 13.0 & 15.5 & 16.8 & 18.1 & 17.9 & 17.3 & 13.8 & 10.7\\\\\n",
       "\\end{tabular}\n"
      ],
      "text/markdown": [
       "\n",
       "A data.frame: 6 × 13\n",
       "\n",
       "| <!--/--> | V1 &lt;chr&gt; | V2 &lt;chr&gt; | V3 &lt;chr&gt; | V4 &lt;chr&gt; | V5 &lt;chr&gt; | V6 &lt;chr&gt; | V7 &lt;chr&gt; | V8 &lt;chr&gt; | V9 &lt;chr&gt; | V10 &lt;chr&gt; | V11 &lt;chr&gt; | V12 &lt;chr&gt; | V13 &lt;chr&gt; |\n",
       "|---|---|---|---|---|---|---|---|---|---|---|---|---|---|\n",
       "| 1 | yr   | ene | feb  | mar  | abr  | may  | jun  | jul  | ago  | sep  | oct  | nov  | dic  |\n",
       "| 2 | 1950 | 8.5 | 11.6 | 11.5 | 11.0 | 15.2 | 18.9 | 20.7 | 19.7 | 17.7 | 15.9 | 13.5 | 8.1  |\n",
       "| 3 | 1951 | 9.2 | 8.8  | 10.2 | 11.4 | 12.1 | 16.5 | 18.9 | 18.3 | 18.4 | 14.1 | 11.8 | 9.8  |\n",
       "| 4 | 1952 | 7.4 | 7.8  | 13.1 | 12.2 | 15.5 | 18.3 | 19.1 | 19.4 | 15.9 | 15.8 | 11.6 | 9.4  |\n",
       "| 5 | 1953 | 6.6 | 6.6  | 11.4 | 13.0 | 15.4 | 15.5 | 18.1 | 19.8 | 17.3 | 14.9 | 13.3 | 13.4 |\n",
       "| 6 | 1954 | 8.0 | 6.3  | 10.9 | 13.3 | 13.0 | 15.5 | 16.8 | 18.1 | 17.9 | 17.3 | 13.8 | 10.7 |\n",
       "\n"
      ],
      "text/plain": [
       "  V1   V2  V3   V4   V5   V6   V7   V8   V9   V10  V11  V12  V13 \n",
       "1 yr   ene feb  mar  abr  may  jun  jul  ago  sep  oct  nov  dic \n",
       "2 1950 8.5 11.6 11.5 11.0 15.2 18.9 20.7 19.7 17.7 15.9 13.5 8.1 \n",
       "3 1951 9.2 8.8  10.2 11.4 12.1 16.5 18.9 18.3 18.4 14.1 11.8 9.8 \n",
       "4 1952 7.4 7.8  13.1 12.2 15.5 18.3 19.1 19.4 15.9 15.8 11.6 9.4 \n",
       "5 1953 6.6 6.6  11.4 13.0 15.4 15.5 18.1 19.8 17.3 14.9 13.3 13.4\n",
       "6 1954 8.0 6.3  10.9 13.3 13.0 15.5 16.8 18.1 17.9 17.3 13.8 10.7"
      ]
     },
     "metadata": {},
     "output_type": "display_data"
    }
   ],
   "source": [
    "santander1 <- read.table(\"santander.txt\"); head(santander1)"
   ]
  },
  {
   "cell_type": "code",
   "execution_count": 66,
   "id": "20cb26fb-a99a-4005-8033-7f5031145231",
   "metadata": {},
   "outputs": [
    {
     "data": {
      "text/html": [
       "<table class=\"dataframe\">\n",
       "<caption>A data.frame: 6 × 13</caption>\n",
       "<thead>\n",
       "\t<tr><th></th><th scope=col>yr</th><th scope=col>ene</th><th scope=col>feb</th><th scope=col>mar</th><th scope=col>abr</th><th scope=col>may</th><th scope=col>jun</th><th scope=col>jul</th><th scope=col>ago</th><th scope=col>sep</th><th scope=col>oct</th><th scope=col>nov</th><th scope=col>dic</th></tr>\n",
       "\t<tr><th></th><th scope=col>&lt;int&gt;</th><th scope=col>&lt;dbl&gt;</th><th scope=col>&lt;dbl&gt;</th><th scope=col>&lt;dbl&gt;</th><th scope=col>&lt;dbl&gt;</th><th scope=col>&lt;dbl&gt;</th><th scope=col>&lt;dbl&gt;</th><th scope=col>&lt;dbl&gt;</th><th scope=col>&lt;dbl&gt;</th><th scope=col>&lt;dbl&gt;</th><th scope=col>&lt;dbl&gt;</th><th scope=col>&lt;dbl&gt;</th><th scope=col>&lt;dbl&gt;</th></tr>\n",
       "</thead>\n",
       "<tbody>\n",
       "\t<tr><th scope=row>1</th><td>1950</td><td> 8.5</td><td>11.6</td><td>11.5</td><td>11.0</td><td>15.2</td><td>18.9</td><td>20.7</td><td>19.7</td><td>17.7</td><td>15.9</td><td>13.5</td><td> 8.1</td></tr>\n",
       "\t<tr><th scope=row>2</th><td>1951</td><td> 9.2</td><td> 8.8</td><td>10.2</td><td>11.4</td><td>12.1</td><td>16.5</td><td>18.9</td><td>18.3</td><td>18.4</td><td>14.1</td><td>11.8</td><td> 9.8</td></tr>\n",
       "\t<tr><th scope=row>3</th><td>1952</td><td> 7.4</td><td> 7.8</td><td>13.1</td><td>12.2</td><td>15.5</td><td>18.3</td><td>19.1</td><td>19.4</td><td>15.9</td><td>15.8</td><td>11.6</td><td> 9.4</td></tr>\n",
       "\t<tr><th scope=row>4</th><td>1953</td><td> 6.6</td><td> 6.6</td><td>11.4</td><td>13.0</td><td>15.4</td><td>15.5</td><td>18.1</td><td>19.8</td><td>17.3</td><td>14.9</td><td>13.3</td><td>13.4</td></tr>\n",
       "\t<tr><th scope=row>5</th><td>1954</td><td> 8.0</td><td> 6.3</td><td>10.9</td><td>13.3</td><td>13.0</td><td>15.5</td><td>16.8</td><td>18.1</td><td>17.9</td><td>17.3</td><td>13.8</td><td>10.7</td></tr>\n",
       "\t<tr><th scope=row>6</th><td>1955</td><td>12.0</td><td> 9.7</td><td> 9.7</td><td>12.8</td><td>14.9</td><td>17.3</td><td>20.2</td><td>21.3</td><td>18.9</td><td>14.3</td><td>12.3</td><td>12.0</td></tr>\n",
       "</tbody>\n",
       "</table>\n"
      ],
      "text/latex": [
       "A data.frame: 6 × 13\n",
       "\\begin{tabular}{r|lllllllllllll}\n",
       "  & yr & ene & feb & mar & abr & may & jun & jul & ago & sep & oct & nov & dic\\\\\n",
       "  & <int> & <dbl> & <dbl> & <dbl> & <dbl> & <dbl> & <dbl> & <dbl> & <dbl> & <dbl> & <dbl> & <dbl> & <dbl>\\\\\n",
       "\\hline\n",
       "\t1 & 1950 &  8.5 & 11.6 & 11.5 & 11.0 & 15.2 & 18.9 & 20.7 & 19.7 & 17.7 & 15.9 & 13.5 &  8.1\\\\\n",
       "\t2 & 1951 &  9.2 &  8.8 & 10.2 & 11.4 & 12.1 & 16.5 & 18.9 & 18.3 & 18.4 & 14.1 & 11.8 &  9.8\\\\\n",
       "\t3 & 1952 &  7.4 &  7.8 & 13.1 & 12.2 & 15.5 & 18.3 & 19.1 & 19.4 & 15.9 & 15.8 & 11.6 &  9.4\\\\\n",
       "\t4 & 1953 &  6.6 &  6.6 & 11.4 & 13.0 & 15.4 & 15.5 & 18.1 & 19.8 & 17.3 & 14.9 & 13.3 & 13.4\\\\\n",
       "\t5 & 1954 &  8.0 &  6.3 & 10.9 & 13.3 & 13.0 & 15.5 & 16.8 & 18.1 & 17.9 & 17.3 & 13.8 & 10.7\\\\\n",
       "\t6 & 1955 & 12.0 &  9.7 &  9.7 & 12.8 & 14.9 & 17.3 & 20.2 & 21.3 & 18.9 & 14.3 & 12.3 & 12.0\\\\\n",
       "\\end{tabular}\n"
      ],
      "text/markdown": [
       "\n",
       "A data.frame: 6 × 13\n",
       "\n",
       "| <!--/--> | yr &lt;int&gt; | ene &lt;dbl&gt; | feb &lt;dbl&gt; | mar &lt;dbl&gt; | abr &lt;dbl&gt; | may &lt;dbl&gt; | jun &lt;dbl&gt; | jul &lt;dbl&gt; | ago &lt;dbl&gt; | sep &lt;dbl&gt; | oct &lt;dbl&gt; | nov &lt;dbl&gt; | dic &lt;dbl&gt; |\n",
       "|---|---|---|---|---|---|---|---|---|---|---|---|---|---|\n",
       "| 1 | 1950 |  8.5 | 11.6 | 11.5 | 11.0 | 15.2 | 18.9 | 20.7 | 19.7 | 17.7 | 15.9 | 13.5 |  8.1 |\n",
       "| 2 | 1951 |  9.2 |  8.8 | 10.2 | 11.4 | 12.1 | 16.5 | 18.9 | 18.3 | 18.4 | 14.1 | 11.8 |  9.8 |\n",
       "| 3 | 1952 |  7.4 |  7.8 | 13.1 | 12.2 | 15.5 | 18.3 | 19.1 | 19.4 | 15.9 | 15.8 | 11.6 |  9.4 |\n",
       "| 4 | 1953 |  6.6 |  6.6 | 11.4 | 13.0 | 15.4 | 15.5 | 18.1 | 19.8 | 17.3 | 14.9 | 13.3 | 13.4 |\n",
       "| 5 | 1954 |  8.0 |  6.3 | 10.9 | 13.3 | 13.0 | 15.5 | 16.8 | 18.1 | 17.9 | 17.3 | 13.8 | 10.7 |\n",
       "| 6 | 1955 | 12.0 |  9.7 |  9.7 | 12.8 | 14.9 | 17.3 | 20.2 | 21.3 | 18.9 | 14.3 | 12.3 | 12.0 |\n",
       "\n"
      ],
      "text/plain": [
       "  yr   ene  feb  mar  abr  may  jun  jul  ago  sep  oct  nov  dic \n",
       "1 1950  8.5 11.6 11.5 11.0 15.2 18.9 20.7 19.7 17.7 15.9 13.5  8.1\n",
       "2 1951  9.2  8.8 10.2 11.4 12.1 16.5 18.9 18.3 18.4 14.1 11.8  9.8\n",
       "3 1952  7.4  7.8 13.1 12.2 15.5 18.3 19.1 19.4 15.9 15.8 11.6  9.4\n",
       "4 1953  6.6  6.6 11.4 13.0 15.4 15.5 18.1 19.8 17.3 14.9 13.3 13.4\n",
       "5 1954  8.0  6.3 10.9 13.3 13.0 15.5 16.8 18.1 17.9 17.3 13.8 10.7\n",
       "6 1955 12.0  9.7  9.7 12.8 14.9 17.3 20.2 21.3 18.9 14.3 12.3 12.0"
      ]
     },
     "metadata": {},
     "output_type": "display_data"
    }
   ],
   "source": [
    "santander2 <- read.table(\"santander.txt\", header=TRUE); head(santander2)"
   ]
  },
  {
   "cell_type": "markdown",
   "id": "b170ee19-2c04-4bdd-aa83-0593b234cb67",
   "metadata": {},
   "source": [
    "Comparar el resultado de estas dos órdenes. ?`Cuál es la correcta?\n",
    "\n",
    "Vamos a consultar la ayuda de `read.table`():"
   ]
  },
  {
   "cell_type": "code",
   "execution_count": 67,
   "id": "f154e62f-9927-4111-ba77-7ed792b1624e",
   "metadata": {},
   "outputs": [
    {
     "data": {
      "text/html": [
       "\n",
       "<table style=\"width: 100%;\"><tr><td>read.table {utils}</td><td style=\"text-align: right;\">R Documentation</td></tr></table>\n",
       "\n",
       "<h2 id='read.table'>Data Input</h2>\n",
       "\n",
       "<h3>Description</h3>\n",
       "\n",
       "<p>Reads a file in table format and creates a data frame from it, with\n",
       "cases corresponding to lines and variables to fields in the file.\n",
       "</p>\n",
       "\n",
       "\n",
       "<h3>Usage</h3>\n",
       "\n",
       "<pre><code class='language-R'>read.table(file, header = FALSE, sep = \"\", quote = \"\\\"'\",\n",
       "           dec = \".\", numerals = c(\"allow.loss\", \"warn.loss\", \"no.loss\"),\n",
       "           row.names, col.names, as.is = !stringsAsFactors, tryLogical = TRUE,\n",
       "           na.strings = \"NA\", colClasses = NA, nrows = -1,\n",
       "           skip = 0, check.names = TRUE, fill = !blank.lines.skip,\n",
       "           strip.white = FALSE, blank.lines.skip = TRUE,\n",
       "           comment.char = \"#\",\n",
       "           allowEscapes = FALSE, flush = FALSE,\n",
       "           stringsAsFactors = FALSE,\n",
       "           fileEncoding = \"\", encoding = \"unknown\", text, skipNul = FALSE)\n",
       "\n",
       "read.csv(file, header = TRUE, sep = \",\", quote = \"\\\"\",\n",
       "         dec = \".\", fill = TRUE, comment.char = \"\", ...)\n",
       "\n",
       "read.csv2(file, header = TRUE, sep = \";\", quote = \"\\\"\",\n",
       "          dec = \",\", fill = TRUE, comment.char = \"\", ...)\n",
       "\n",
       "read.delim(file, header = TRUE, sep = \"\\t\", quote = \"\\\"\",\n",
       "           dec = \".\", fill = TRUE, comment.char = \"\", ...)\n",
       "\n",
       "read.delim2(file, header = TRUE, sep = \"\\t\", quote = \"\\\"\",\n",
       "            dec = \",\", fill = TRUE, comment.char = \"\", ...)\n",
       "</code></pre>\n",
       "\n",
       "\n",
       "<h3>Arguments</h3>\n",
       "\n",
       "<table>\n",
       "<tr><td><code id=\"read.table_:_file\">file</code></td>\n",
       "<td>\n",
       "<p>the name of the file which the data are to be read from.\n",
       "Each row of the table appears as one line of the file.  If it does\n",
       "not contain an <em>absolute</em> path, the file name is\n",
       "<em>relative</em> to the current working directory,\n",
       "<code>getwd()</code>. Tilde-expansion is performed where supported.\n",
       "This can be a compressed file (see <code>file</code>).\n",
       "</p>\n",
       "<p>Alternatively, <code>file</code> can be a readable text-mode\n",
       "connection (which will be opened for reading if\n",
       "necessary, and if so <code>close</code>d (and hence destroyed) at\n",
       "the end of the function call).  (If <code>stdin()</code> is used,\n",
       "the prompts for lines may be somewhat confusing.  Terminate input\n",
       "with a blank line or an EOF signal, <code>Ctrl-D</code> on Unix and\n",
       "<code>Ctrl-Z</code> on Windows.  Any pushback on <code>stdin()</code> will be\n",
       "cleared before return.)\n",
       "</p>\n",
       "<p><code>file</code> can also be a complete URL.  (For the supported URL\n",
       "schemes, see the &lsquo;URLs&rsquo; section of the help for\n",
       "<code>url</code>.)\n",
       "</p>\n",
       "</td></tr>\n",
       "<tr><td><code id=\"read.table_:_header\">header</code></td>\n",
       "<td>\n",
       "<p>a logical value indicating whether the file contains the\n",
       "names of the variables as its first line.  If missing, the value is\n",
       "determined from the file format: <code>header</code> is set to <code>TRUE</code>\n",
       "if and only if the first row contains one fewer field than the\n",
       "number of columns.</p>\n",
       "</td></tr>\n",
       "<tr><td><code id=\"read.table_:_sep\">sep</code></td>\n",
       "<td>\n",
       "<p>the field separator character.  Values on each line of the\n",
       "file are separated by this character.  If <code>sep = \"\"</code> (the\n",
       "default for <code>read.table</code>) the separator is &lsquo;white space&rsquo;,\n",
       "that is one or more spaces, tabs, newlines or carriage returns.</p>\n",
       "</td></tr>\n",
       "<tr><td><code id=\"read.table_:_quote\">quote</code></td>\n",
       "<td>\n",
       "<p>the set of quoting characters. To disable quoting\n",
       "altogether, use <code>quote = \"\"</code>.  See <code>scan</code> for the\n",
       "behaviour on quotes embedded in quotes.  Quoting is only considered\n",
       "for columns read as character, which is all of them unless\n",
       "<code>colClasses</code> is specified.</p>\n",
       "</td></tr>\n",
       "<tr><td><code id=\"read.table_:_dec\">dec</code></td>\n",
       "<td>\n",
       "<p>the character used in the file for decimal points.</p>\n",
       "</td></tr>\n",
       "<tr><td><code id=\"read.table_:_numerals\">numerals</code></td>\n",
       "<td>\n",
       "<p>string indicating how to convert numbers whose conversion\n",
       "to double precision would lose accuracy, see <code>type.convert</code>.\n",
       "Can be abbreviated.  (Applies also to complex-number inputs.)</p>\n",
       "</td></tr>\n",
       "<tr><td><code id=\"read.table_:_row.names\">row.names</code></td>\n",
       "<td>\n",
       "<p>a vector of row names.  This can be a vector giving\n",
       "the actual row names, or a single number giving the column of the\n",
       "table which contains the row names, or character string giving the\n",
       "name of the table column containing the row names.\n",
       "</p>\n",
       "<p>If there is a header and the first row contains one fewer field than\n",
       "the number of columns, the first column in the input is used for the\n",
       "row names.  Otherwise if <code>row.names</code> is missing, the rows are\n",
       "numbered.\n",
       "</p>\n",
       "<p>Using <code>row.names = NULL</code> forces row numbering. Missing or\n",
       "<code>NULL</code> <code>row.names</code> generate row names that are considered\n",
       "to be &lsquo;automatic&rsquo; (and not preserved by <code>as.matrix</code>).\n",
       "</p>\n",
       "</td></tr>\n",
       "<tr><td><code id=\"read.table_:_col.names\">col.names</code></td>\n",
       "<td>\n",
       "<p>a vector of optional names for the variables.\n",
       "The default is to use <code>\"V\"</code> followed by the column number.</p>\n",
       "</td></tr>\n",
       "<tr><td><code id=\"read.table_:_as.is\">as.is</code></td>\n",
       "<td>\n",
       "<p>controls conversion of character variables (insofar as\n",
       "they are not converted to logical, numeric or complex) to factors,\n",
       "if not otherwise specified by <code>colClasses</code>.\n",
       "Its value is either a vector of logicals (values are recycled if\n",
       "necessary), or a vector of numeric or character indices which\n",
       "specify which columns should not be converted to factors.\n",
       "</p>\n",
       "<p>Note: to suppress all conversions including those of numeric\n",
       "columns, set <code>colClasses = \"character\"</code>.\n",
       "</p>\n",
       "<p>Note that <code>as.is</code> is specified per column (not per\n",
       "variable) and so includes the column of row names (if any) and any\n",
       "columns to be skipped.\n",
       "</p>\n",
       "</td></tr>\n",
       "<tr><td><code id=\"read.table_:_tryLogical\">tryLogical</code></td>\n",
       "<td>\n",
       "<p>a <code>logical</code> determining if columns\n",
       "consisting entirely of <code>\"F\"</code>, <code>\"T\"</code>, <code>\"FALSE\"</code>, and\n",
       "<code>\"TRUE\"</code> should be converted to <code>logical</code>; passed to\n",
       "<code>type.convert</code>, true by default.</p>\n",
       "</td></tr>\n",
       "<tr><td><code id=\"read.table_:_na.strings\">na.strings</code></td>\n",
       "<td>\n",
       "<p>a character vector of strings which are to be\n",
       "interpreted as <code>NA</code> values.  Blank fields are also\n",
       "considered to be missing values in logical, integer, numeric and\n",
       "complex fields.  Note that the test happens <em>after</em>\n",
       "white space is stripped from the input, so <code>na.strings</code>\n",
       "values may need their own white space stripped in advance.</p>\n",
       "</td></tr>\n",
       "<tr><td><code id=\"read.table_:_colClasses\">colClasses</code></td>\n",
       "<td>\n",
       "<p>character.  A vector of classes to be assumed for\n",
       "the columns.  If unnamed, recycled as necessary.  If named, names\n",
       "are matched with unspecified values being taken to be <code>NA</code>.\n",
       "</p>\n",
       "<p>Possible values are <code>NA</code> (the default, when\n",
       "<code>type.convert</code> is used), <code>\"NULL\"</code> (when the column\n",
       "is skipped), one of the atomic vector classes (logical, integer,\n",
       "numeric, complex, character, raw), or <code>\"factor\"</code>, <code>\"Date\"</code>\n",
       "or <code>\"POSIXct\"</code>.  Otherwise there needs to be an <code>as</code>\n",
       "method (from package <span class=\"pkg\">methods</span>) for conversion from\n",
       "<code>\"character\"</code> to the specified formal class.\n",
       "</p>\n",
       "<p>Note that <code>colClasses</code> is specified per column (not per\n",
       "variable) and so includes the column of row names (if any).\n",
       "</p>\n",
       "</td></tr>\n",
       "<tr><td><code id=\"read.table_:_nrows\">nrows</code></td>\n",
       "<td>\n",
       "<p>integer: the maximum number of rows to read in.  Negative\n",
       "and other invalid values are ignored.</p>\n",
       "</td></tr>\n",
       "<tr><td><code id=\"read.table_:_skip\">skip</code></td>\n",
       "<td>\n",
       "<p>integer: the number of lines of the data file to skip before\n",
       "beginning to read data.</p>\n",
       "</td></tr>\n",
       "<tr><td><code id=\"read.table_:_check.names\">check.names</code></td>\n",
       "<td>\n",
       "<p>logical.  If <code>TRUE</code> then the names of the\n",
       "variables in the data frame are checked to ensure that they are\n",
       "syntactically valid variable names.  If necessary they are adjusted\n",
       "(by <code>make.names</code>) so that they are, and also to ensure\n",
       "that there are no duplicates.</p>\n",
       "</td></tr>\n",
       "<tr><td><code id=\"read.table_:_fill\">fill</code></td>\n",
       "<td>\n",
       "<p>logical. If <code>TRUE</code> then in case the rows have unequal\n",
       "length, blank fields are implicitly added.  See &lsquo;Details&rsquo;.</p>\n",
       "</td></tr>\n",
       "<tr><td><code id=\"read.table_:_strip.white\">strip.white</code></td>\n",
       "<td>\n",
       "<p>logical. Used only when <code>sep</code> has\n",
       "been specified, and allows the stripping of leading and trailing\n",
       "white space from unquoted <code>character</code> fields (<code>numeric</code> fields\n",
       "are always stripped).  See <code>scan</code> for further details\n",
       "(including the exact meaning of &lsquo;white space&rsquo;),\n",
       "remembering that the columns may include the row names.</p>\n",
       "</td></tr>\n",
       "<tr><td><code id=\"read.table_:_blank.lines.skip\">blank.lines.skip</code></td>\n",
       "<td>\n",
       "<p>logical: if <code>TRUE</code> blank lines in the\n",
       "input are ignored.</p>\n",
       "</td></tr>\n",
       "<tr><td><code id=\"read.table_:_comment.char\">comment.char</code></td>\n",
       "<td>\n",
       "<p>character: a character vector of length one\n",
       "containing a single character or an empty string.  Use <code>\"\"</code> to\n",
       "turn off the interpretation of comments altogether.</p>\n",
       "</td></tr>\n",
       "<tr><td><code id=\"read.table_:_allowEscapes\">allowEscapes</code></td>\n",
       "<td>\n",
       "<p>logical.  Should C-style escapes such as\n",
       "&lsquo;<span class=\"samp\">&#8288;\\n&#8288;</span>&rsquo; be processed or read verbatim (the default)?   Note that if\n",
       "not within quotes these could be interpreted as a delimiter (but not\n",
       "as a comment character).  For more details see <code>scan</code>.</p>\n",
       "</td></tr>\n",
       "<tr><td><code id=\"read.table_:_flush\">flush</code></td>\n",
       "<td>\n",
       "<p>logical: if <code>TRUE</code>, <code>scan</code> will flush to the\n",
       "end of the line after reading the last of the fields requested.\n",
       "This allows putting comments after the last field.</p>\n",
       "</td></tr>\n",
       "<tr><td><code id=\"read.table_:_stringsAsFactors\">stringsAsFactors</code></td>\n",
       "<td>\n",
       "<p>logical: should character vectors be converted\n",
       "to factors?  Note that this is overridden by <code>as.is</code> and\n",
       "<code>colClasses</code>, both of which allow finer control.</p>\n",
       "</td></tr>\n",
       "<tr><td><code id=\"read.table_:_fileEncoding\">fileEncoding</code></td>\n",
       "<td>\n",
       "<p>character string: if non-empty declares the\n",
       "encoding used on a file (not a connection) so the character data can\n",
       "be re-encoded.  See the &lsquo;Encoding&rsquo; section of the help for\n",
       "<code>file</code>, the &lsquo;R Data Import/Export&rsquo; manual and\n",
       "&lsquo;Note&rsquo;.\n",
       "</p>\n",
       "</td></tr>\n",
       "<tr><td><code id=\"read.table_:_encoding\">encoding</code></td>\n",
       "<td>\n",
       "<p>encoding to be assumed for input strings.  It is\n",
       "used to mark character strings as known to be in\n",
       "Latin-1 or UTF-8 (see <code>Encoding</code>): it is not used to\n",
       "re-encode the input, but allows <span class=\"rlang\"><b>R</b></span> to handle encoded strings in\n",
       "their native encoding (if one of those two).  See &lsquo;Value&rsquo;\n",
       "and &lsquo;Note&rsquo;.\n",
       "</p>\n",
       "</td></tr>\n",
       "<tr><td><code id=\"read.table_:_text\">text</code></td>\n",
       "<td>\n",
       "<p>character string: if <code>file</code> is not supplied and this is,\n",
       "then data are read from the value of <code>text</code> via a text connection.\n",
       "Notice that a literal string can be used to include (small) data sets\n",
       "within R code.\n",
       "</p>\n",
       "</td></tr>\n",
       "<tr><td><code id=\"read.table_:_skipNul\">skipNul</code></td>\n",
       "<td>\n",
       "<p>logical: should nuls be skipped?</p>\n",
       "</td></tr>\n",
       "<tr><td><code id=\"read.table_:_...\">...</code></td>\n",
       "<td>\n",
       "<p>Further arguments to be passed to <code>read.table</code>.</p>\n",
       "</td></tr>\n",
       "</table>\n",
       "\n",
       "\n",
       "<h3>Details</h3>\n",
       "\n",
       "<p>This function is the principal means of reading tabular data into <span class=\"rlang\"><b>R</b></span>.\n",
       "</p>\n",
       "<p>Unless <code>colClasses</code> is specified, all columns are read as\n",
       "character columns and then converted using <code>type.convert</code>\n",
       "to logical, integer, numeric, complex or (depending on <code>as.is</code>)\n",
       "factor as appropriate.  Quotes are (by default) interpreted in all\n",
       "fields, so a column of values like <code>\"42\"</code> will result in an\n",
       "integer column.\n",
       "</p>\n",
       "<p>A field or line is &lsquo;blank&rsquo; if it contains nothing (except\n",
       "whitespace if no separator is specified) before a comment character or\n",
       "the end of the field or line.\n",
       "</p>\n",
       "<p>If <code>row.names</code> is not specified and the header line has one less\n",
       "entry than the number of columns, the first column is taken to be the\n",
       "row names.  This allows data frames to be read in from the format in\n",
       "which they are printed.  If <code>row.names</code> is specified and does\n",
       "not refer to the first column, that column is discarded from such files.\n",
       "</p>\n",
       "<p>The number of data columns is determined by looking at the first five\n",
       "lines of input (or the whole input if it has less than five lines), or\n",
       "from the length of <code>col.names</code> if it is specified and is longer.\n",
       "This could conceivably be wrong if <code>fill</code> or\n",
       "<code>blank.lines.skip</code> are true, so specify <code>col.names</code> if\n",
       "necessary (as in the &lsquo;Examples&rsquo;).\n",
       "</p>\n",
       "<p><code>read.csv</code> and <code>read.csv2</code> are identical to\n",
       "<code>read.table</code> except for the defaults.  They are intended for\n",
       "reading &lsquo;comma separated value&rsquo; files (&lsquo;<span class=\"file\">.csv</span>&rsquo;) or\n",
       "(<code>read.csv2</code>) the variant used in countries that use a comma as\n",
       "decimal point and a semicolon as field separator.  Similarly,\n",
       "<code>read.delim</code> and <code>read.delim2</code> are for reading delimited\n",
       "files, defaulting to the TAB character for the delimiter.  Notice that\n",
       "<code>header = TRUE</code> and <code>fill = TRUE</code> in these variants, and\n",
       "that the comment character is disabled.\n",
       "</p>\n",
       "<p>The rest of the line after a comment character is skipped; quotes\n",
       "are not processed in comments.  Complete comment lines are allowed\n",
       "provided <code>blank.lines.skip = TRUE</code>; however, comment lines prior\n",
       "to the header must have the comment character in the first non-blank\n",
       "column.\n",
       "</p>\n",
       "<p>Quoted fields with embedded newlines are supported except after a\n",
       "comment character.  Embedded nuls are unsupported: skipping them (with\n",
       "<code>skipNul = TRUE</code>) may work.\n",
       "</p>\n",
       "\n",
       "\n",
       "<h3>Value</h3>\n",
       "\n",
       "<p>A data frame (<code>data.frame</code>) containing a representation of\n",
       "the data in the file.\n",
       "</p>\n",
       "<p>Empty input is an error unless <code>col.names</code> is specified, when a\n",
       "0-row data frame is returned: similarly giving just a header line if\n",
       "<code>header = TRUE</code> results in a 0-row data frame.  Note that in\n",
       "either case the columns will be logical unless <code>colClasses</code> was\n",
       "supplied.\n",
       "</p>\n",
       "<p>Character strings in the result (including factor levels) will have a\n",
       "declared encoding if <code>encoding</code> is <code>\"latin1\"</code> or\n",
       "<code>\"UTF-8\"</code>.\n",
       "</p>\n",
       "\n",
       "\n",
       "<h3>CSV files</h3>\n",
       "\n",
       "<p>See the help on <code>write.csv</code> for the various conventions\n",
       "for <code>.csv</code> files.  The commonest form of CSV file with row names\n",
       "needs to be read with <code>read.csv(..., row.names = 1)</code> to use the\n",
       "names in the first column of the file as row names.\n",
       "</p>\n",
       "\n",
       "\n",
       "<h3>Memory usage</h3>\n",
       "\n",
       "<p>These functions can use a surprising amount of memory when reading\n",
       "large files.  There is extensive discussion in the &lsquo;R Data\n",
       "Import/Export&rsquo; manual, supplementing the notes here.\n",
       "</p>\n",
       "<p>Less memory will be used if <code>colClasses</code> is specified as one of\n",
       "the six atomic vector classes.  This can be particularly so when\n",
       "reading a column that takes many distinct numeric values, as storing\n",
       "each distinct value as a character string can take up to 14 times as\n",
       "much memory as storing it as an integer.\n",
       "</p>\n",
       "<p>Using <code>nrows</code>, even as a mild over-estimate, will help memory\n",
       "usage.\n",
       "</p>\n",
       "<p>Using <code>comment.char = \"\"</code> will be appreciably faster than the\n",
       "<code>read.table</code> default.\n",
       "</p>\n",
       "<p><code>read.table</code> is not the right tool for reading large matrices,\n",
       "especially those with many columns: it is designed to read\n",
       "<em>data frames</em> which may have columns of very different classes.\n",
       "Use <code>scan</code> instead for matrices.\n",
       "</p>\n",
       "\n",
       "\n",
       "<h3>Note</h3>\n",
       "\n",
       "<p>The columns referred to in <code>as.is</code> and <code>colClasses</code> include\n",
       "the column of row names (if any).\n",
       "</p>\n",
       "<p>There are two approaches for reading input that is not in the local\n",
       "encoding.  If the input is known to be UTF-8 or Latin1, use the\n",
       "<code>encoding</code> argument to declare that.  If the input is in some\n",
       "other encoding, then it may be translated on input.  The <code>fileEncoding</code>\n",
       "argument achieves this by setting up a connection to do the re-encoding\n",
       "into the current locale.  Note that on Windows or other systems not running\n",
       "in a UTF-8 locale, this may not be possible.\n",
       "</p>\n",
       "\n",
       "\n",
       "<h3>References</h3>\n",
       "\n",
       "<p>Chambers, J. M. (1992)\n",
       "<em>Data for models.</em>\n",
       "Chapter 3 of <em>Statistical Models in S</em>\n",
       "eds J. M. Chambers and T. J. Hastie, Wadsworth &amp; Brooks/Cole.\n",
       "</p>\n",
       "\n",
       "\n",
       "<h3>See Also</h3>\n",
       "\n",
       "<p>The &lsquo;R Data Import/Export&rsquo; manual.\n",
       "</p>\n",
       "<p><code>scan</code>, <code>type.convert</code>,\n",
       "<code>read.fwf</code> for reading <em>f</em>ixed <em>w</em>idth\n",
       "<em>f</em>ormatted input;\n",
       "<code>write.table</code>;\n",
       "<code>data.frame</code>.\n",
       "</p>\n",
       "<p><code>count.fields</code> can be useful to determine problems with\n",
       "reading files which result in reports of incorrect record lengths (see\n",
       "the &lsquo;Examples&rsquo; below).\n",
       "</p>\n",
       "<p><a href=\"https://www.rfc-editor.org/rfc/rfc4180\">https://www.rfc-editor.org/rfc/rfc4180</a> for the IANA definition of\n",
       "CSV files (which requires comma as separator and CRLF line endings).\n",
       "</p>\n",
       "\n",
       "\n",
       "<h3>Examples</h3>\n",
       "\n",
       "<pre><code class='language-R'>## using count.fields to handle unknown maximum number of fields\n",
       "## when fill = TRUE\n",
       "test1 &lt;- c(1:5, \"6,7\", \"8,9,10\")\n",
       "tf &lt;- tempfile()\n",
       "writeLines(test1, tf)\n",
       "\n",
       "read.csv(tf, fill = TRUE) # 1 column\n",
       "ncol &lt;- max(count.fields(tf, sep = \",\"))\n",
       "read.csv(tf, fill = TRUE, header = FALSE,\n",
       "         col.names = paste0(\"V\", seq_len(ncol)))\n",
       "unlink(tf)\n",
       "\n",
       "## \"Inline\" data set, using text=\n",
       "## Notice that leading and trailing empty lines are auto-trimmed\n",
       "\n",
       "read.table(header = TRUE, text = \"\n",
       "a b\n",
       "1 2\n",
       "3 4\n",
       "\")\n",
       "</code></pre>\n",
       "\n",
       "<hr /><div style=\"text-align: center;\">[Package <em>utils</em> version 4.3.3 ]</div>\n",
       "</div>"
      ],
      "text/latex": [
       "\\inputencoding{utf8}\n",
       "\\HeaderA{read.table}{Data Input}{read.table}\n",
       "\\aliasA{read.csv}{read.table}{read.csv}\n",
       "\\aliasA{read.csv2}{read.table}{read.csv2}\n",
       "\\aliasA{read.delim}{read.table}{read.delim}\n",
       "\\aliasA{read.delim2}{read.table}{read.delim2}\n",
       "\\keyword{file}{read.table}\n",
       "\\keyword{connection}{read.table}\n",
       "%\n",
       "\\begin{Description}\n",
       "Reads a file in table format and creates a data frame from it, with\n",
       "cases corresponding to lines and variables to fields in the file.\n",
       "\\end{Description}\n",
       "%\n",
       "\\begin{Usage}\n",
       "\\begin{verbatim}\n",
       "read.table(file, header = FALSE, sep = \"\", quote = \"\\\"'\",\n",
       "           dec = \".\", numerals = c(\"allow.loss\", \"warn.loss\", \"no.loss\"),\n",
       "           row.names, col.names, as.is = !stringsAsFactors, tryLogical = TRUE,\n",
       "           na.strings = \"NA\", colClasses = NA, nrows = -1,\n",
       "           skip = 0, check.names = TRUE, fill = !blank.lines.skip,\n",
       "           strip.white = FALSE, blank.lines.skip = TRUE,\n",
       "           comment.char = \"#\",\n",
       "           allowEscapes = FALSE, flush = FALSE,\n",
       "           stringsAsFactors = FALSE,\n",
       "           fileEncoding = \"\", encoding = \"unknown\", text, skipNul = FALSE)\n",
       "\n",
       "read.csv(file, header = TRUE, sep = \",\", quote = \"\\\"\",\n",
       "         dec = \".\", fill = TRUE, comment.char = \"\", ...)\n",
       "\n",
       "read.csv2(file, header = TRUE, sep = \";\", quote = \"\\\"\",\n",
       "          dec = \",\", fill = TRUE, comment.char = \"\", ...)\n",
       "\n",
       "read.delim(file, header = TRUE, sep = \"\\t\", quote = \"\\\"\",\n",
       "           dec = \".\", fill = TRUE, comment.char = \"\", ...)\n",
       "\n",
       "read.delim2(file, header = TRUE, sep = \"\\t\", quote = \"\\\"\",\n",
       "            dec = \",\", fill = TRUE, comment.char = \"\", ...)\n",
       "\\end{verbatim}\n",
       "\\end{Usage}\n",
       "%\n",
       "\\begin{Arguments}\n",
       "\\begin{ldescription}\n",
       "\\item[\\code{file}] the name of the file which the data are to be read from.\n",
       "Each row of the table appears as one line of the file.  If it does\n",
       "not contain an \\emph{absolute} path, the file name is\n",
       "\\emph{relative} to the current working directory,\n",
       "\\code{\\LinkA{getwd}{getwd}()}. Tilde-expansion is performed where supported.\n",
       "This can be a compressed file (see \\code{\\LinkA{file}{file}}).\n",
       "\n",
       "Alternatively, \\code{file} can be a readable text-mode\n",
       "\\LinkA{connection}{connection} (which will be opened for reading if\n",
       "necessary, and if so \\code{\\LinkA{close}{close}}d (and hence destroyed) at\n",
       "the end of the function call).  (If \\code{\\LinkA{stdin}{stdin}()} is used,\n",
       "the prompts for lines may be somewhat confusing.  Terminate input\n",
       "with a blank line or an EOF signal, \\code{Ctrl-D} on Unix and\n",
       "\\code{Ctrl-Z} on Windows.  Any pushback on \\code{stdin()} will be\n",
       "cleared before return.)\n",
       "\n",
       "\\code{file} can also be a complete URL.  (For the supported URL\n",
       "schemes, see the `URLs' section of the help for\n",
       "\\code{\\LinkA{url}{url}}.)\n",
       "\n",
       "\n",
       "\\item[\\code{header}] a logical value indicating whether the file contains the\n",
       "names of the variables as its first line.  If missing, the value is\n",
       "determined from the file format: \\code{header} is set to \\code{TRUE}\n",
       "if and only if the first row contains one fewer field than the\n",
       "number of columns.\n",
       "\n",
       "\\item[\\code{sep}] the field separator character.  Values on each line of the\n",
       "file are separated by this character.  If \\code{sep = \"\"} (the\n",
       "default for \\code{read.table}) the separator is `white space',\n",
       "that is one or more spaces, tabs, newlines or carriage returns.\n",
       "\n",
       "\\item[\\code{quote}] the set of quoting characters. To disable quoting\n",
       "altogether, use \\code{quote = \"\"}.  See \\code{\\LinkA{scan}{scan}} for the\n",
       "behaviour on quotes embedded in quotes.  Quoting is only considered\n",
       "for columns read as character, which is all of them unless\n",
       "\\code{colClasses} is specified.\n",
       "\n",
       "\\item[\\code{dec}] the character used in the file for decimal points.\n",
       "\n",
       "\\item[\\code{numerals}] string indicating how to convert numbers whose conversion\n",
       "to double precision would lose accuracy, see \\code{\\LinkA{type.convert}{type.convert}}.\n",
       "Can be abbreviated.  (Applies also to complex-number inputs.)\n",
       "\n",
       "\\item[\\code{row.names}] a vector of row names.  This can be a vector giving\n",
       "the actual row names, or a single number giving the column of the\n",
       "table which contains the row names, or character string giving the\n",
       "name of the table column containing the row names.\n",
       "\n",
       "If there is a header and the first row contains one fewer field than\n",
       "the number of columns, the first column in the input is used for the\n",
       "row names.  Otherwise if \\code{row.names} is missing, the rows are\n",
       "numbered.\n",
       "\n",
       "Using \\code{row.names = NULL} forces row numbering. Missing or\n",
       "\\code{NULL} \\code{row.names} generate row names that are considered\n",
       "to be `automatic' (and not preserved by \\code{\\LinkA{as.matrix}{as.matrix}}).\n",
       "\n",
       "\n",
       "\\item[\\code{col.names}] a vector of optional names for the variables.\n",
       "The default is to use \\code{\"V\"} followed by the column number.\n",
       "\n",
       "\\item[\\code{as.is}] controls conversion of character variables (insofar as\n",
       "they are not converted to logical, numeric or complex) to factors,\n",
       "if not otherwise specified by \\code{colClasses}.\n",
       "Its value is either a vector of logicals (values are recycled if\n",
       "necessary), or a vector of numeric or character indices which\n",
       "specify which columns should not be converted to factors.\n",
       "\n",
       "Note: to suppress all conversions including those of numeric\n",
       "columns, set \\code{colClasses = \"character\"}.\n",
       "\n",
       "Note that \\code{as.is} is specified per column (not per\n",
       "variable) and so includes the column of row names (if any) and any\n",
       "columns to be skipped.\n",
       "\n",
       "\n",
       "\\item[\\code{tryLogical}] a \\code{\\LinkA{logical}{logical}} determining if columns\n",
       "consisting entirely of \\code{\"F\"}, \\code{\"T\"}, \\code{\"FALSE\"}, and\n",
       "\\code{\"TRUE\"} should be converted to \\code{\\LinkA{logical}{logical}}; passed to\n",
       "\\code{\\LinkA{type.convert}{type.convert}}, true by default.\n",
       "\n",
       "\\item[\\code{na.strings}] a character vector of strings which are to be\n",
       "interpreted as \\code{\\LinkA{NA}{NA}} values.  Blank fields are also\n",
       "considered to be missing values in logical, integer, numeric and\n",
       "complex fields.  Note that the test happens \\emph{after}\n",
       "white space is stripped from the input, so \\code{na.strings}\n",
       "values may need their own white space stripped in advance.\n",
       "\n",
       "\\item[\\code{colClasses}] character.  A vector of classes to be assumed for\n",
       "the columns.  If unnamed, recycled as necessary.  If named, names\n",
       "are matched with unspecified values being taken to be \\code{NA}.\n",
       "\n",
       "Possible values are \\code{NA} (the default, when\n",
       "\\code{\\LinkA{type.convert}{type.convert}} is used), \\code{\"NULL\"} (when the column\n",
       "is skipped), one of the atomic vector classes (logical, integer,\n",
       "numeric, complex, character, raw), or \\code{\"factor\"}, \\code{\"Date\"}\n",
       "or \\code{\"POSIXct\"}.  Otherwise there needs to be an \\code{as}\n",
       "method (from package \\pkg{methods}) for conversion from\n",
       "\\code{\"character\"} to the specified formal class.\n",
       "\n",
       "Note that \\code{colClasses} is specified per column (not per\n",
       "variable) and so includes the column of row names (if any).\n",
       "\n",
       "\n",
       "\\item[\\code{nrows}] integer: the maximum number of rows to read in.  Negative\n",
       "and other invalid values are ignored.\n",
       "\n",
       "\\item[\\code{skip}] integer: the number of lines of the data file to skip before\n",
       "beginning to read data.\n",
       "\n",
       "\\item[\\code{check.names}] logical.  If \\code{TRUE} then the names of the\n",
       "variables in the data frame are checked to ensure that they are\n",
       "syntactically valid variable names.  If necessary they are adjusted\n",
       "(by \\code{\\LinkA{make.names}{make.names}}) so that they are, and also to ensure\n",
       "that there are no duplicates.\n",
       "\n",
       "\\item[\\code{fill}] logical. If \\code{TRUE} then in case the rows have unequal\n",
       "length, blank fields are implicitly added.  See `Details'.\n",
       "\n",
       "\\item[\\code{strip.white}] logical. Used only when \\code{sep} has\n",
       "been specified, and allows the stripping of leading and trailing\n",
       "white space from unquoted \\code{character} fields (\\code{numeric} fields\n",
       "are always stripped).  See \\code{\\LinkA{scan}{scan}} for further details\n",
       "(including the exact meaning of `white space'),\n",
       "remembering that the columns may include the row names.\n",
       "\n",
       "\\item[\\code{blank.lines.skip}] logical: if \\code{TRUE} blank lines in the\n",
       "input are ignored.\n",
       "\n",
       "\\item[\\code{comment.char}] character: a character vector of length one\n",
       "containing a single character or an empty string.  Use \\code{\"\"} to\n",
       "turn off the interpretation of comments altogether.\n",
       "\n",
       "\\item[\\code{allowEscapes}] logical.  Should C-style escapes such as\n",
       "\\samp{\\bsl{}n} be processed or read verbatim (the default)?   Note that if\n",
       "not within quotes these could be interpreted as a delimiter (but not\n",
       "as a comment character).  For more details see \\code{\\LinkA{scan}{scan}}.\n",
       "\n",
       "\\item[\\code{flush}] logical: if \\code{TRUE}, \\code{scan} will flush to the\n",
       "end of the line after reading the last of the fields requested.\n",
       "This allows putting comments after the last field.\n",
       "\n",
       "\\item[\\code{stringsAsFactors}] logical: should character vectors be converted\n",
       "to factors?  Note that this is overridden by \\code{as.is} and\n",
       "\\code{colClasses}, both of which allow finer control.\n",
       "\n",
       "\\item[\\code{fileEncoding}] character string: if non-empty declares the\n",
       "encoding used on a file (not a connection) so the character data can\n",
       "be re-encoded.  See the `Encoding' section of the help for\n",
       "\\code{\\LinkA{file}{file}}, the `R Data Import/Export' manual and\n",
       "`Note'.\n",
       "\n",
       "\n",
       "\\item[\\code{encoding}] encoding to be assumed for input strings.  It is\n",
       "used to mark character strings as known to be in\n",
       "Latin-1 or UTF-8 (see \\code{\\LinkA{Encoding}{Encoding}}): it is not used to\n",
       "re-encode the input, but allows \\R{} to handle encoded strings in\n",
       "their native encoding (if one of those two).  See `Value'\n",
       "and `Note'.\n",
       "\n",
       "\n",
       "\\item[\\code{text}] character string: if \\code{file} is not supplied and this is,\n",
       "then data are read from the value of \\code{text} via a text connection.\n",
       "Notice that a literal string can be used to include (small) data sets\n",
       "within R code.\n",
       "\n",
       "\n",
       "\\item[\\code{skipNul}] logical: should nuls be skipped?\n",
       "\n",
       "\\item[\\code{...}] Further arguments to be passed to \\code{read.table}.\n",
       "\\end{ldescription}\n",
       "\\end{Arguments}\n",
       "%\n",
       "\\begin{Details}\n",
       "This function is the principal means of reading tabular data into \\R{}.\n",
       "\n",
       "Unless \\code{colClasses} is specified, all columns are read as\n",
       "character columns and then converted using \\code{\\LinkA{type.convert}{type.convert}}\n",
       "to logical, integer, numeric, complex or (depending on \\code{as.is})\n",
       "factor as appropriate.  Quotes are (by default) interpreted in all\n",
       "fields, so a column of values like \\code{\"42\"} will result in an\n",
       "integer column.\n",
       "\n",
       "A field or line is `blank' if it contains nothing (except\n",
       "whitespace if no separator is specified) before a comment character or\n",
       "the end of the field or line.\n",
       "\n",
       "If \\code{row.names} is not specified and the header line has one less\n",
       "entry than the number of columns, the first column is taken to be the\n",
       "row names.  This allows data frames to be read in from the format in\n",
       "which they are printed.  If \\code{row.names} is specified and does\n",
       "not refer to the first column, that column is discarded from such files.\n",
       "\n",
       "The number of data columns is determined by looking at the first five\n",
       "lines of input (or the whole input if it has less than five lines), or\n",
       "from the length of \\code{col.names} if it is specified and is longer.\n",
       "This could conceivably be wrong if \\code{fill} or\n",
       "\\code{blank.lines.skip} are true, so specify \\code{col.names} if\n",
       "necessary (as in the `Examples').\n",
       "\n",
       "\\code{read.csv} and \\code{read.csv2} are identical to\n",
       "\\code{read.table} except for the defaults.  They are intended for\n",
       "reading `comma separated value' files (\\file{.csv}) or\n",
       "(\\code{read.csv2}) the variant used in countries that use a comma as\n",
       "decimal point and a semicolon as field separator.  Similarly,\n",
       "\\code{read.delim} and \\code{read.delim2} are for reading delimited\n",
       "files, defaulting to the TAB character for the delimiter.  Notice that\n",
       "\\code{header = TRUE} and \\code{fill = TRUE} in these variants, and\n",
       "that the comment character is disabled.\n",
       "\n",
       "The rest of the line after a comment character is skipped; quotes\n",
       "are not processed in comments.  Complete comment lines are allowed\n",
       "provided \\code{blank.lines.skip = TRUE}; however, comment lines prior\n",
       "to the header must have the comment character in the first non-blank\n",
       "column.\n",
       "\n",
       "Quoted fields with embedded newlines are supported except after a\n",
       "comment character.  Embedded nuls are unsupported: skipping them (with\n",
       "\\code{skipNul = TRUE}) may work.\n",
       "\\end{Details}\n",
       "%\n",
       "\\begin{Value}\n",
       "A data frame (\\code{\\LinkA{data.frame}{data.frame}}) containing a representation of\n",
       "the data in the file.\n",
       "\n",
       "Empty input is an error unless \\code{col.names} is specified, when a\n",
       "0-row data frame is returned: similarly giving just a header line if\n",
       "\\code{header = TRUE} results in a 0-row data frame.  Note that in\n",
       "either case the columns will be logical unless \\code{colClasses} was\n",
       "supplied.\n",
       "\n",
       "Character strings in the result (including factor levels) will have a\n",
       "declared encoding if \\code{encoding} is \\code{\"latin1\"} or\n",
       "\\code{\"UTF-8\"}.\n",
       "\\end{Value}\n",
       "%\n",
       "\\begin{Section}{CSV files}\n",
       "See the help on \\code{\\LinkA{write.csv}{write.csv}} for the various conventions\n",
       "for \\code{.csv} files.  The commonest form of CSV file with row names\n",
       "needs to be read with \\code{read.csv(..., row.names = 1)} to use the\n",
       "names in the first column of the file as row names.\n",
       "\\end{Section}\n",
       "%\n",
       "\\begin{Section}{Memory usage}\n",
       "These functions can use a surprising amount of memory when reading\n",
       "large files.  There is extensive discussion in the `R Data\n",
       "Import/Export' manual, supplementing the notes here.\n",
       "\n",
       "Less memory will be used if \\code{colClasses} is specified as one of\n",
       "the six \\LinkA{atomic}{atomic} vector classes.  This can be particularly so when\n",
       "reading a column that takes many distinct numeric values, as storing\n",
       "each distinct value as a character string can take up to 14 times as\n",
       "much memory as storing it as an integer.\n",
       "\n",
       "Using \\code{nrows}, even as a mild over-estimate, will help memory\n",
       "usage.\n",
       "\n",
       "Using \\code{comment.char = \"\"} will be appreciably faster than the\n",
       "\\code{read.table} default.\n",
       "\n",
       "\\code{read.table} is not the right tool for reading large matrices,\n",
       "especially those with many columns: it is designed to read\n",
       "\\emph{data frames} which may have columns of very different classes.\n",
       "Use \\code{\\LinkA{scan}{scan}} instead for matrices.\n",
       "\\end{Section}\n",
       "%\n",
       "\\begin{Note}\n",
       "The columns referred to in \\code{as.is} and \\code{colClasses} include\n",
       "the column of row names (if any).\n",
       "\n",
       "There are two approaches for reading input that is not in the local\n",
       "encoding.  If the input is known to be UTF-8 or Latin1, use the\n",
       "\\code{encoding} argument to declare that.  If the input is in some\n",
       "other encoding, then it may be translated on input.  The \\code{fileEncoding}\n",
       "argument achieves this by setting up a connection to do the re-encoding\n",
       "into the current locale.  Note that on Windows or other systems not running\n",
       "in a UTF-8 locale, this may not be possible.\n",
       "\\end{Note}\n",
       "%\n",
       "\\begin{References}\n",
       "Chambers, J. M. (1992)\n",
       "\\emph{Data for models.}\n",
       "Chapter 3 of \\emph{Statistical Models in S}\n",
       "eds J. M. Chambers and T. J. Hastie, Wadsworth \\& Brooks/Cole.\n",
       "\\end{References}\n",
       "%\n",
       "\\begin{SeeAlso}\n",
       "The `R Data Import/Export' manual.\n",
       "\n",
       "\\code{\\LinkA{scan}{scan}}, \\code{\\LinkA{type.convert}{type.convert}},\n",
       "\\code{\\LinkA{read.fwf}{read.fwf}} for reading \\emph{f}ixed \\emph{w}idth\n",
       "\\emph{f}ormatted input;\n",
       "\\code{\\LinkA{write.table}{write.table}};\n",
       "\\code{\\LinkA{data.frame}{data.frame}}.\n",
       "\n",
       "\\code{\\LinkA{count.fields}{count.fields}} can be useful to determine problems with\n",
       "reading files which result in reports of incorrect record lengths (see\n",
       "the `Examples' below).\n",
       "\n",
       "\\url{https://www.rfc-editor.org/rfc/rfc4180} for the IANA definition of\n",
       "CSV files (which requires comma as separator and CRLF line endings).\n",
       "\\end{SeeAlso}\n",
       "%\n",
       "\\begin{Examples}\n",
       "\\begin{ExampleCode}\n",
       "## using count.fields to handle unknown maximum number of fields\n",
       "## when fill = TRUE\n",
       "test1 <- c(1:5, \"6,7\", \"8,9,10\")\n",
       "tf <- tempfile()\n",
       "writeLines(test1, tf)\n",
       "\n",
       "read.csv(tf, fill = TRUE) # 1 column\n",
       "ncol <- max(count.fields(tf, sep = \",\"))\n",
       "read.csv(tf, fill = TRUE, header = FALSE,\n",
       "         col.names = paste0(\"V\", seq_len(ncol)))\n",
       "unlink(tf)\n",
       "\n",
       "## \"Inline\" data set, using text=\n",
       "## Notice that leading and trailing empty lines are auto-trimmed\n",
       "\n",
       "read.table(header = TRUE, text = \"\n",
       "a b\n",
       "1 2\n",
       "3 4\n",
       "\")\n",
       "\\end{ExampleCode}\n",
       "\\end{Examples}"
      ],
      "text/plain": [
       "read.table                package:utils                R Documentation\n",
       "\n",
       "_\bD_\ba_\bt_\ba _\bI_\bn_\bp_\bu_\bt\n",
       "\n",
       "_\bD_\be_\bs_\bc_\br_\bi_\bp_\bt_\bi_\bo_\bn:\n",
       "\n",
       "     Reads a file in table format and creates a data frame from it,\n",
       "     with cases corresponding to lines and variables to fields in the\n",
       "     file.\n",
       "\n",
       "_\bU_\bs_\ba_\bg_\be:\n",
       "\n",
       "     read.table(file, header = FALSE, sep = \"\", quote = \"\\\"'\",\n",
       "                dec = \".\", numerals = c(\"allow.loss\", \"warn.loss\", \"no.loss\"),\n",
       "                row.names, col.names, as.is = !stringsAsFactors, tryLogical = TRUE,\n",
       "                na.strings = \"NA\", colClasses = NA, nrows = -1,\n",
       "                skip = 0, check.names = TRUE, fill = !blank.lines.skip,\n",
       "                strip.white = FALSE, blank.lines.skip = TRUE,\n",
       "                comment.char = \"#\",\n",
       "                allowEscapes = FALSE, flush = FALSE,\n",
       "                stringsAsFactors = FALSE,\n",
       "                fileEncoding = \"\", encoding = \"unknown\", text, skipNul = FALSE)\n",
       "     \n",
       "     read.csv(file, header = TRUE, sep = \",\", quote = \"\\\"\",\n",
       "              dec = \".\", fill = TRUE, comment.char = \"\", ...)\n",
       "     \n",
       "     read.csv2(file, header = TRUE, sep = \";\", quote = \"\\\"\",\n",
       "               dec = \",\", fill = TRUE, comment.char = \"\", ...)\n",
       "     \n",
       "     read.delim(file, header = TRUE, sep = \"\\t\", quote = \"\\\"\",\n",
       "                dec = \".\", fill = TRUE, comment.char = \"\", ...)\n",
       "     \n",
       "     read.delim2(file, header = TRUE, sep = \"\\t\", quote = \"\\\"\",\n",
       "                 dec = \",\", fill = TRUE, comment.char = \"\", ...)\n",
       "     \n",
       "_\bA_\br_\bg_\bu_\bm_\be_\bn_\bt_\bs:\n",
       "\n",
       "    file: the name of the file which the data are to be read from.\n",
       "          Each row of the table appears as one line of the file.  If it\n",
       "          does not contain an _absolute_ path, the file name is\n",
       "          _relative_ to the current working directory, ‘getwd()’.\n",
       "          Tilde-expansion is performed where supported.  This can be a\n",
       "          compressed file (see ‘file’).\n",
       "\n",
       "          Alternatively, ‘file’ can be a readable text-mode connection\n",
       "          (which will be opened for reading if necessary, and if so\n",
       "          ‘close’d (and hence destroyed) at the end of the function\n",
       "          call).  (If ‘stdin()’ is used, the prompts for lines may be\n",
       "          somewhat confusing.  Terminate input with a blank line or an\n",
       "          EOF signal, ‘Ctrl-D’ on Unix and ‘Ctrl-Z’ on Windows.  Any\n",
       "          pushback on ‘stdin()’ will be cleared before return.)\n",
       "\n",
       "          ‘file’ can also be a complete URL.  (For the supported URL\n",
       "          schemes, see the ‘URLs’ section of the help for ‘url’.)\n",
       "\n",
       "  header: a logical value indicating whether the file contains the\n",
       "          names of the variables as its first line.  If missing, the\n",
       "          value is determined from the file format: ‘header’ is set to\n",
       "          ‘TRUE’ if and only if the first row contains one fewer field\n",
       "          than the number of columns.\n",
       "\n",
       "     sep: the field separator character.  Values on each line of the\n",
       "          file are separated by this character.  If ‘sep = \"\"’ (the\n",
       "          default for ‘read.table’) the separator is ‘white space’,\n",
       "          that is one or more spaces, tabs, newlines or carriage\n",
       "          returns.\n",
       "\n",
       "   quote: the set of quoting characters. To disable quoting altogether,\n",
       "          use ‘quote = \"\"’.  See ‘scan’ for the behaviour on quotes\n",
       "          embedded in quotes.  Quoting is only considered for columns\n",
       "          read as character, which is all of them unless ‘colClasses’\n",
       "          is specified.\n",
       "\n",
       "     dec: the character used in the file for decimal points.\n",
       "\n",
       "numerals: string indicating how to convert numbers whose conversion to\n",
       "          double precision would lose accuracy, see ‘type.convert’.\n",
       "          Can be abbreviated.  (Applies also to complex-number inputs.)\n",
       "\n",
       "row.names: a vector of row names.  This can be a vector giving the\n",
       "          actual row names, or a single number giving the column of the\n",
       "          table which contains the row names, or character string\n",
       "          giving the name of the table column containing the row names.\n",
       "\n",
       "          If there is a header and the first row contains one fewer\n",
       "          field than the number of columns, the first column in the\n",
       "          input is used for the row names.  Otherwise if ‘row.names’ is\n",
       "          missing, the rows are numbered.\n",
       "\n",
       "          Using ‘row.names = NULL’ forces row numbering. Missing or\n",
       "          ‘NULL’ ‘row.names’ generate row names that are considered to\n",
       "          be ‘automatic’ (and not preserved by ‘as.matrix’).\n",
       "\n",
       "col.names: a vector of optional names for the variables.  The default\n",
       "          is to use ‘\"V\"’ followed by the column number.\n",
       "\n",
       "   as.is: controls conversion of character variables (insofar as they\n",
       "          are not converted to logical, numeric or complex) to factors,\n",
       "          if not otherwise specified by ‘colClasses’.  Its value is\n",
       "          either a vector of logicals (values are recycled if\n",
       "          necessary), or a vector of numeric or character indices which\n",
       "          specify which columns should not be converted to factors.\n",
       "\n",
       "          Note: to suppress all conversions including those of numeric\n",
       "          columns, set ‘colClasses = \"character\"’.\n",
       "\n",
       "          Note that ‘as.is’ is specified per column (not per variable)\n",
       "          and so includes the column of row names (if any) and any\n",
       "          columns to be skipped.\n",
       "\n",
       "tryLogical: a ‘logical’ determining if columns consisting entirely of\n",
       "          ‘\"F\"’, ‘\"T\"’, ‘\"FALSE\"’, and ‘\"TRUE\"’ should be converted to\n",
       "          ‘logical’; passed to ‘type.convert’, true by default.\n",
       "\n",
       "na.strings: a character vector of strings which are to be interpreted\n",
       "          as ‘NA’ values.  Blank fields are also considered to be\n",
       "          missing values in logical, integer, numeric and complex\n",
       "          fields.  Note that the test happens _after_ white space is\n",
       "          stripped from the input, so ‘na.strings’ values may need\n",
       "          their own white space stripped in advance.\n",
       "\n",
       "colClasses: character.  A vector of classes to be assumed for the\n",
       "          columns.  If unnamed, recycled as necessary.  If named, names\n",
       "          are matched with unspecified values being taken to be ‘NA’.\n",
       "\n",
       "          Possible values are ‘NA’ (the default, when ‘type.convert’ is\n",
       "          used), ‘\"NULL\"’ (when the column is skipped), one of the\n",
       "          atomic vector classes (logical, integer, numeric, complex,\n",
       "          character, raw), or ‘\"factor\"’, ‘\"Date\"’ or ‘\"POSIXct\"’.\n",
       "          Otherwise there needs to be an ‘as’ method (from package\n",
       "          ‘methods’) for conversion from ‘\"character\"’ to the specified\n",
       "          formal class.\n",
       "\n",
       "          Note that ‘colClasses’ is specified per column (not per\n",
       "          variable) and so includes the column of row names (if any).\n",
       "\n",
       "   nrows: integer: the maximum number of rows to read in.  Negative and\n",
       "          other invalid values are ignored.\n",
       "\n",
       "    skip: integer: the number of lines of the data file to skip before\n",
       "          beginning to read data.\n",
       "\n",
       "check.names: logical.  If ‘TRUE’ then the names of the variables in the\n",
       "          data frame are checked to ensure that they are syntactically\n",
       "          valid variable names.  If necessary they are adjusted (by\n",
       "          ‘make.names’) so that they are, and also to ensure that there\n",
       "          are no duplicates.\n",
       "\n",
       "    fill: logical. If ‘TRUE’ then in case the rows have unequal length,\n",
       "          blank fields are implicitly added.  See ‘Details’.\n",
       "\n",
       "strip.white: logical. Used only when ‘sep’ has been specified, and\n",
       "          allows the stripping of leading and trailing white space from\n",
       "          unquoted ‘character’ fields (‘numeric’ fields are always\n",
       "          stripped).  See ‘scan’ for further details (including the\n",
       "          exact meaning of ‘white space’), remembering that the columns\n",
       "          may include the row names.\n",
       "\n",
       "blank.lines.skip: logical: if ‘TRUE’ blank lines in the input are\n",
       "          ignored.\n",
       "\n",
       "comment.char: character: a character vector of length one containing a\n",
       "          single character or an empty string.  Use ‘\"\"’ to turn off\n",
       "          the interpretation of comments altogether.\n",
       "\n",
       "allowEscapes: logical.  Should C-style escapes such as ‘\\n’ be\n",
       "          processed or read verbatim (the default)?  Note that if not\n",
       "          within quotes these could be interpreted as a delimiter (but\n",
       "          not as a comment character).  For more details see ‘scan’.\n",
       "\n",
       "   flush: logical: if ‘TRUE’, ‘scan’ will flush to the end of the line\n",
       "          after reading the last of the fields requested.  This allows\n",
       "          putting comments after the last field.\n",
       "\n",
       "stringsAsFactors: logical: should character vectors be converted to\n",
       "          factors?  Note that this is overridden by ‘as.is’ and\n",
       "          ‘colClasses’, both of which allow finer control.\n",
       "\n",
       "fileEncoding: character string: if non-empty declares the encoding used\n",
       "          on a file (not a connection) so the character data can be\n",
       "          re-encoded.  See the ‘Encoding’ section of the help for\n",
       "          ‘file’, the ‘R Data Import/Export’ manual and ‘Note’.\n",
       "\n",
       "encoding: encoding to be assumed for input strings.  It is used to mark\n",
       "          character strings as known to be in Latin-1 or UTF-8 (see\n",
       "          ‘Encoding’): it is not used to re-encode the input, but\n",
       "          allows R to handle encoded strings in their native encoding\n",
       "          (if one of those two).  See ‘Value’ and ‘Note’.\n",
       "\n",
       "    text: character string: if ‘file’ is not supplied and this is, then\n",
       "          data are read from the value of ‘text’ via a text connection.\n",
       "          Notice that a literal string can be used to include (small)\n",
       "          data sets within R code.\n",
       "\n",
       " skipNul: logical: should nuls be skipped?\n",
       "\n",
       "     ...: Further arguments to be passed to ‘read.table’.\n",
       "\n",
       "_\bD_\be_\bt_\ba_\bi_\bl_\bs:\n",
       "\n",
       "     This function is the principal means of reading tabular data into\n",
       "     R.\n",
       "\n",
       "     Unless ‘colClasses’ is specified, all columns are read as\n",
       "     character columns and then converted using ‘type.convert’ to\n",
       "     logical, integer, numeric, complex or (depending on ‘as.is’)\n",
       "     factor as appropriate.  Quotes are (by default) interpreted in all\n",
       "     fields, so a column of values like ‘\"42\"’ will result in an\n",
       "     integer column.\n",
       "\n",
       "     A field or line is ‘blank’ if it contains nothing (except\n",
       "     whitespace if no separator is specified) before a comment\n",
       "     character or the end of the field or line.\n",
       "\n",
       "     If ‘row.names’ is not specified and the header line has one less\n",
       "     entry than the number of columns, the first column is taken to be\n",
       "     the row names.  This allows data frames to be read in from the\n",
       "     format in which they are printed.  If ‘row.names’ is specified and\n",
       "     does not refer to the first column, that column is discarded from\n",
       "     such files.\n",
       "\n",
       "     The number of data columns is determined by looking at the first\n",
       "     five lines of input (or the whole input if it has less than five\n",
       "     lines), or from the length of ‘col.names’ if it is specified and\n",
       "     is longer.  This could conceivably be wrong if ‘fill’ or\n",
       "     ‘blank.lines.skip’ are true, so specify ‘col.names’ if necessary\n",
       "     (as in the ‘Examples’).\n",
       "\n",
       "     ‘read.csv’ and ‘read.csv2’ are identical to ‘read.table’ except\n",
       "     for the defaults.  They are intended for reading ‘comma separated\n",
       "     value’ files (‘.csv’) or (‘read.csv2’) the variant used in\n",
       "     countries that use a comma as decimal point and a semicolon as\n",
       "     field separator.  Similarly, ‘read.delim’ and ‘read.delim2’ are\n",
       "     for reading delimited files, defaulting to the TAB character for\n",
       "     the delimiter.  Notice that ‘header = TRUE’ and ‘fill = TRUE’ in\n",
       "     these variants, and that the comment character is disabled.\n",
       "\n",
       "     The rest of the line after a comment character is skipped; quotes\n",
       "     are not processed in comments.  Complete comment lines are allowed\n",
       "     provided ‘blank.lines.skip = TRUE’; however, comment lines prior\n",
       "     to the header must have the comment character in the first\n",
       "     non-blank column.\n",
       "\n",
       "     Quoted fields with embedded newlines are supported except after a\n",
       "     comment character.  Embedded nuls are unsupported: skipping them\n",
       "     (with ‘skipNul = TRUE’) may work.\n",
       "\n",
       "_\bV_\ba_\bl_\bu_\be:\n",
       "\n",
       "     A data frame (‘data.frame’) containing a representation of the\n",
       "     data in the file.\n",
       "\n",
       "     Empty input is an error unless ‘col.names’ is specified, when a\n",
       "     0-row data frame is returned: similarly giving just a header line\n",
       "     if ‘header = TRUE’ results in a 0-row data frame.  Note that in\n",
       "     either case the columns will be logical unless ‘colClasses’ was\n",
       "     supplied.\n",
       "\n",
       "     Character strings in the result (including factor levels) will\n",
       "     have a declared encoding if ‘encoding’ is ‘\"latin1\"’ or ‘\"UTF-8\"’.\n",
       "\n",
       "_\bC_\bS_\bV _\bf_\bi_\bl_\be_\bs:\n",
       "\n",
       "     See the help on ‘write.csv’ for the various conventions for ‘.csv’\n",
       "     files.  The commonest form of CSV file with row names needs to be\n",
       "     read with ‘read.csv(..., row.names = 1)’ to use the names in the\n",
       "     first column of the file as row names.\n",
       "\n",
       "_\bM_\be_\bm_\bo_\br_\by _\bu_\bs_\ba_\bg_\be:\n",
       "\n",
       "     These functions can use a surprising amount of memory when reading\n",
       "     large files.  There is extensive discussion in the ‘R Data\n",
       "     Import/Export’ manual, supplementing the notes here.\n",
       "\n",
       "     Less memory will be used if ‘colClasses’ is specified as one of\n",
       "     the six atomic vector classes.  This can be particularly so when\n",
       "     reading a column that takes many distinct numeric values, as\n",
       "     storing each distinct value as a character string can take up to\n",
       "     14 times as much memory as storing it as an integer.\n",
       "\n",
       "     Using ‘nrows’, even as a mild over-estimate, will help memory\n",
       "     usage.\n",
       "\n",
       "     Using ‘comment.char = \"\"’ will be appreciably faster than the\n",
       "     ‘read.table’ default.\n",
       "\n",
       "     ‘read.table’ is not the right tool for reading large matrices,\n",
       "     especially those with many columns: it is designed to read _data\n",
       "     frames_ which may have columns of very different classes.  Use\n",
       "     ‘scan’ instead for matrices.\n",
       "\n",
       "_\bN_\bo_\bt_\be:\n",
       "\n",
       "     The columns referred to in ‘as.is’ and ‘colClasses’ include the\n",
       "     column of row names (if any).\n",
       "\n",
       "     There are two approaches for reading input that is not in the\n",
       "     local encoding.  If the input is known to be UTF-8 or Latin1, use\n",
       "     the ‘encoding’ argument to declare that.  If the input is in some\n",
       "     other encoding, then it may be translated on input.  The\n",
       "     ‘fileEncoding’ argument achieves this by setting up a connection\n",
       "     to do the re-encoding into the current locale.  Note that on\n",
       "     Windows or other systems not running in a UTF-8 locale, this may\n",
       "     not be possible.\n",
       "\n",
       "_\bR_\be_\bf_\be_\br_\be_\bn_\bc_\be_\bs:\n",
       "\n",
       "     Chambers, J. M. (1992) _Data for models._ Chapter 3 of\n",
       "     _Statistical Models in S_ eds J. M. Chambers and T. J. Hastie,\n",
       "     Wadsworth & Brooks/Cole.\n",
       "\n",
       "_\bS_\be_\be _\bA_\bl_\bs_\bo:\n",
       "\n",
       "     The ‘R Data Import/Export’ manual.\n",
       "\n",
       "     ‘scan’, ‘type.convert’, ‘read.fwf’ for reading _f_ixed _w_idth\n",
       "     _f_ormatted input; ‘write.table’; ‘data.frame’.\n",
       "\n",
       "     ‘count.fields’ can be useful to determine problems with reading\n",
       "     files which result in reports of incorrect record lengths (see the\n",
       "     ‘Examples’ below).\n",
       "\n",
       "     <https://www.rfc-editor.org/rfc/rfc4180> for the IANA definition\n",
       "     of CSV files (which requires comma as separator and CRLF line\n",
       "     endings).\n",
       "\n",
       "_\bE_\bx_\ba_\bm_\bp_\bl_\be_\bs:\n",
       "\n",
       "     ## using count.fields to handle unknown maximum number of fields\n",
       "     ## when fill = TRUE\n",
       "     test1 <- c(1:5, \"6,7\", \"8,9,10\")\n",
       "     tf <- tempfile()\n",
       "     writeLines(test1, tf)\n",
       "     \n",
       "     read.csv(tf, fill = TRUE) # 1 column\n",
       "     ncol <- max(count.fields(tf, sep = \",\"))\n",
       "     read.csv(tf, fill = TRUE, header = FALSE,\n",
       "              col.names = paste0(\"V\", seq_len(ncol)))\n",
       "     unlink(tf)\n",
       "     \n",
       "     ## \"Inline\" data set, using text=\n",
       "     ## Notice that leading and trailing empty lines are auto-trimmed\n",
       "     \n",
       "     read.table(header = TRUE, text = \"\n",
       "     a b\n",
       "     1 2\n",
       "     3 4\n",
       "     \")\n",
       "     "
      ]
     },
     "metadata": {},
     "output_type": "display_data"
    }
   ],
   "source": [
    "?read.table"
   ]
  },
  {
   "cell_type": "markdown",
   "id": "3dc70adb-27d6-4684-a657-7b417fe7493e",
   "metadata": {},
   "source": [
    "Como se muestra en la ayuda de `read.table()` el argumento *header* será TRUE o FALSE si la primera fila del fichero contiene el nombre de las variables o no. Por defecto en la función `read.table()` ese argumento toma el valor FALSE (no tiene cabeceras). Sin embargo, como ya vimos en el paso anterior cuando abrimos el fichero *santander.txt*, en la primera fila aparecen los nombres de las columnas, por lo que debemos indicar la opción *header=TRUE*. \n",
    "\n",
    "Otra opción disponible en esta función es *sep* que representa el delimitador o separador de campos (variables en este caso). Por defecto esta opción toma como separador de campos el espacio en blanco, pero se pueden especificar otros si es necesario. \n",
    "\n",
    "De forma parecida trabajan otras funciones como `read.csv()` o `read.csv2()`. Consultar la ayuda de estas funciones para ver que valores toman por defecto. \n",
    "\n",
    "Desde R también se pueden importar ficheros creados con la hoja de cálculo Excel de Microsoft Office, aquellos con extensión *.xls*. La funcion `read_xls()`, incluida en la librería `readxl()`, nos permite leer este tipo de ficheros. Cargar esa librería con el comando `library(\"readxl\")`. Si no está ya instalada en R esa librería, instalarla (una sola vez) con el\n",
    "comando `install.packages(\"readxl\")` y cargarla después. \n",
    "\n",
    "En cualquier caso también se pueden guardar los datos de los fichero *.xls* con formato *csv* desde una hoja de cálculo e importarlos después desde R con alguna de las funciones anteriores. \n",
    "\n",
    "Como vemos, dependiendo de como se han almacenado los datos en el fichero, la función que debemos usar para abrirlo desde R es distinta. En algunos casos también es posible hacerlo a través de ciertos menús de RStudio, pero resulta más conveniente el uso de las funciones ya que lo ideal es que estas órdenes queden guardadas en nuestro programa para usos futuros del código de R. "
   ]
  },
  {
   "cell_type": "markdown",
   "id": "82140262-cdf8-4155-8735-73332ebd34c1",
   "metadata": {},
   "source": [
    "***PRACTICA TÚ MISMO***\n",
    "\n",
    "Abre una nueva script en RStudio. Utilizando los datos del fichero *Pulsaciones.rda*:\n",
    "1. Calcular el número de personas que miden menos de 183 cm.\n",
    "2. Calcular el porcentaje de personas que miden menos de 183 cm.\n",
    "3. Determinar las mujeres que miden menos de 170 cm."
   ]
  },
  {
   "cell_type": "code",
   "execution_count": 68,
   "id": "61e6847a-da83-4b66-a00a-0015bc8fcd04",
   "metadata": {},
   "outputs": [
    {
     "data": {
      "text/html": [
       "73"
      ],
      "text/latex": [
       "73"
      ],
      "text/markdown": [
       "73"
      ],
      "text/plain": [
       "[1] 73"
      ]
     },
     "metadata": {},
     "output_type": "display_data"
    },
    {
     "data": {
      "text/html": [
       "79.3478260869565"
      ],
      "text/latex": [
       "79.3478260869565"
      ],
      "text/markdown": [
       "79.3478260869565"
      ],
      "text/plain": [
       "[1] 79.34783"
      ]
     },
     "metadata": {},
     "output_type": "display_data"
    },
    {
     "data": {
      "text/html": [
       "22"
      ],
      "text/latex": [
       "22"
      ],
      "text/markdown": [
       "22"
      ],
      "text/plain": [
       "[1] 22"
      ]
     },
     "metadata": {},
     "output_type": "display_data"
    }
   ],
   "source": [
    "# @hidden_cell\n",
    "attach(Pulsaciones)\n",
    "sum(Altura<183)\n",
    "n <- length(Altura)\n",
    "sum(Altura<183)/n*100\n",
    "sum(Sexo==\"mujer\" & Altura<170)"
   ]
  },
  {
   "cell_type": "markdown",
   "id": "d5397f7d-41e6-499e-9118-d228850afe67",
   "metadata": {},
   "source": [
    "# Representaciones gráficas\n",
    "\n",
    "Los gráficos básicos en 2-D se encuentran en el paquete base de R (plot, hist, boxplot, etc.). En la práctica siguiente analizaremos en detalles este tipo de gráficos, aquí solo mostramos algunas funciones básicas importantes de las representaciones gráficas como son:\n",
    "* `plot()`: por defecto genera un gráfico de puntos.\n",
    "* `lines()`: añade líneas a un gráfico.\n",
    "* `points()`: añade puntos a un gráfico.\n",
    "* `text()`: añade etiquetas de texto a un gráfico.\n",
    "* `title()`: añade etiquetas a los ejes X e Y,  un título, subtítulo.\n",
    "* `axis()`: modifica los ticks de los ejes y sus etiquetas.\n",
    "\n",
    "Veamos un ejemplo usando el fichero de datos *Pulsaciones.rda* en el que vamos añadiendo distintos aspectos que mejoran el gráfico utilizando las funciones anteriores."
   ]
  },
  {
   "cell_type": "code",
   "execution_count": 69,
   "id": "56e2a05a-da70-48af-8a68-e9b8f1764f7c",
   "metadata": {},
   "outputs": [
    {
     "data": {
      "image/png": "[encoded data removed]",
      "text/plain": [
       "plot without title"
      ]
     },
     "metadata": {
      "image/png": {
       "height": 420,
       "width": 420
      }
     },
     "output_type": "display_data"
    }
   ],
   "source": [
    "plot(Altura, Peso)"
   ]
  },
  {
   "cell_type": "markdown",
   "id": "139cfda8-b332-429e-b1a3-8882f1f73287",
   "metadata": {},
   "source": [
    "Ajustamos el rango de valores del eje Y con la opción *ylim* (lo mismo podríamos hacer con *xlim* para el eje X) y añadimos una línea horizontal en rojo para un valor del peso de 85 kg. El argumento *lwd* controla la anchura de la línea y *col* el color. Además incluimos con `points()` una cruz (el tipo de símbolo se controla con el argumento *pch*) para un peso de 85 Kg y una altura de 190 cm en color azul. "
   ]
  },
  {
   "cell_type": "code",
   "execution_count": 70,
   "id": "169f85e7-2cad-4b85-a7fc-cc4a38a6aff7",
   "metadata": {},
   "outputs": [
    {
     "data": {
      "image/png": "[encoded data removed]",
      "text/plain": [
       "plot without title"
      ]
     },
     "metadata": {
      "image/png": {
       "height": 420,
       "width": 420
      }
     },
     "output_type": "display_data"
    }
   ],
   "source": [
    "plot(Altura, Peso, ylim=c(40,100)) \n",
    "lines(c(160,190), c(85,85), col=\"red\", lwd=2)\n",
    "points(c(190), c(85), pch=3, col=\"blue\", lwd=3)"
   ]
  },
  {
   "cell_type": "markdown",
   "id": "2af95037-28bf-442c-9e9b-df8b062ab495",
   "metadata": {},
   "source": [
    "Podemos añadir más puntos en otro color, texto, título y diferentes colores a los ejes de la forma: "
   ]
  },
  {
   "cell_type": "code",
   "execution_count": 71,
   "id": "27b2db38-6d0b-4a4d-a2c8-425105d0ed34",
   "metadata": {},
   "outputs": [
    {
     "data": {
      "image/png": "[encoded data removed]",
      "text/plain": [
       "Plot with title “Grafico de prueba”"
      ]
     },
     "metadata": {
      "image/png": {
       "height": 420,
       "width": 420
      }
     },
     "output_type": "display_data"
    }
   ],
   "source": [
    "plot(Altura, Peso, ylim=c(40,100)) \n",
    "lines(c(160,190), c(85,85), col=\"red\", lwd=2)\n",
    "points(c(190), c(85), pch=3, col=\"blue\", lwd=3)\n",
    "points(c(175,180), c(60,65), pch=3, col=\"green\", lwd=4)\n",
    "text(185, 60, \"Fake point\", col=\"darkgreen\", cex=2)\n",
    "title(main=\"Grafico de prueba\", cex.main=1.5)\n",
    "axis(1, col=\"purple\") # Eje X\n",
    "axis(2, col=\"orange\") # Eje Y"
   ]
  },
  {
   "cell_type": "markdown",
   "id": "4b2e2f9c-2b1d-4a91-8192-ee8cbde1bcb4",
   "metadata": {},
   "source": [
    "Existen muchos parámetros de estas funciones que pueden ser sobreescritos usando la función `par()` (consulta la ayuda para más detalles). Por ejemplo: "
   ]
  },
  {
   "cell_type": "code",
   "execution_count": 72,
   "id": "2baef853-5f99-4ee7-b5be-c7d617841a4a",
   "metadata": {},
   "outputs": [
    {
     "data": {
      "text/html": [
       "1"
      ],
      "text/latex": [
       "1"
      ],
      "text/markdown": [
       "1"
      ],
      "text/plain": [
       "[1] 1"
      ]
     },
     "metadata": {},
     "output_type": "display_data"
    },
    {
     "data": {
      "text/html": [
       "1"
      ],
      "text/latex": [
       "1"
      ],
      "text/markdown": [
       "1"
      ],
      "text/plain": [
       "[1] 1"
      ]
     },
     "metadata": {},
     "output_type": "display_data"
    },
    {
     "data": {
      "image/png": "[encoded data removed]",
      "text/plain": [
       "plot without title"
      ]
     },
     "metadata": {
      "image/png": {
       "height": 420,
       "width": 420
      }
     },
     "output_type": "display_data"
    },
    {
     "data": {
      "image/png": "[encoded data removed]",
      "text/plain": [
       "plot without title"
      ]
     },
     "metadata": {
      "image/png": {
       "height": 420,
       "width": 420
      }
     },
     "output_type": "display_data"
    }
   ],
   "source": [
    "plot(Altura, Peso) # Grafico original\n",
    "par(\"pch\") # Simbolo del gráfico usado por defecto.\n",
    "par(\"lwd\") # Anchura de línea usada por defecto\n",
    "par(pch=2) # Modifica el simbolo usado por defecto\n",
    "par(lwd=4) # Modifica la anchura de las lineas definida por defecto\n",
    "plot(Altura, Peso) # Al pintar de nuevo el grafico se incluyen los cambios anteriores\n",
    "detach(Pulsaciones)"
   ]
  },
  {
   "cell_type": "markdown",
   "id": "45b9b21f-9463-43c1-af84-c7a73648dc14",
   "metadata": {},
   "source": [
    "***PRACTICA TÚ MISMO***\n",
    "\n",
    "El fichero de datos *santander.txt* contiene los datos de temperatura media mensual medida en Santander desde 1950 hasta 2003. Se pide:\n",
    "1. Representar las temperaturas medias registradas en febrero durante el periodo 1950-1960. Indicar en qué año se registró la temperatura más baja.\n",
    "2. Representar las temperaturas medias de julio y agosto entre los años 1970 y 1980 (ambos incluidos) y encontrar gráficamente en qué años ésta fue mayor en julio."
   ]
  },
  {
   "cell_type": "code",
   "execution_count": 82,
   "id": "506656e7-0a03-4b10-bfdd-5444bb8870bb",
   "metadata": {},
   "outputs": [
    {
     "data": {
      "image/png": "[encoded data removed]",
      "text/plain": [
       "plot without title"
      ]
     },
     "metadata": {
      "image/png": {
       "height": 420,
       "width": 420
      }
     },
     "output_type": "display_data"
    },
    {
     "data": {
      "image/png": "[encoded data removed]",
      "text/plain": [
       "plot without title"
      ]
     },
     "metadata": {
      "image/png": {
       "height": 420,
       "width": 420
      }
     },
     "output_type": "display_data"
    },
    {
     "data": {
      "image/png": "[encoded data removed]",
      "text/plain": [
       "Plot with title “Valores medios de la temperatura \n",
       "    de Febrero en Santander”"
      ]
     },
     "metadata": {
      "image/png": {
       "height": 420,
       "width": 420
      }
     },
     "output_type": "display_data"
    },
    {
     "data": {
      "text/html": [
       "<style>\n",
       ".list-inline {list-style: none; margin:0; padding: 0}\n",
       ".list-inline>li {display: inline-block}\n",
       ".list-inline>li:not(:last-child)::after {content: \"\\00b7\"; padding: 0 .5ex}\n",
       "</style>\n",
       "<ol class=list-inline><li>19.6</li><li>19.9</li><li>18.5</li><li>19</li><li>18.6</li><li>20.5</li><li>20.8</li><li>18.6</li><li>18.7</li><li>19.6</li><li>18.4</li></ol>\n"
      ],
      "text/latex": [
       "\\begin{enumerate*}\n",
       "\\item 19.6\n",
       "\\item 19.9\n",
       "\\item 18.5\n",
       "\\item 19\n",
       "\\item 18.6\n",
       "\\item 20.5\n",
       "\\item 20.8\n",
       "\\item 18.6\n",
       "\\item 18.7\n",
       "\\item 19.6\n",
       "\\item 18.4\n",
       "\\end{enumerate*}\n"
      ],
      "text/markdown": [
       "1. 19.6\n",
       "2. 19.9\n",
       "3. 18.5\n",
       "4. 19\n",
       "5. 18.6\n",
       "6. 20.5\n",
       "7. 20.8\n",
       "8. 18.6\n",
       "9. 18.7\n",
       "10. 19.6\n",
       "11. 18.4\n",
       "\n",
       "\n"
      ],
      "text/plain": [
       " [1] 19.6 19.9 18.5 19.0 18.6 20.5 20.8 18.6 18.7 19.6 18.4"
      ]
     },
     "metadata": {},
     "output_type": "display_data"
    },
    {
     "data": {
      "text/html": [
       "<style>\n",
       ".list-inline {list-style: none; margin:0; padding: 0}\n",
       ".list-inline>li {display: inline-block}\n",
       ".list-inline>li:not(:last-child)::after {content: \"\\00b7\"; padding: 0 .5ex}\n",
       "</style>\n",
       "<ol class=list-inline><li>19.6</li><li>19.1</li><li>18.2</li><li>21.1</li><li>19.2</li><li>20.7</li><li>20.5</li><li>18.7</li><li>19.2</li><li>19.5</li><li>20.3</li></ol>\n"
      ],
      "text/latex": [
       "\\begin{enumerate*}\n",
       "\\item 19.6\n",
       "\\item 19.1\n",
       "\\item 18.2\n",
       "\\item 21.1\n",
       "\\item 19.2\n",
       "\\item 20.7\n",
       "\\item 20.5\n",
       "\\item 18.7\n",
       "\\item 19.2\n",
       "\\item 19.5\n",
       "\\item 20.3\n",
       "\\end{enumerate*}\n"
      ],
      "text/markdown": [
       "1. 19.6\n",
       "2. 19.1\n",
       "3. 18.2\n",
       "4. 21.1\n",
       "5. 19.2\n",
       "6. 20.7\n",
       "7. 20.5\n",
       "8. 18.7\n",
       "9. 19.2\n",
       "10. 19.5\n",
       "11. 20.3\n",
       "\n",
       "\n"
      ],
      "text/plain": [
       " [1] 19.6 19.1 18.2 21.1 19.2 20.7 20.5 18.7 19.2 19.5 20.3"
      ]
     },
     "metadata": {},
     "output_type": "display_data"
    },
    {
     "data": {
      "image/png": "[encoded data removed]",
      "text/plain": [
       "plot without title"
      ]
     },
     "metadata": {
      "image/png": {
       "height": 420,
       "width": 420
      }
     },
     "output_type": "display_data"
    }
   ],
   "source": [
    "# @hidden_cell\n",
    "sdr <- read.table(\"santander.txt\",\n",
    "    header=TRUE, sep=\"\", na.strings=\"NA\", dec=\".\", strip.white=TRUE)\n",
    "attach(sdr)\n",
    "year.ini <- 1950\n",
    "year.end <- 1960\n",
    "periodo <- yr>=year.ini & yr<=year.end\n",
    "plot(yr[periodo],feb[periodo])\n",
    "plot(yr[periodo],feb[periodo],type=\"b\")\n",
    "plot(yr[periodo],feb[periodo],type=\"b\",main=\"Valores medios de la temperatura \n",
    "    de Febrero en Santander\",xlab=\"Años\",ylab=\"T (ºC)\")\n",
    "\n",
    "\n",
    "year.ini <- 1970\n",
    "year.end <- 1980\n",
    "periodo <- yr>=year.ini & yr<=year.end\n",
    "plot(yr[periodo], jul[periodo], col=\"red\", pch=20, ylab='Temperatura', xlab='', ylim=c(18,21.5))\n",
    "points(yr[periodo], ago[periodo], col=\"blue\", pch=20)\n",
    "ii <- which(jul[periodo]>ago[periodo])\n",
    "points(yr[periodo][ii],jul[periodo][ii], pch=2, lwd=2) \n",
    "jul[periodo]\n",
    "ago[periodo]\n",
    "legend(\"topright\", legend=c(\"Jul\", \"Ago\"), col=c(\"red\", \"blue\"), lwd=1)\n",
    "detach(sdr)"
   ]
  },
  {
   "cell_type": "code",
   "execution_count": null,
   "id": "6d8001db-7e2b-4fc3-b968-670b485c0045",
   "metadata": {},
   "outputs": [],
   "source": []
  }
 ],
 "metadata": {
  "kernelspec": {
   "display_name": "R",
   "language": "R",
   "name": "ir"
  },
  "language_info": {
   "codemirror_mode": "r",
   "file_extension": ".r",
   "mimetype": "text/x-r-source",
   "name": "R",
   "pygments_lexer": "r",
   "version": "4.3.3"
  }
 },
 "nbformat": 4,
 "nbformat_minor": 5
}
